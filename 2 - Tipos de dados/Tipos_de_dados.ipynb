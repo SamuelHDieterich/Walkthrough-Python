{
 "metadata": {
  "language_info": {
   "codemirror_mode": {
    "name": "ipython",
    "version": 3
   },
   "file_extension": ".py",
   "mimetype": "text/x-python",
   "name": "python",
   "nbconvert_exporter": "python",
   "pygments_lexer": "ipython3",
   "version": "3.8.8"
  },
  "orig_nbformat": 2,
  "kernelspec": {
   "name": "python388jvsc74a57bd0b3ba2566441a7c06988d0923437866b63cedc61552a5af99d1f4fb67d367b25f",
   "display_name": "Python 3.8.8 64-bit ('base': conda)"
  }
 },
 "nbformat": 4,
 "nbformat_minor": 2,
 "cells": [
  {
   "source": [
    "# TIPOS DE DADOS\n",
    "----------------\n",
    "\n",
    "Dados servem para guardar informações, mas nem toda informação pertence a uma mesma categoria. Um exemplo simples são os números e palavras, quando eu digo \"quatro\" e \"4\", mesmo você lendo isso da mesma forma, você possivelmente interpretaria isso de maneira diferente dependendo do contexto. E sobre isso que veremos nesta seção: principais tipos de dados, sua estrutura e suas principais utilizações.\n",
    "\n",
    "**Observação:** para verificar a tipagem de uma variável, você pode usar o comando abaixo:\n",
    "\n",
    "`print(type(<variável>))`\n",
    "\n",
    "onde:   \n",
    "`<variável>` deve ser a variável em questão;  \n",
    "`type` retorna o tipo da `<variável>`;  \n",
    "`print` retorna no terminal o valor encontrado."
   ],
   "cell_type": "markdown",
   "metadata": {}
  },
  {
   "source": [
    "## TEXTO\n",
    "--------\n",
    "\n",
    "Qualquer tipo de texto: caracteres, palavras, frases, etc."
   ],
   "cell_type": "markdown",
   "metadata": {}
  },
  {
   "source": [
    "### str\n",
    "\n",
    "Qualquer tipo de texto: caracteres, palavras, frases, etc.\n",
    "\n",
    "**Representação**  \n",
    "Sempre por aspas, sejam simples ou duplas (mesma lógica dos comentários que utilizam esse símbolo)."
   ],
   "cell_type": "markdown",
   "metadata": {}
  },
  {
   "cell_type": "code",
   "execution_count": null,
   "metadata": {},
   "outputs": [],
   "source": [
    "# A variável 'texto' receberá o valor \"Olá, mundo!\"\n",
    "texto = \"Olá, Mundo!\" \n",
    "# texto = str(\"Olá, Mundo!\")\n",
    "\n",
    "# Retorna o valor da variável\n",
    "print(texto)  # Olá, Mundo!\n",
    "\n",
    "# Retorna o tipo\n",
    "print(type(texto))  # <class 'str'>"
   ]
  },
  {
   "source": [
    "## NUMÉRICO\n",
    "-----------\n",
    "\n",
    "Registram diferentes tipos de números, conforme a necessidade: apenas inteiros, reais ou complexos."
   ],
   "cell_type": "markdown",
   "metadata": {}
  },
  {
   "source": [
    "### int\n",
    "\n",
    "Número inteiro.\n",
    "\n",
    "**Representação**  \n",
    "Valor inteiro, sem pontuação, relacionado com a variável (depois do `=`)."
   ],
   "cell_type": "markdown",
   "metadata": {}
  },
  {
   "cell_type": "code",
   "execution_count": null,
   "metadata": {},
   "outputs": [],
   "source": [
    "# A variável 'x' recebe o valor 10\n",
    "x = 10 \n",
    "# x = int(10) \n",
    "\n",
    "# Retorna o valor da variável\n",
    "print(x)  # 10\n",
    "\n",
    "# Retorna o tipo\n",
    "print(type(x))  # <class 'int'>"
   ]
  },
  {
   "source": [
    "### float\n",
    "\n",
    "Ponto flutuante, números reais que aceitam a parte decimal.\n",
    "\n",
    "**Representação**  \n",
    "Valor numérico com a parte decimal, indicado pelo sistema americano como `.` (separador decimal)."
   ],
   "cell_type": "markdown",
   "metadata": {}
  },
  {
   "cell_type": "code",
   "execution_count": null,
   "metadata": {},
   "outputs": [],
   "source": [
    "# A variável 'y' recebe o valor 7.0 (note que não é necessário adionar o 0 depois do ponto)\n",
    "y = 7. # y = float(7) \n",
    "\n",
    "# Retorna o valor da variável\n",
    "print(y)  # 7.0\n",
    "\n",
    "# Retorna o tipo\n",
    "print(type(y))  # <class 'float'>"
   ]
  },
  {
   "source": [
    "### complex\n",
    "\n",
    "Números complexos: parte real e parte imaginária (utilizando o `j` ou `J`). O motivo para ser `j` é não `i` vem da engenharia elétrica que utiliza a primeira letra para representar o número imaginário. Além disso, é muito comum a letra `i` ser usada nos *loops*. Por último, dependendo da fonte, a letra maiúscula, `I`, com o `l`.\n",
    "\n",
    "**Representação**  \n",
    "Valor numérico com a parte real e a parte imaginária, esta última com a letra J (minúsculo ou maiúscula)."
   ],
   "cell_type": "markdown",
   "metadata": {}
  },
  {
   "cell_type": "code",
   "execution_count": null,
   "metadata": {},
   "outputs": [],
   "source": [
    "# A variável 'z' recebe o valor 2 + 3i\n",
    "z = 2 + 3j # z = complex(2, 3)\n",
    "\n",
    "# Retorna o valor da variável\n",
    "print(z)  # (2+3j)\n",
    "\n",
    "# Retorna o tipo\n",
    "print(type(z))  # <class 'complex'>"
   ]
  },
  {
   "source": [
    "## SEQUENCIAL\n",
    "-------------\n",
    "\n",
    "Possuem várias dados que podem ser acessados através de uma sequência."
   ],
   "cell_type": "markdown",
   "metadata": {}
  },
  {
   "source": [
    "### list\n",
    "\n",
    "Listas são conjuntos de dados indexados, iniciando pelo índice 0. Além disso, as listas são modeláveis, podendo ser editadas após a sua criação (acrescentando ou removendo itens, por exemplo).\n",
    "\n",
    "**Representação**  \n",
    "Itens separados por vírgula dentro de `[]`."
   ],
   "cell_type": "markdown",
   "metadata": {}
  },
  {
   "cell_type": "code",
   "execution_count": null,
   "metadata": {},
   "outputs": [],
   "source": [
    "# A variável 'primos' recebe os valores 2, 3, 5, 7, 11\n",
    "primos = [2, 3, 5, 7, 11] # primos = list((2, 3, 5, 7, 11))\n",
    "\n",
    "# Retorna o valor da variável\n",
    "print(primos)  # [2, 3, 5, 7, 11]\n",
    "\n",
    "# Podemos retornar um(alguns) valor(es) da lista a partir dos seus índices\n",
    "print(primos[2])    # Apenas o valor de índice 2 --> 5\n",
    "print(primos[0:3])  # Valores entre o índice 0 até 2  --> [2, 3, 5]\n",
    "\n",
    "# Retorna o tipo\n",
    "print(type(primos))  # <class 'list'>"
   ]
  },
  {
   "source": [
    "As sequências também podem conter diferentes tipos de valores."
   ],
   "cell_type": "markdown",
   "metadata": {}
  },
  {
   "cell_type": "code",
   "execution_count": null,
   "metadata": {},
   "outputs": [],
   "source": [
    "ficha = ['Fulano', 22, 'Masculino'] # Poderia ser: [nome, ano, sexo]\n",
    "print(ficha)  # ['Fulano', 22, 'Masculino']"
   ]
  },
  {
   "source": [
    "Também é possível ter listas dentro de listas. Essa prática é conhecida como _nested lists_ ou _nD-lists_ (_n_ sendo o valor da dimensão da lista)."
   ],
   "cell_type": "markdown",
   "metadata": {}
  },
  {
   "cell_type": "code",
   "execution_count": null,
   "metadata": {},
   "outputs": [],
   "source": [
    "# Matriz identidade 3x3\n",
    "matriz_I = [\n",
    "    [1, 0, 0],\n",
    "    [0, 1, 0],\n",
    "    [0, 0, 1]\n",
    "]\n",
    "\n",
    "print(matriz_I)  # [[1, 0, 0], [0, 1, 0], [0, 0, 1]]\n",
    "\n",
    "# Podemos retornar uma célula específica especiicando a linha e depois a coluna\n",
    "print(matriz_I[1][1])  # 1"
   ]
  },
  {
   "source": [
    "### tuple\n",
    "\n",
    "Tuplas são muito semelhantes as `list`, porém imutáveis, isto é, não podem ser modificadas após a sua criação.\n",
    "\n",
    "**Representação**  \n",
    "Itens separados por vírgula dentro de `()`."
   ],
   "cell_type": "markdown",
   "metadata": {}
  },
  {
   "cell_type": "code",
   "execution_count": null,
   "metadata": {},
   "outputs": [],
   "source": [
    "# Tuplas devem ser uma sequência de itens separados por vírgula e dentro de ().\n",
    "\n",
    "# A variável 'CONSTANTES' recebe os valores 3.1415, 9.81, 1.6\n",
    "CONSTANTES = (3.1415, 9.81, 1.6) # CONSTANTES = tuple((3.1415, 9.81, 1.6))\n",
    "\n",
    "'Quando escrevemos uma variável em toda em maiúscula, ela é considerada uma constante.'\n",
    "\n",
    "# Retorna o valor da variável\n",
    "print(CONSTANTES)  # (3.1415, 9.81, 1.6)\n",
    "\n",
    "# Todas as aplicações apresentadas anteriormente para listas se aplicam nas tuplas.\n",
    "\n",
    "# Retorna o tipo\n",
    "print(type(CONSTANTES))  # <class 'tuple'>"
   ]
  },
  {
   "source": [
    "### range\n",
    "\n",
    "Arranjo de valores, podendo configurar o valor de início, final ($*n-1*$) e o passo. Em outras palavras, é possível fazer uma progressão aritmética, muito útil para *loops*.\n",
    "\n",
    "**Representação**  \n",
    "Método `range()` com até 3 parâmetros:\n",
    "- 1 parâmetro -  `range(n)` - valor final, $n-1$.\n",
    "- 2 parâmetros - `range(start, end)` - valor inicial (`start`) e final (`end`), $n-1$.\n",
    "- 3 parâmetros - `range(start, end, step)` - valor inicial (`start`) e final (`end`), $n-1$, e o passo (`step`)."
   ],
   "cell_type": "markdown",
   "metadata": {}
  },
  {
   "cell_type": "code",
   "execution_count": null,
   "metadata": {},
   "outputs": [],
   "source": [
    "# range pode receber até 3 parâmetros\n",
    "\n",
    "# Apenas 1 parâmetro diz que a variável vai de 0 até o valor estipulado (-1)\n",
    "arr1 = range(5) # 0, 1, 2, 3, 4\n",
    "\n",
    "# Se utilizar dois argumentos, o primeiro será o início e o segundo o fim do arranjo\n",
    "arr2 = range(2, 6) # 2, 3, 4, 5\n",
    "\n",
    "# O terceiro argumento é o espaçamento do arranjo\n",
    "arr3 = range(1, 8, 2)   # 1, 3, 5, 7\n",
    "arr4 = range(5, 0, -1)  # 5, 4, 3, 2, 1 \n",
    "\n",
    "# Retorna o valor da variável\n",
    "print(arr1, arr2, arr3, arr4)  # range(0, 5) range(2, 6) range(1, 8, 2) range(5, 0, -1)\n",
    "\n",
    "# Retorna o tipo\n",
    "print(type(arr1))  # <class 'range'>"
   ]
  },
  {
   "source": [
    "## MAPEÁVEL\n",
    "-----------\n",
    "\n",
    "Possuem vários dados que podem ser acessados através de um \"endereço\" (chave)."
   ],
   "cell_type": "markdown",
   "metadata": {}
  },
  {
   "source": [
    "### dict\n",
    "\n",
    "Dicionários são estruturas de dados que possuem uma lista pareada de chaves e valores. Da mesma forma que podemos chamar um valor de uma lista pelo seu índice, nos dicionários podemos retornar um valor baseado em sua chave associada.\n",
    "\n",
    "**Representação**  \n",
    "Valores pareados, chave e valor, com a dupla separada por `:` e novos itens separados por `,` dentro de `{}`."
   ],
   "cell_type": "markdown",
   "metadata": {}
  },
  {
   "cell_type": "code",
   "execution_count": null,
   "metadata": {},
   "outputs": [],
   "source": [
    "# A variável 'telefones' guarda uma lista de nomes com os seus valores de número de telefone\n",
    "telefones = {\n",
    "    'Fulano'   : '(XX) XXXX-XXXX',\n",
    "    'Ciclano'  : '(YY) YYYY-YYYY',\n",
    "    'Beltrano' : '(ZZ) ZZZZ-ZZZZ' \n",
    "    }\n",
    "# telefones = dict(Fulano = '(XX) XXXX-XXXX', Ciclano = '(YY) YYYY-YYYY', Beltrano = '(ZZ) ZZZZ-ZZZZ')\n",
    "\n",
    "# Retorna o valor da variável\n",
    "print(telefones)  # {'Fulano': '(XX) XXXX-XXXX', 'Ciclano': '(YY) YYYY-YYYY', 'Beltrano': '(ZZ) ZZZZ-ZZZZ'}\n",
    "\n",
    "# Podemos retornar um valor do dicionário a partir dos seus índices\n",
    "print(telefones['Beltrano'])  # (ZZ) ZZZZ-ZZZZ\n",
    "\n",
    "# Retorna o tipo\n",
    "print(type(telefones))  # <class 'dict'>"
   ]
  },
  {
   "source": [
    "## CONJUNTO\n",
    "-----------\n",
    "\n",
    "Conjunto de valores que não possuem sequência definida."
   ],
   "cell_type": "markdown",
   "metadata": {}
  },
  {
   "source": [
    "### set\n",
    "\n",
    "Esse conjunto também é capaz de armazenar diversos valores em uma única variável (como as listas), mas não é ordenável, nem indexado. Isso quer dizer que os valores não podem ser \"chamados\" utilizando algum índice e toda vez estes são mostrados podem estar \"misturados\". Além disso, esse tipo de dado não pode remover algum item e não aceita valores duplicados.\n",
    "\n",
    "**Representação**  \n",
    "Os valores são separados por `,` dentro de `{}`. Contudo, não deve ser vazio, por esse método, caso contrário, vai criar um dicionário)."
   ],
   "cell_type": "markdown",
   "metadata": {}
  },
  {
   "cell_type": "code",
   "execution_count": null,
   "metadata": {},
   "outputs": [],
   "source": [
    "# A variável 'frutas' recebe os valores 'maçã', 'melancia', 'pêra', 'uva'\n",
    "frutas = {'maçã', 'melancia', 'pêra', 'uva'} \n",
    "# frutas = set(('maçã', 'melancia', 'pêra', 'uva'))\n",
    "\n",
    "# Retorna o valor da variável\n",
    "print(frutas) # Possível retorno --> {'pêra', 'uva', 'maçã', 'melancia'}\n",
    "\n",
    "# Retorna o tipo\n",
    "print(type(frutas))  # <class 'set'>"
   ]
  },
  {
   "source": [
    "### frozenset\n",
    "\n",
    "Muito parecido com o `set`, mas não pode ser modificado (acrescentar itens).\n",
    "\n",
    "**Representação**  \n",
    "Método `frozenset()` com uma lista de valores dentro dos `()`."
   ],
   "cell_type": "markdown",
   "metadata": {}
  },
  {
   "cell_type": "code",
   "execution_count": null,
   "metadata": {},
   "outputs": [],
   "source": [
    "# A variável 'materias' recebe os valores 'matemática', 'física', 'química', 'biologia'\n",
    "matérias = frozenset({'matemática', 'física', 'química', 'biologia'})\n",
    "\n",
    "# Retorna o valor da variável\n",
    "print(matérias)  # Possível retorno -->  frozenset({'química', 'biologia', 'física', 'matemática'})\n",
    "\n",
    "# Retorna o tipo\n",
    "print(type(matérias))  # <class 'frozenset'>"
   ]
  },
  {
   "source": [
    "## BOOLEANO\n",
    "-----------\n",
    "\n",
    "Valores booleanos: verdadeiro/falso, 0/1, sim/não, etc."
   ],
   "cell_type": "markdown",
   "metadata": {}
  },
  {
   "source": [
    "### bool\n",
    "\n",
    "Valores booleanos ( `True` | `False` ).\n",
    "\n",
    "**Representação**  \n",
    "Valor `True` (verdadeiro) e `False` (falso)."
   ],
   "cell_type": "markdown",
   "metadata": {}
  },
  {
   "cell_type": "code",
   "execution_count": null,
   "metadata": {},
   "outputs": [],
   "source": [
    "# A variável 'passei' recebe True (verdadeiro)\n",
    "passei = True \n",
    "# passei = bool(1) # Qualquer coisa diferente de 0\n",
    "# não_passei = False \n",
    "# não_passei = bool(0)\n",
    "\n",
    "# Retorna o valor da variável\n",
    "print(passei)  # True\n",
    "\n",
    "# Retorna o tipo\n",
    "print(type(passei))  # <class 'bool'>"
   ]
  },
  {
   "source": [
    "## BINÁRIO\n",
    "----------\n",
    "\n",
    "Valores ligados a memória do dispositivo."
   ],
   "cell_type": "markdown",
   "metadata": {}
  },
  {
   "source": [
    "### bytes\n",
    "\n",
    "Retorna um objeto feito de bytes imutável com um dado tamanho e informação.\n",
    "\n",
    "**Representação**  \n",
    "Valor antecedido por um `b` e entre aspas."
   ],
   "cell_type": "markdown",
   "metadata": {}
  },
  {
   "cell_type": "code",
   "execution_count": null,
   "metadata": {},
   "outputs": [],
   "source": [
    "# A variável \"oi\" recebe o valor \"Hi\" em bytes\n",
    "oi = b'Hi'\n",
    "\n",
    "# Retorna o valor da variável\n",
    "print(oi)  # b'Hi'\n",
    "\n",
    "# Retorna o tipo\n",
    "print(type(oi))  # <class 'bytes'>"
   ]
  },
  {
   "source": [
    "### bytearray\n",
    "\n",
    "Semelhante ao `bytes`, mas é um array mutável.\n",
    "\n",
    "**Representação**  \n",
    "Método `bytearray()` com o tamanho do array dentro dos `()`."
   ],
   "cell_type": "markdown",
   "metadata": {}
  },
  {
   "cell_type": "code",
   "execution_count": null,
   "metadata": {},
   "outputs": [],
   "source": [
    "# A variável array recebe um array de bytes de tamanho 5\n",
    "array = bytearray(5)\n",
    "\n",
    "# Retorna o valor da variável\n",
    "print(array)  # bytearray(b'\\x00\\x00\\x00\\x00\\x00')\n",
    "\n",
    "# Retorna o tipo\n",
    "print(type(array))  # <class 'bytearray'>"
   ]
  },
  {
   "source": [
    "### memoryview\n",
    "\n",
    "Retorna o local de memória de um objeto.\n",
    "\n",
    "**Representação**  \n",
    "Objeto do tipo `byte` dentro do método `memoryview()`."
   ],
   "cell_type": "markdown",
   "metadata": {}
  },
  {
   "cell_type": "code",
   "execution_count": null,
   "metadata": {},
   "outputs": [],
   "source": [
    "# A variável \"vis\" recebe a posição na memória do bytes(5)\n",
    "vis = memoryview(bytes(5))\n",
    "\n",
    "# Retorna o valor da variável\n",
    "print(vis)  # Possível retorno --> <memory at 0x0000024B2DBA4D00>\n",
    "\n",
    "# Retorna o tipo\n",
    "print(type(vis))  # <class 'memoryview'>"
   ]
  }
 ]
}