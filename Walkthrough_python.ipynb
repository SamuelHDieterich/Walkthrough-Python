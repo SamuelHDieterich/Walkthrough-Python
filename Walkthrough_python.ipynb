{
 "metadata": {
  "language_info": {
   "codemirror_mode": {
    "name": "ipython",
    "version": 3
   },
   "file_extension": ".py",
   "mimetype": "text/x-python",
   "name": "python",
   "nbconvert_exporter": "python",
   "pygments_lexer": "ipython3",
   "version": "3.8.5-final"
  },
  "orig_nbformat": 2,
  "kernelspec": {
   "name": "python3",
   "display_name": "Python 3",
   "language": "python"
  }
 },
 "nbformat": 4,
 "nbformat_minor": 2,
 "cells": [
  {
   "source": [
    "# Introdução\n",
    "-------------\n",
    "O Python é uma linguagem de programação conhecida como **OOP (Object Oriented Programming)**, de **alto nível** e **interpretada**.  \n",
    "Vamos quebrar a frase anterior em partes de forma simplificada."
   ],
   "cell_type": "markdown",
   "metadata": {}
  },
  {
   "source": [
    "## Compilada x Interpretada\n",
    "---------------------------\n",
    "\n",
    "Em qualquer linguagem de programação estamos escrevendo um código que será convertido para linguagem de máquina, sendo possível então a utilização desse programa pelo computador ou outros dispositivos eletrônicos.\n",
    "\n",
    "<br>\n",
    "\n",
    "### Compilada\n",
    "\n",
    "Em uma linguagem compilada, após concluir um programa, precisamos passar por um programa chamado \"compilador\" que irá ler o programa, verificar algum erro estrutural e criar um arquivo executável para a plataforma deseada. Dessa forma, com esse novo arquivo, não conseguimos mais editar o código (partindo apenas desse material) e não precisamos de mais nenhum outro programa para rodar o script.\n",
    "\n",
    "**Vantagem:** Depois de compilado, o programa pode rodar em outros dispositivos (sem a interface de desenvolvedor).\n",
    "**Desvantagem:** Não é possível verificar ou editá-lo possuindo apenas o arquivo compilado.  \n",
    "**Exemplos:** C, C++, Fortran, Visual Basic   \n",
    "\n",
    "<br>\n",
    "\n",
    "### Interpretada\n",
    "\n",
    "Já em uma linguagem interpretada, o código não precisa passar por esse compilador, mas para o programa funcionar é necessário executar o programa utilizando um \"interpretador\" que irá ler o programa enquanto está rodando o código.\n",
    "\n",
    "**Vantagem:** O programa pode ser executado linha a linha, sendo para o processo de debugging ou ainda utilizar os notebooks (como este :D).  \n",
    "**Desvantagem:** O programa só poderá rodar possuindo um interpretador copatível com a versão utilizada e costuma ser bem mais lento (em ordens de magnitude).  \n",
    "**Exemplos:** Python, R, C#, JavaScript"
   ],
   "cell_type": "markdown",
   "metadata": {}
  },
  {
   "source": [
    "## Baixo nível x Alto nível\n",
    "---------------------------\n",
    "\n",
    "No tópico anterior foi comentado que qualquer código deve passar por um procedimento para a máquina conseguir ler o programa (deixar em **linguagem de máquina**). Da mesma forma, podemos programar, conforme a linguagem, de uma maneira mais \"próxima\" dessa conversão ou mais parecido com uma linguagem humana, criando assim um espectro conhecido como \"nível\" da linguagem dentro da programação.\n",
    "\n",
    "<br>\n",
    "\n",
    "### Baixo nível\n",
    "\n",
    "Uma linguagem de baixo nível significa que está está muito próxima do comportamento tomado pela máquina. Dessa forma, a linguagem costuma apresentar uma interpretação mais diícil, mas permite mais controle do sistema. Além disso, funções mais complezas podem ser difícil de implementar sem cair em centenas de linhas de código.\n",
    "\n",
    "**Vantagem:** Costumam-se ter mais controle do programa e do funcionamento da máquina, o que também comprote a performance do mesmo.  \n",
    "**Desvantagem:** Possui uma sintaxe mais complicada e pouco ágil para os programadores.  \n",
    "**Exemplos:** Assembly e binário\n",
    "\n",
    "<br>\n",
    "\n",
    "### Alto nível\n",
    "\n",
    "Uma linguagem de baixo nível significa que está está muito próxima do comportamento tomado pela máquina. Dessa forma, a linguagem costuma apresentar uma interpretação mais diícil, mas permite mais controle do sistema. Além disso, funções mais complezas podem ser difícil de implementar sem cair em centenas de linhas de código.\n",
    "\n",
    "**Vantagem:** Costumam-se ser mais fáceis de aprender e agéis de programar, pela simplicidade da sintaxe.  \n",
    "**Desvantagem:** Precisam passar pelo procedimento de compilação ou interpretação, se tornando programas mais lentos.  \n",
    "**Exemplos:** Python e Java"
   ],
   "cell_type": "markdown",
   "metadata": {}
  },
  {
   "source": [
    "## Programação Orientada a Objetos\n",
    "----------------------------------\n",
    "\n",
    "Esse já é um tópico mais avançado, mas certamente é uma das funcionalidades mais fascinantes e poderosas em algumas linguagens. Basicamente, um programa pode ser escrito em torno de objetos que podem carregar dados, informações, atributos e métodos. Embora isso provavelmente não esteja claro, você verá que em programas mais complexos, esse mecanismo se torna mais comum pelas suas capacidades e diversidades de uso."
   ],
   "cell_type": "markdown",
   "metadata": {}
  },
  {
   "source": [
    "## Observações\n",
    "--------------\n",
    "\n",
    "O que acha de já comentarmos de algumas coisas comum ao estar programando em Python para já ficarmos atentos?  \n",
    "Vamos para a lista:"
   ],
   "cell_type": "markdown",
   "metadata": {}
  },
  {
   "source": [
    "### Versões\n",
    "\n",
    "O Python possui duas versões principais: Python2 e Python3. Contudo, o Python2 não possui mais suporte e deve ser evitado sempre que possível (até porque o \"3\" possui mais funcionalidades).  \n",
    "Além disso, dentro do Python 3.x, por exemplo, ainda temos outras \"sub-versões\" do interpretador. Dessa forma, preste atenção ao utilizar a versão recomendada ou exigida, principalmente quando estiver utilizando bibliotecas externas (veremos isso em breve)."
   ],
   "cell_type": "markdown",
   "metadata": {}
  },
  {
   "source": [
    "### Experientes\n",
    "\n",
    "Aos que já mexeram em outras linguagens de programação, podem acabar percebendo duas principais diferenças na sintaxe em relação ao Python. A prinmeira e mais óbvia é a exclusão da utilização do famoso \";\". A segunda, relacionada com a primeira, é a importancia da indentação na nova linaguagem que você está aprendendo. Isto pois em outras linguagens é muito comum a utilização de parênteses e chaves para agrupar um \"bloco\" de conteúdo, não sendo (sempre) exigida alguma formatação específica. Já no Python, esses \"blocos\" são inexistentes, de forma que precisamos respeitar uma tabulação do conteúdo para o interpretador compreender corretamente o programa."
   ],
   "cell_type": "markdown",
   "metadata": {}
  },
  {
   "source": [
    "### Comentários\n",
    "\n",
    "Os comentários durante o código possuem duas funcionalidades principais: acrescentar explicações ao longo do programa ou colocar uma parte do pprograma para ser \"pulada\" (ao invés de deletar e perder uma parte do código). As duas opções são boas práticas de programação em qualquer linguagem e podem ser feitas de várias formas no Python."
   ],
   "cell_type": "markdown",
   "metadata": {}
  },
  {
   "cell_type": "code",
   "execution_count": null,
   "metadata": {},
   "outputs": [],
   "source": [
    "# Podemos usar o símbolo de \"#\" antes do texto e tudo que vier em seguida será desconsiderada pelo interpretador\n",
    "\n",
    "'Podemos também usar aspas simples'\n",
    "\"Aspas duplas também podem ser utilizadas\"\n",
    "\n",
    "'''\n",
    "Para comentários com\n",
    "mais de uma linha, devemos\n",
    "repetir o par de aspas 3 vezes.\n",
    "'''\n",
    "\n",
    "\"\"\"\n",
    "O mesmo vale para\n",
    "aspas duplas.\n",
    "\"\"\""
   ]
  },
  {
   "source": [
    "### Formatação\n",
    "\n",
    "Como boa prática de programação é recomendado seguir uma formação para o código, de forma a deixá-lo \"legível\" para todos os usuários. Existe uma \"norma\" chamada **PEP 8** que traz um guia de dicas úteis para esse procedimento, mas isso se pega com a experiência também."
   ],
   "cell_type": "markdown",
   "metadata": {}
  },
  {
   "source": [
    "### Dúvidas\n",
    "\n",
    "O Python é uma linguagem em alta no momento e possui muita documentação por aí: fóruns, wikis, canais no YouTube, cursos, etc. Então, se tiver alguma dúvida ou problema, generealize-o (ou seja, não deixe ele específico para o seu projeto) e procure na internet que você provalvemente vai encontrar algum material a respeito. Você provavelmente conhecerá o StackOverFlow muito em breve 😂"
   ],
   "cell_type": "markdown",
   "metadata": {}
  },
  {
   "source": [
    "## Tradição\n",
    "-----------\n",
    "\n",
    "Existe uma tradição ao aprender uma nova linguagem de programação em fazer um programa simples: mostrar ao usuário a frase \"Hello, World!\" (\"Olá, Mundo!\"). Rés a lenda que dá azar não fazer esse procedimento, então, vamos lá né 😅"
   ],
   "cell_type": "markdown",
   "metadata": {}
  },
  {
   "source": [
    "# O \"print\" é um método que retorna no terminal o valor dentro dos \"parênteses\".\n",
    "# Para retornar um texto, precisamos adioná-lo entre aspas simples ou duplas.\n",
    "\n",
    "print('Hello, World!') \n",
    "print(\"Olá, Mundo!\")"
   ],
   "cell_type": "code",
   "metadata": {},
   "execution_count": null,
   "outputs": []
  },
  {
   "source": [
    "# Tipos de dados\n",
    "----------------\n",
    "\n",
    "Dados servem para guardar informações, mas nem toda informação pertence a uma mesma categoria. Um exemplo simples são os números e palavras, quando eu digo \"quatro\" e \"4\", mesmo você lendo isso da mesma forma, você possivelmente interpretaria isso de maneira diferente dependendo do contexto. E sobre isso que veremos nesta seção: principais tipos de dados, sua estrutura e suas principais utilizações.\n",
    "\n",
    "**Observação:** para verificar a tipagem de uma variável, você pode usar o comando abaixo\n",
    "\n",
    "`print(type(\"variável\"))`\n",
    "\n",
    "onde:  \n",
    "`variável` deve ser a variável em questão (sem as aspas);  \n",
    "`type` retorna o tipo da `variável`;   \n",
    "`print` retorna no terminal o valor encontrado.\n",
    "\n",
    "Vamos separar por categorias\\*:\n",
    "\n",
    "_\\*Serão apresentadas apenas os tipos básicos e mais comuns na programação em Python, para evitar complexidade desnecessária nesse começo._"
   ],
   "cell_type": "markdown",
   "metadata": {}
  },
  {
   "source": [
    "## Texto\n",
    "--------"
   ],
   "cell_type": "markdown",
   "metadata": {}
  },
  {
   "source": [
    "### str\n",
    "\n",
    "Qualquer tipo de texto."
   ],
   "cell_type": "markdown",
   "metadata": {}
  },
  {
   "cell_type": "code",
   "execution_count": null,
   "metadata": {},
   "outputs": [],
   "source": [
    "# Strings são representadas sempre por aspas, sejam simples ou duplas, e seguem a mesma lógica dos comentários que utilizam esse símbolo.\n",
    "\n",
    "# A variável 'text' receberá o valor \"Olá, mundo!\"\n",
    "text = \"Olá, Mundo!\" # text = str(\"Olá, Mundo!\")\n",
    "\n",
    "# Retorna o valor da variável\n",
    "print(text)\n",
    "\n",
    "# Retorna o tipo\n",
    "print(type(text))\n"
   ]
  },
  {
   "source": [
    "## Numéricos\n",
    "------------"
   ],
   "cell_type": "markdown",
   "metadata": {}
  },
  {
   "source": [
    "### int\n",
    "\n",
    "Número inteiro"
   ],
   "cell_type": "markdown",
   "metadata": {}
  },
  {
   "cell_type": "code",
   "execution_count": null,
   "metadata": {},
   "outputs": [],
   "source": [
    "# Para uma variável receber um número inteiro, basta digitá-lo depois do sinal de \"=\" (sem nenhum tipo de pontuação).\n",
    "\n",
    "# A variável 'x' recebe o valor 10\n",
    "x = 10 # x = int(10) \n",
    "\n",
    "# Retorna o valor da variável\n",
    "print(x)\n",
    "\n",
    "# Retorna o tipo\n",
    "print(type(x))"
   ]
  },
  {
   "source": [
    "### float\n",
    "\n",
    "Ponto flutuante, números reais que aceitam a parte decimal."
   ],
   "cell_type": "markdown",
   "metadata": {}
  },
  {
   "cell_type": "code",
   "execution_count": null,
   "metadata": {},
   "outputs": [],
   "source": [
    "# Diferentemente do int, para declarar uma variável como float, basta adicionar um '.' (separador decimal).\r\n",
    "\r\n",
    "# A variável 'y' recebe o valor 7.0 (note que não é necessário adionar o 0 depois do ponto)\r\n",
    "y = 7. # x = float(7) \r\n",
    "\r\n",
    "# Retorna o valor da variável\r\n",
    "print(y)\r\n",
    "\r\n",
    "# Retorna o tipo\r\n",
    "print(type(y))"
   ]
  },
  {
   "source": [
    "### complex\n",
    "\n",
    "Números complexos: parte real e parte imaginária (utilizando o 'j' ou 'J')."
   ],
   "cell_type": "markdown",
   "metadata": {}
  },
  {
   "cell_type": "code",
   "execution_count": null,
   "metadata": {},
   "outputs": [],
   "source": [
    "# A parte real pode ser escrita como um int/float e para a imaginária basta adicionar o j/J.\n",
    "\n",
    "# A variável 'z' recebe o valor 2 + 3i\n",
    "z = 2 + 3j # z = complex(2, 3)\n",
    "\n",
    "# Retorna o valor da variável\n",
    "print(z)\n",
    "\n",
    "# Retorna o tipo\n",
    "print(type(z))"
   ]
  },
  {
   "source": [
    "## Sequenciais\n",
    "--------------"
   ],
   "cell_type": "markdown",
   "metadata": {}
  },
  {
   "source": [
    "### list\n",
    "\n",
    "Listas são conjuntos de dados indexados, iniciando pelo índice 0. Além disso, as listas são modeláveis, podendo ser editadas após a sua criação (acrescentando ou removendo itens, por exemplo)."
   ],
   "cell_type": "markdown",
   "metadata": {}
  },
  {
   "cell_type": "code",
   "execution_count": null,
   "metadata": {},
   "outputs": [],
   "source": [
    "# Listas devem ser uma sequência de itens separados por vírgula e dentro de [].\n",
    "\n",
    "# A variável 'primos' recebe os valores 2, 3, 5, 7, 9\n",
    "primos = [2, 3, 5, 7, 9] # primos = list((2, 3, 5, 7, 9))\n",
    "\n",
    "# Retorna o valor da variável\n",
    "print(primos)\n",
    "\n",
    "# Podemos retornar um(alguns) valor(es) da lista a partir dos seus índices\n",
    "print(primos[2])\n",
    "print(primos[0:3])\n",
    "\n",
    "# Retorna o tipo\n",
    "print(type(primos))"
   ]
  },
  {
   "cell_type": "code",
   "execution_count": null,
   "metadata": {},
   "outputs": [],
   "source": [
    "# As sequências também podem conter diferentes tipos de valores\n",
    "\n",
    "param = ['Fulano', 22, 'Masculino'] # Poderia ser: [nome, ano, sexo]\n",
    "print(param)"
   ]
  },
  {
   "cell_type": "code",
   "execution_count": null,
   "metadata": {},
   "outputs": [],
   "source": [
    "# E até mesmo listas dentro de listas\n",
    "# Conhecido como nestes lists ou nD-list ('n' sendo o valor da dimensão da lista)\n",
    "\n",
    "matriz_I = [\n",
    "    [1, 0, 0],\n",
    "    [0, 1, 0],\n",
    "    [0, 0, 1]\n",
    "]\n",
    "\n",
    "print(matriz_I)\n",
    "\n",
    "# Podemos retornar uma célula específica especiicando a linha e depois a coluna\n",
    "print(matriz_I[1][1])"
   ]
  },
  {
   "source": [
    "### tuple\n",
    "\n",
    "Tuplas são muito semelhantes as listas, porém imutáveis, isto é, não podendo ser modificadas após a criação das mesmas."
   ],
   "cell_type": "markdown",
   "metadata": {}
  },
  {
   "cell_type": "code",
   "execution_count": null,
   "metadata": {},
   "outputs": [],
   "source": [
    "# Tuplas devem ser uma sequência de itens separados por vírgula e dentro de ().\n",
    "\n",
    "# A variável 'CONSTANTES' recebe os valores 3.1415, 9.81, 1.6\n",
    "CONSTANTES = (3.1415, 9.81, 1.6) # CONSTANTES = tuple((3.1415, 9.81, 1.6))\n",
    "\n",
    "'Quando escrevemos uma variável em CAPS LOCK, ela é considerada uma constante.'\n",
    "\n",
    "# Retorna o valor da variável\n",
    "print(CONSTANTES)\n",
    "\n",
    "# Todas as aplicações apresentadas anteriormente para listas se aplicam nas tuplas.\n",
    "\n",
    "# Retorna o tipo\n",
    "print(type(CONSTANTES))"
   ]
  },
  {
   "source": [
    "### range\n",
    "\n",
    "Arranjo de valores"
   ],
   "cell_type": "markdown",
   "metadata": {}
  },
  {
   "cell_type": "code",
   "execution_count": null,
   "metadata": {},
   "outputs": [],
   "source": [
    "# range pode receber até 3 parâmetros\n",
    "\n",
    "# Apenas 1 parâmetro diz que a variável vai de 0 até o valor estipulado (-1)\n",
    "arr1 = range(5) # 0,1,2,3,4\n",
    "\n",
    "# Se utilizar dois argumentos, o primeiro será o início e o segundo o fim do arranjo\n",
    "arr2 = range(2, 6) # 2,3,4,5\n",
    "\n",
    "# O terceiro argumento é o espaçamento do arranjo\n",
    "arr3 = range(1,8) # 1,3,5,7\n",
    "\n",
    "# Retorna o valor da variável\n",
    "print(arr1, arr2, arr3)\n",
    "\n",
    "# Todas as aplicações apresentadas anteriormente para listas se aplicam nas tuplas.\n",
    "\n",
    "# Retorna o tipo\n",
    "print(type(arr1))"
   ]
  },
  {
   "source": [
    "## Mapeável\n",
    "-----------"
   ],
   "cell_type": "markdown",
   "metadata": {}
  },
  {
   "source": [
    "## dict\n",
    "\n",
    "Dicionários são estruturas de dados que possuem uma lista pareada de chaves e valores. Da mesma forma que podemos chamar um valor de uma lista pelo seu índice, nos dicionários podemos retornar um valor baseado em sua chave associada."
   ],
   "cell_type": "markdown",
   "metadata": {}
  },
  {
   "cell_type": "code",
   "execution_count": null,
   "metadata": {},
   "outputs": [],
   "source": [
    "# As chaves são separadas por \":\" dos seus valores e os itens são separador por vírgula. Os dicionários podem ser escritos utilizando as {}.\n",
    "\n",
    "# A variável 'telefones' guarda uma lista de nomes com os seus valores de número de telefone\n",
    "telefones = {\n",
    "    'Fulano'   : '(XX) XXXX-XXXX',\n",
    "    'Ciclano'  : '(YY) YYYY-YYYY',\n",
    "    'Beltrano' : '(ZZ) ZZZZ-ZZZZ' \n",
    "    }\n",
    "# telefones = dict(Fulano = '(XX) XXXX-XXXX', Ciclano = '(YY) YYYY-YYYY', Beltrano = '(ZZ) ZZZZ-ZZZZ')\n",
    "\n",
    "# Retorna o valor da variável\n",
    "print(telefones)\n",
    "\n",
    "# Podemos retornar um(alguns) valor(es) da lista a partir dos seus índices\n",
    "print(telefones['Beltrano'])\n",
    "\n",
    "# Retorna o tipo\n",
    "print(type(telefones))"
   ]
  },
  {
   "source": [
    "## Conjuntos\n",
    "------------"
   ],
   "cell_type": "markdown",
   "metadata": {}
  },
  {
   "source": [
    "### set\n",
    "\n",
    "Esse conjunto também é capaz de armazenar diversos valores em uma única variável (como as listas), mas não é ordenável, nem indexado. Isso quer dizer que os valores não podem ser \"chamados\" utilizando algum índice e toda vez estes podem estar \"misturados\". Além disso, esse tipo de dado não pode remover itens e não aceita valores duplicados."
   ],
   "cell_type": "markdown",
   "metadata": {}
  },
  {
   "cell_type": "code",
   "execution_count": null,
   "metadata": {},
   "outputs": [],
   "source": [
    "# O set pode ser declarado usando {}, mas não deve ser vazio (caso contrário, vai criar um dicionário)\r\n",
    "\r\n",
    "# A variável 'frutas' recebe os valores 'maçã', 'melancia', 'pêra', 'uva'\r\n",
    "frutas = {'maçã', 'melancia', 'pêra', 'uva'} # frutas = set(('maçã', 'melancia', 'pêra', 'uva'))\r\n",
    "\r\n",
    "# Retorna o valor da variável\r\n",
    "print(frutas)\r\n",
    "\r\n",
    "# Retorna o tipo\r\n",
    "print(type(frutas))"
   ]
  },
  {
   "source": [
    "### frozenset\n",
    "\n",
    "Muito parecido com o `set`, mas não pode ser modificado (acrescentar itens)."
   ],
   "cell_type": "markdown",
   "metadata": {}
  },
  {
   "cell_type": "code",
   "execution_count": null,
   "metadata": {},
   "outputs": [],
   "source": [
    "# A variável 'materias' recebe os valores 'matemática', 'física', 'química', 'biologia'\n",
    "materias = frozenset({'matemática', 'física', 'química', 'biologia'})\n",
    "\n",
    "# Retorna o valor da variável\n",
    "print(materias)\n",
    "\n",
    "# Retorna o tipo\n",
    "print(type(materias))"
   ]
  },
  {
   "source": [
    "## Booleano\n",
    "-----------"
   ],
   "cell_type": "markdown",
   "metadata": {}
  },
  {
   "source": [
    "### bool\n",
    "\n",
    "Valores booleanos ( True | False )"
   ],
   "cell_type": "markdown",
   "metadata": {}
  },
  {
   "cell_type": "code",
   "execution_count": null,
   "metadata": {},
   "outputs": [],
   "source": [
    "# A variável 'passei' recebe True (verdadeiro)\n",
    "passei = True # passei = bool(1), qualquer coisa diferente de 0\n",
    "# não_passei = False # não_passei = bool(0)\n",
    "\n",
    "# Retorna o valor da variável\n",
    "print(passei)\n",
    "\n",
    "# Retorna o tipo\n",
    "print(type(passei))"
   ]
  },
  {
   "source": [
    "## Binários\n",
    "-----------"
   ],
   "cell_type": "markdown",
   "metadata": {}
  },
  {
   "source": [
    "### bytes\n",
    "\n",
    "Retorna um objeto feito de bytes imutável com um dado tamanho e informação."
   ],
   "cell_type": "markdown",
   "metadata": {}
  },
  {
   "cell_type": "code",
   "execution_count": null,
   "metadata": {},
   "outputs": [],
   "source": [
    "# Se for usar uma string, basta adicionar um 'b' na frente.\n",
    "oi = b'Hi'\n",
    "\n",
    "# Retorna o valor da variável\n",
    "print(oi)\n",
    "\n",
    "# Retorna o tipo\n",
    "print(type(oi))"
   ]
  },
  {
   "source": [
    "### bytearray\n",
    "\n",
    "Semelhante ao `bytes`, mas é um array mutavel."
   ],
   "cell_type": "markdown",
   "metadata": {}
  },
  {
   "cell_type": "code",
   "execution_count": null,
   "metadata": {},
   "outputs": [],
   "source": [
    "array = bytearray(5)\n",
    "\n",
    "# Retorna o valor da variável\n",
    "print(array)\n",
    "\n",
    "# Retorna o tipo\n",
    "print(type(array))"
   ]
  },
  {
   "source": [
    "### memoryview (?)\n",
    "\n",
    "Retorna o local de memória de um objeto. (Será que é mesmo uma datatype e não um método?)"
   ],
   "cell_type": "markdown",
   "metadata": {}
  },
  {
   "cell_type": "code",
   "execution_count": null,
   "metadata": {},
   "outputs": [],
   "source": [
    "# Se for usar uma string, basta adicionar um 'b' na frente.\n",
    "vis = memoryview(bytes(5))\n",
    "\n",
    "# Retorna o valor da variável\n",
    "print(vis)\n",
    "\n",
    "# Retorna o tipo\n",
    "print(type(vis))"
   ]
  },
  {
   "source": [
    "# Principais métodos\n",
    "--------------------\n",
    "\n",
    "Métodos são funções que podem receber algum tipo de dado e parâmetros a fim de retornar algum novo valor ou dado.  \n",
    "Nesta seção, vamos conferir os métodos mais comuns utilizados no dia-a-dia da programação.\n",
    "\n",
    "Os métodos costumam aarecer de duas formas principais: `método(parâmetros)` ou `dado.método(parâmetros)`. Isso ficará mais claro com o passar do tempo."
   ],
   "cell_type": "markdown",
   "metadata": {}
  },
  {
   "cell_type": "code",
   "execution_count": null,
   "metadata": {},
   "outputs": [],
   "source": [
    "\"\"\"\n",
    "Print\n",
    "-----\n",
    "\n",
    "Sim, você já viu esse método antes. Como você deve saber, ele retorna o valor passado no terminal. \n",
    "Além disso, vamos ver outras opções interesssantes para o print.\n",
    "\"\"\"\n",
    "\n",
    "# Você pode mesclar texto (string) com outras variáveis no mesmo print.\n",
    "# Essas são as chamadas f-strings\n",
    "\n",
    "nome = 'John'\n",
    "idade = 27\n",
    "\n",
    "print(f'Olá, meu nome é {nome} e tenho {idade} anos.')\n",
    "# Note que para uma f-string basta adicionar o 'f' na frente e para cada variável adicionar as chaves {}.\n",
    "\n",
    "# Alternativamente...\n",
    "print('Olá, meu nome é {} e tenho {} anos.'.format(nome,idade))"
   ]
  },
  {
   "cell_type": "code",
   "execution_count": null,
   "metadata": {},
   "outputs": [],
   "source": [
    "\"\"\"\n",
    "Input\n",
    "-----\n",
    "\n",
    "Muitas vezes queremos que o usuário nos forneça alguma tipo de informação ou dado. Para isso, podemos usar o método 'input' que registrar o que for digitado no terminal.\n",
    "Cuidado: esse método registra por padrão uma string, então se você está esperando um número, acrescente o int(), float() e assim por diante.\n",
    "\"\"\"\n",
    "\n",
    "# Registra o que o usuário digitar na variável 'a'\n",
    "a = input('Digite alguma coisa (depois dê enter): ')\n",
    "\n",
    "# Printa o que foi registrado\n",
    "print(f'Você digitou a seguinte mensagem: {a}')"
   ]
  },
  {
   "cell_type": "code",
   "execution_count": null,
   "metadata": {},
   "outputs": [],
   "source": [
    "\"\"\"\n",
    "Split\n",
    "-----\n",
    "\n",
    "Também é utilizado para strings, caso se deseja separar um conjunto de palavras em uma lista de palavras.\n",
    "\"\"\"\n",
    "\n",
    "frase = \"Rosas são vermelhas. Violetas são azuis.\"\n",
    "separado = frase.split() # Veja que estamos passando o método tendo primeiro definido a variável\n",
    "\n",
    "print(separado)"
   ]
  },
  {
   "cell_type": "code",
   "execution_count": null,
   "metadata": {},
   "outputs": [],
   "source": [
    "\"\"\"\n",
    "Len\n",
    "---\n",
    "\n",
    "Utilizado em qualquer tipo de estrutura de dados (list, tuple, set, inclusive str) para retornar o tamanho deste.\n",
    "\"\"\"\n",
    "\n",
    "points = [1, 4, 7, 3, 10]\n",
    "\n",
    "print(len(points))"
   ]
  },
  {
   "cell_type": "code",
   "execution_count": null,
   "metadata": {},
   "outputs": [],
   "source": [
    "\"\"\"\n",
    "Append\n",
    "------\n",
    "\n",
    "Adiciona um valor ao final de uma lista.\n",
    "\"\"\"\n",
    "\n",
    "points.append(55)\n",
    "print(points)"
   ]
  },
  {
   "cell_type": "code",
   "execution_count": null,
   "metadata": {},
   "outputs": [],
   "source": [
    "# Lembra que as tuplas são imutáveis?\n",
    "\n",
    "países = ('Brasil', 'EUA', 'Alemanha', 'Canadá', 'Itália')\n",
    "\n",
    "países.append('Japão') # AttributeError: 'tuple' object has no attribute 'append'"
   ]
  },
  {
   "cell_type": "code",
   "execution_count": null,
   "metadata": {},
   "outputs": [],
   "source": [
    "\"\"\"\n",
    "Remove\n",
    "------\n",
    "\n",
    "Remove um item de uma lista dado o seu valor.\n",
    "\"\"\"\n",
    "\n",
    "points.remove(7)\n",
    "print(points)"
   ]
  },
  {
   "cell_type": "code",
   "execution_count": null,
   "metadata": {},
   "outputs": [],
   "source": [
    "# Lembra que as tuplas são imutáveis?\n",
    "\n",
    "países = ('Brasil', 'EUA', 'Alemanha', 'Canadá', 'Itália')\n",
    "\n",
    "países.remove('EUA') # AttributeError: 'tuple' object has no attribute 'remove'"
   ]
  },
  {
   "cell_type": "code",
   "execution_count": null,
   "metadata": {},
   "outputs": [],
   "source": [
    "\"\"\"\n",
    "Sum\n",
    "---\n",
    "\n",
    "Soma o valor de todos os itens em um conjunto numérico.\n",
    "\"\"\"\n",
    "\n",
    "soma = sum(points)\n",
    "print(soma)"
   ]
  },
  {
   "cell_type": "code",
   "execution_count": null,
   "metadata": {},
   "outputs": [],
   "source": [
    "\"\"\"\n",
    "Operações básicas\n",
    "-----------------\n",
    "\n",
    "Esse não se trata de um método, mas acredito que seja importante mostrar as principais operações numéricas.\n",
    "\"\"\"\n",
    "\n",
    "x = 6\n",
    "y = 2\n",
    "\n",
    "# Soma\n",
    "print(f'{x}+{y} = {x + y}')\n",
    "\n",
    "# Subtração\n",
    "print(f'{x}-{y} = {x - y}')\n",
    "\n",
    "# Multiplicação\n",
    "print(f'{x}x{y} = {x * y}')\n",
    "\n",
    "# Divisão\n",
    "print(f'{x}/{y} = {x / y}') # Note que o resuldo será um float, mesmo o resultando sendo inteiro.\n",
    "\n",
    "# Potência\n",
    "print(f'{x}^{y} = {x ** y}') # Alternativamente: pow(x,y)\n",
    "\n",
    "# Divisão inteira\n",
    "print(f'Parte inteira de {x}/{y} é {x // y}')\n",
    "\n",
    "# Resto da divisão\n",
    "print(f'Resto de {x}/{y} é {x % y}')"
   ]
  },
  {
   "source": [
    "Existem diversos métodos para cada um dos tipos de dados já apresentados. Existe diversos materiais a respeito disso pela internet."
   ],
   "cell_type": "markdown",
   "metadata": {}
  },
  {
   "source": [
    "# Bibliotecas\n",
    "-------------\n",
    "\n",
    "As bibliotecas servem para poder adicionar funcionalidades diversas no programa, sendo utilizando códigos produzidos por você ou pela comunidade. Vejamos como podemos estar \"chamando\" essas bibliotecas e quais são as mais utilizadas.\n",
    "\n",
    "**Observações:** Sempre importe as bibliotecas que serão utilizadas na parte superior do código.\n",
    "\n",
    "Tendo a biblioteca instalada em seu ambiente de trabalho, podemos importar as bibliotecas ou funções de duas formas:\n",
    "\n",
    "1. Importar todas as funções disponíveis no pacote.\n",
    "\n",
    "``` \n",
    "import <biblioteca>\n",
    "```\n",
    "\n",
    "Desse jeito, teremos que chamar uma função desta biblioteca pelo seguinte formato: `biblioteca.função()`.\n",
    "\n",
    "2. Importar apenas algumas funções específicas.\n",
    "\n",
    "```\n",
    "from <biblioteca> import <função>\n",
    "```\n",
    "\n",
    "Desta forma, basta chamar a função importada no formato: `função()`.\n",
    "\n",
    "Uma prática comum é renomear as bibliotecas ou funções, geralmente para deixar em uma forma mais enxuta. Assim, ao invés de chamarmos uma função por `biblioteca.função()`, por exemplo, chamamos por `<novo nome>.função()`. Para isso, usamos a expressão `as <novo nome>`:\n",
    "\n",
    "```\n",
    "import <biblioteca> as <novo nome>\n",
    "from <biblioteca> import <função> as <novo nome>\n",
    "```"
   ],
   "cell_type": "markdown",
   "metadata": {}
  },
  {
   "source": [
    "## Bibliotecas comuns\n",
    "---------------------\n",
    "\n",
    "- **math**: Funções matemáticas complexas;\n",
    "- **os**: Controle de arquivos do sistema;\n",
    "- **sys**: Controle de sistema do computador;\n",
    "- **time**: Medir o tempo, hora, etc;\n",
    "- **timeit**: Tempo de execução;\n",
    "- **tkinter**: Criação de GUI;\n",
    "- **numpy**: Manipulação de _arrays_, vetores e matrizes;  \n",
    "- **pandas**: Manipulação e visualização de tabelas de dados;\n",
    "- **scipy**: Operações da área científica;\n",
    "- **matplotlib**: Criação e visualização de gráficos;\n",
    "- **seaborn**: Criação e visualização de gráficos;\n",
    "- **scikit-learn**: Modelos para _data science_;\n",
    "- **tensorflow**: _Framework_ para _deep learning_;\n"
   ],
   "cell_type": "markdown",
   "metadata": {}
  },
  {
   "source": [
    "## Instalação de bibliotecas\n",
    "----------------------------\n",
    "\n",
    "Existem dois métodos principais para a instalação de bibliotecas a partir de comandos no terminal. Não se preocupem, pois não é nada demais.\n",
    "\n",
    "<br>\n",
    "\n",
    "### `pip`\n",
    "\n",
    "O mais comum é utilizando o **PyPI** que é um repositório de diversas bibliotecas para Python. Se você fez uma instalação comum do Python e seu computador, você deve ter instalado junto o `pip`. A partir desse comando, iremos instalar um biblioteca, basta digitar (o '$' quer dizer que é um comando para terminal, ignore-o na digitação):\n",
    "\n",
    "```\n",
    "$ pip install <biblioteca>\n",
    "```\n",
    "\n",
    "Caso você esteja utilizando um sistema Linux, o comando é alterado para:\n",
    "\n",
    "```\n",
    "$ pip3 install <biblioteca>\n",
    "```\n",
    "\n",
    "O motivo do acréscimo desse \"3\" é pelo fato de o Linux já vir com o Python2 que é chamado de `python` e `pip` por padrão. Você pode modificar isso utilizando um `alias`.\n",
    "\n",
    "<br>\n",
    "\n",
    "### `conda`\n",
    "\n",
    "Caso você esteja utilizando o software **Anaconda**, que contem diversos recursos para _data science_ no geral (Python e R), você pode utilizar o próprio repositório deles para fazer a instalação de bibliotecas. Existem duas opções nesse caso: utilizar a interface gráfica do Anaconda para instalar novas bibliotecas em _packages_ ou digitar o comando no terminal:\n",
    "\n",
    "```\n",
    "$ conda activate <ambiente>  \n",
    "$ conda install <biblioteca>\n",
    "```\n",
    "\n",
    "O primeiro comando é para certificar que o ambiente esteja ativo, caso você esteja utilizando o padrão, basta substituir por _base_. O segundo faz a instalação da biblioteca no ambiente ativo. Lembrando que o Anaconda já instala por padrão diversas biblioetcas comuns no _base_, dessa forma, raramente será necessário instalar um novo pacote.\n",
    "\n",
    "<br>\n",
    "\n",
    "Caso encontre dificuldade nesses processos, existem diversos tutoriais na internet dedicados a explicar esses procedimentos."
   ],
   "cell_type": "markdown",
   "metadata": {}
  },
  {
   "cell_type": "code",
   "execution_count": null,
   "metadata": {},
   "outputs": [],
   "source": [
    "\" GRÁFICO DA FUNÇÃO SENO \"\n",
    "\n",
    "# Bibliotecas\n",
    "import numpy as np\n",
    "import matplotlib.pyplot as plt\n",
    "\n",
    "# Valores de x e y para o gráfico\n",
    "x = np.linspace(-5, 5, 100) # Array com 100 valores indo de -5 até 5\n",
    "y = np.sin(x)               # Array com os valores da função seno em 'x'\n",
    "\n",
    "plt.plot(x, y)  # Gera o gráfico de linha\n",
    "plt.show()      # Mostra o gráfico produzido"
   ]
  },
  {
   "source": [
    "# Condições\n",
    "-----------\n",
    "\n",
    "As condições são verificações lógicas, dessa forma, baseado na resposta de uma pergunta no estilo \"sim ou não\" (verdadeiro ou falso), executamos determinados comandos.  \n",
    "No Python, utilizamos o `if` (\"se\") para criar uma estrutura condicional e os operadores condicionais para fazer a verificação lógica, como veremos a seguir. Caso o retorno seja verdadeiro, aquilo que estiver abaixo e deslocado à direita (indentação) será executado. Em caso contrário, essa parte do código será desconsiderada. Contudo, podemos fazer condições mais complexas com mais de uma verificação."
   ],
   "cell_type": "markdown",
   "metadata": {}
  },
  {
   "source": [
    "## Operadores lógicos\n",
    "---------------------\n",
    "\n",
    "**SE:** `if`  \n",
    "**SENÃO:** `else`  \n",
    "**SE-SENÃO:** `elif`  \n",
    "\n",
    "**Igual a:** `a == b`  \n",
    "**Diferente de:** `a != b`  \n",
    "**Menor que:** `a < b`  \n",
    "**Menor ou igual a:** `a <= b`  \n",
    "**Maior que:** `a > b`  \n",
    "**Maior ou igual a:** `a >= b`  \n",
    " \n",
    "**E:** `and`  \n",
    "**OU:** `or`  \n",
    "**NÂO:** `not`  \n",
    "**EM:** `in`  \n",
    "**MESMO:** `is`"
   ],
   "cell_type": "markdown",
   "metadata": {}
  },
  {
   "cell_type": "code",
   "execution_count": null,
   "metadata": {},
   "outputs": [],
   "source": [
    "\" QUAL NÚMERO É MAIOR? \"\n",
    "\n",
    "# Entrada do usuário\n",
    "a = float(input('Digite o primeiro número: '))\n",
    "b = float(input('Digite o segundo número: '))\n",
    "\n",
    "# if <arg> <operador> <arg>: \n",
    "if a > b:\n",
    "    print(f'{a} é maior que {b}')\n",
    "\n",
    "# Só será executado se a condição anterior for falsa\n",
    "# elif <arg> <operador> <arg>: \n",
    "elif a == b:\n",
    "    print(f'{a} é igual a {b}')\n",
    "\n",
    "# else não leva nenhum argumento\n",
    "else:\n",
    "    print(f'{a} é menor que {b}')"
   ]
  },
  {
   "cell_type": "code",
   "execution_count": null,
   "metadata": {},
   "outputs": [],
   "source": [
    "\" ESTADOS BRASILEIROS \"\n",
    "\n",
    "# Siglas dos estados brasileiros em um 'frozenset'\n",
    "estados = frozenset({\n",
    "    'AC', 'AL', 'AP', 'AM', 'BA', 'CE', \n",
    "    'DF', 'ES', 'GO', 'MA', 'MT', 'MS', \n",
    "    'MG', 'PA', 'PB', 'PR', 'PE', 'PI', \n",
    "    'RJ', 'RN', 'RS', 'RO', 'RR', 'SC', \n",
    "    'SP', 'SE', 'TO'\n",
    "    })\n",
    "\n",
    "# Entrada do usuário\n",
    "# Coloca o texto em maísculo e tira os espaços em branco\n",
    "resposta = str(input('Digite a sigla de um estado brasileiro: ')).upper().replace(\" \", \"\")\n",
    "\n",
    "# Verifica se a entrada do usuário está no conjunto\n",
    "if resposta in estados:\n",
    "    print('Muito bem! 😃')\n",
    "\n",
    "else:\n",
    "    print(f\"'{resposta}' não é um estado brasileiro válido.\")"
   ]
  },
  {
   "source": [
    "## Tentativa e erro\n",
    "-------------------\n",
    "\n",
    "Dependendo do procedimento do código, receber uma variável errada, algum erro de utilização do usuário, pode quebrar o programa. Para evitar (ou minimizar) isso e deixar o programa mais \"inteligente\", podemos preparar o código para tais situações a partir dos comandos `try` e `except`.\n",
    "\n",
    "**TENTE:** `try`  \n",
    "**EXCEÇÃO:** `except <erro>`\n",
    "\n",
    "Observação: diferentes exceções podem existir para um mesmo `try` e mais de um erro podem ser adicionados por `except`."
   ],
   "cell_type": "markdown",
   "metadata": {}
  },
  {
   "cell_type": "code",
   "execution_count": null,
   "metadata": {},
   "outputs": [],
   "source": [
    "\" DIGITE UM NÚMERO INTEIRO \"\n",
    "\n",
    "# Tenta executar as seguintes linhas\n",
    "try:\n",
    "    # Entrada do usuário\n",
    "    num = int(input('Digite um número inteiro: '))\n",
    "    print(f'O número digitado foi: {num}')\n",
    "\n",
    "# Se a qualquer momento dentro de 'try' der um erro do tipo explícito, \n",
    "# as seguintes linhas são executadas\n",
    "except ValueError:\n",
    "    print('Erro de entrada')"
   ]
  },
  {
   "source": [
    "### Múltiplos erros\n",
    "\n",
    "A estrutura `try` e `except` aceita um retorno dierente para cada tipo de erro e também uma mesma exceção para diferentes tipos de erros, como veremos no exemplo."
   ],
   "cell_type": "markdown",
   "metadata": {}
  },
  {
   "cell_type": "code",
   "execution_count": null,
   "metadata": {},
   "outputs": [],
   "source": [
    "\" DIVIDIR NÚMEROS \"\n",
    "\n",
    "try:\n",
    "    # Entrada do usuário\n",
    "    num1 = float(input('Digite o numerador: '))\n",
    "    num2 = float(input('Digite o denominador: '))\n",
    "    print(f'O resultado da divisão é: {num1 / num2}')\n",
    "\n",
    "# Caso dê um erro de valor ou de interrupção via teclado\n",
    "# except (<erro1>, <erro2>, ...) as <alguma coisa>:\n",
    "except (ValueError, KeyboardInterrupt) as erro:\n",
    "    print('Erro de entrada')\n",
    "\n",
    "# Caso o denominador seja igual a zero\n",
    "except ZeroDivisionError:\n",
    "    print('Não é possível dividir por zero')"
   ]
  },
  {
   "source": [
    "# Estruturas de repetição\n",
    "-------------------------\n",
    "\n",
    "As estruturas de repetição são expressões capazes de repetir por um número determinado ou indeterminado de vezes uma parte do código. Dessa forma, somos capzes de evitar repetições desnecessárias na escrita do código ou até mesmo apenas prosseguir um procedimento a partir de uma condição, como veremos a seguir."
   ],
   "cell_type": "markdown",
   "metadata": {}
  },
  {
   "source": [
    "## while\n",
    "--------\n",
    "\n",
    "A _keyword_ `while` é equivalente a uma expressão de \"ENQUANTO\". Ou seja, enquanto um condição for satisfeita (verdadeira), o _loop_ será mantido.\n",
    "\n",
    "```\n",
    "while <condição>:\n",
    "    ...\n",
    "    ...\n",
    "```\n",
    "\n",
    "⚠️ **ATENÇÃO:**  Cuidado para não criar um _loop_ infinito!"
   ],
   "cell_type": "markdown",
   "metadata": {}
  },
  {
   "cell_type": "code",
   "execution_count": null,
   "metadata": {},
   "outputs": [],
   "source": [
    "\" DECOLAGEM \"\n",
    "\n",
    "# Biblioteca\n",
    "import time\n",
    "\n",
    "# Varíavel\n",
    "i = 10\n",
    "\n",
    "# Mensagem inicial\n",
    "print('Decolagem em:')\n",
    "\n",
    "# Enquanto 'i' for maior que 0...\n",
    "while i > 0:\n",
    "\n",
    "    # Espera 1 segundo\n",
    "    time.sleep(1)\n",
    "\n",
    "    print(f'{i}...')\n",
    "\n",
    "    # A cada passagem no loop, i perde uma unidade\n",
    "    i -= 1 # i = i - 1\n",
    "\n",
    "# Só será acionado depois que o loop acabar\n",
    "print('DECOLAR!!! 🚀')"
   ]
  },
  {
   "cell_type": "code",
   "execution_count": null,
   "metadata": {},
   "outputs": [],
   "source": [
    "\" DESCUBRA O NÚMERO \"\n",
    "\n",
    "# Biblioteca\n",
    "from random import randint\n",
    "\n",
    "# Número escolhido\n",
    "num = randint(1, 10)\n",
    "# Escolha do usuário\n",
    "guess = 0\n",
    "\n",
    "# Enquanto a escolha for diferente do número escolhido...\n",
    "while guess != num:\n",
    "    # Recebe uma nova tentativa do usuário\n",
    "    guess = int(input('Tente adivinhar o número:'))\n",
    "    print(f'Você apostou no número {guess}')\n",
    "\n",
    "# Parabeniza o jogador\n",
    "print('Parabéns, você acertou!')"
   ]
  },
  {
   "source": [
    "## for\n",
    "------\n",
    "\n",
    "A _keyword_ `for` é equivalente a expressão \"PARA\". Ou seja, para \"alguma coisa\" em determinada sequência, faça algo.\n",
    "\n",
    "```\n",
    "for <variável> in <sequência>:\n",
    "    ...\n",
    "    ...\n",
    "```\n",
    "\n",
    "### Operadores comuns\n",
    "`in range()` - Sequência usando o `range` visto em _tipos de dados_  \n",
    "`in len()` - Sequência utilizando o tamanho do conteúdo dentro de `len`  \n",
    "`in enumerate()` - Retorna tanto o valor quanto o índice da sequência"
   ],
   "cell_type": "markdown",
   "metadata": {}
  },
  {
   "cell_type": "code",
   "execution_count": null,
   "metadata": {},
   "outputs": [],
   "source": [
    "\" DECOLAGEM - VERSÃO FOR LOOP \"\n",
    "\n",
    "# Biblioteca\n",
    "import time\n",
    "\n",
    "# Mensagem inicial\n",
    "print('Decolagem em:')\n",
    "\n",
    "# Para 'i' entre 10 até 1...\n",
    "for i in range(10, 0, -1):\n",
    "\n",
    "    # Espera 1 segundo\n",
    "    time.sleep(1)\n",
    "\n",
    "    print(f'{i}...')\n",
    "\n",
    "# Só será acionado depois que o loop acabar\n",
    "print('DECOLAR!!! 🚀')"
   ]
  },
  {
   "cell_type": "code",
   "execution_count": null,
   "metadata": {},
   "outputs": [],
   "source": [
    "\" LISTA DE CHAMADA \"\n",
    "\n",
    "# Lista de nomes\n",
    "chamada = (\n",
    "    'Ana', 'Bianca', 'Gabriel', 'Helen', 'Kevin'\n",
    ")\n",
    "\n",
    "# Enumarate retorna, respectivamente, o índice e o valor da lista 'chamada'\n",
    "for indice, valor in enumerate(chamada):\n",
    "    print(f'{indice + 1} - {valor}')"
   ]
  },
  {
   "source": [
    "### _inline loop_\n",
    "\n",
    "Em casos mais simples, podemos colocar um loop em uma única linha. Mas para o que isso seria útil? Simples, caso queremos popular/preencher uma lista. Ao invés de criarmos uma lista vazia, fazer um _loop_ para colocar o `append`, podemos colocar isso de maneira mais simplificada.\n",
    "\n",
    "`<expressão> for <argumentos> in <sequência>`"
   ],
   "cell_type": "markdown",
   "metadata": {}
  },
  {
   "cell_type": "code",
   "execution_count": null,
   "metadata": {},
   "outputs": [],
   "source": [
    "\" BINÁRIOS \"\n",
    "\n",
    "# Para 'x' na sequência 0 até 11, adicione 2^x\n",
    "binarios = [2**x for x in range(12)]\n",
    "\n",
    "# Mostra o resultado\n",
    "print(binarios)"
   ]
  },
  {
   "source": [
    "## Alterar o _loop_\n",
    "-------------------\n",
    "\n",
    "Dependendo da necessidade do nosso código, um fator externo pode influenciar o funcionamento do programa. Para isso, podemos adicionar algumas expressões que realizam diferentes ações dentro de estruturas de repetição.\n",
    "\n",
    "**QUEBRAR:** `break`  \n",
    "Ao adicionar essa expressão, toda vez que uma condição acionar essa ação, todo a estrutura de repetição é interrompida.\n",
    "\n",
    "**CONTINUAR:** `continue`  \n",
    "Utilizando essa ação, o pedaço posterior do código será interrompido, mas o _loop_ ainda será preservado.\n",
    "\n",
    "**IGNORAR:** `pass`  \n",
    "Essa expressão permite que o programa continue a rodar, mesmo que uma condição foi atendida."
   ],
   "cell_type": "markdown",
   "metadata": {}
  },
  {
   "cell_type": "code",
   "execution_count": null,
   "metadata": {
    "tags": []
   },
   "outputs": [],
   "source": [
    "\" BREAK \"\n",
    "\n",
    "# Para 'i' de 0 até 9\n",
    "for i in range(10):\n",
    "\n",
    "    # Se i for igual a 5...\n",
    "    if i == 5:\n",
    "        break # Quebra o loop\n",
    "\n",
    "    print('Número é ' + str(i))\n",
    "\n",
    "print('Fim do loop!')"
   ]
  },
  {
   "cell_type": "code",
   "execution_count": null,
   "metadata": {},
   "outputs": [],
   "source": [
    "\" CONTINUE \"\n",
    "\n",
    "# Para 'i' de 0 até 9\n",
    "for i in range(10):\n",
    "\n",
    "    # Se i for igual a 5...\n",
    "    if i == 5:\n",
    "        continue # Pula apenas essa \"rodada\"\n",
    "\n",
    "    print('Número é ' + str(i))\n",
    "\n",
    "print('Fim do loop!')"
   ]
  },
  {
   "cell_type": "code",
   "execution_count": null,
   "metadata": {},
   "outputs": [],
   "source": [
    "\" PASS \"\n",
    "\n",
    "# Para 'i' de 0 até 9\n",
    "for i in range(10):\n",
    "\n",
    "    # Se i for igual a 5...\n",
    "    if i == 5:\n",
    "        pass # Só ignora\n",
    "\n",
    "    print('Número é ' + str(i))\n",
    "\n",
    "print('Fim do loop!')"
   ]
  },
  {
   "source": [
    "# Funções\n",
    "---------\n",
    "\n",
    "Seguindo essa _playlist_ de Python, você já utilizou diversas funções _build-in_ (ou seja, da própria ferramenta) e externas usando as bibliotecas. Contudo, não acha que seria muito útil você criar as suas próprias funções? Existem alguns motivos principais para criar uma função personalizada:\n",
    "\n",
    "- Executar algum procedimento muito específico para o seu projeto;\n",
    "- Possuir alguma etapa ou processo repetitivo;\n",
    "- Conseguir chamar essa função para outros projetos (criar um biblioteca própria);\n",
    "\n",
    "Além disso, vale reforçar que as funções são muito poderosas pela forma que podemos trabalhar com os dados de entrada e saída.\n",
    "\n",
    "A estrutura básica de uma função é dada pelo exemplo abaixo:\n",
    "\n",
    "```\n",
    "def <função>(<parâmetros>):\n",
    "\n",
    "    \"\"\"\n",
    "    <docstring>\n",
    "    \"\"\"\n",
    "\n",
    "    ...\n",
    "    ...\n",
    "    \n",
    "    return <valor>\n",
    "```\n",
    "\n",
    "<br>\n",
    "\n",
    "**`def`**: Define a estrutura de uma função;  \n",
    "**`<função>`**: Este será o nome da função e como ela será chamada ao longo do código (não pode conter espações em branco);  \n",
    "**`<parâmetros>`**: (Opcional) Responsável pela entrada de informação utilizada dentro da função, como veremos em breve;  \n",
    "**`<docstring>`**: (Opcional) Todo texto comentado por parênteses no topo da função se torna a documentação dessa função, essa é uma prática altamente recomendada (comente o que a função faz, brevemente, o que ela recebe e o que retorna);  \n",
    "**`return`**: (Opcional) Toda função retorna algum valor (saída), caso nada seja declarado ela retornará `None`;  \n",
    "**`<valor>`** O que será retornado."
   ],
   "cell_type": "markdown",
   "metadata": {}
  },
  {
   "cell_type": "code",
   "execution_count": null,
   "metadata": {},
   "outputs": [],
   "source": [
    "\" FUNÇÃO MÍNIMA \"\n",
    "\n",
    "# Definimos que a função chama 'olá_mundo' e recebe nenhum argumento\n",
    "def olá_mundo():\n",
    "    print('Olá, Mundo!')\n",
    "    # Como não existe o return, vai retornar None\n",
    "\n",
    "print(olá_mundo())\n",
    "\n",
    "# É um péssimo hábito \"retornar\" um print"
   ]
  },
  {
   "cell_type": "code",
   "execution_count": null,
   "metadata": {},
   "outputs": [],
   "source": [
    "\" FUNÇÃO MÍNIMA 2 \"\n",
    "\n",
    "# Definimos que a função chama 'olá_mundo' e recebe nenhum parâmetro\n",
    "def olá_mundo():\n",
    "    return 'Olá, Mundo!'\n",
    "\n",
    "print(olá_mundo())\n",
    "\n",
    "# É um péssimo hábito \"retornar\" um print"
   ]
  },
  {
   "source": [
    "## Parâmetros\n",
    "-------------\n",
    "\n",
    "Primeiro, vamos desmistificar uma confusão comum quando estamos trabalhando com funções: a diferença entre **argumentos** e **parâmetros**. Quando estamos construindo uma função, as variáveis que definimos para serem as entradas são definidas como \"parâmetros\". Contudo, quando chamamos esse método estamos passando \"argumentos\" para rodar esse método. Ou seja, parâmetro é a variável declarada na função e o argumento e o valor de fato da variável que será utilizado na função.\n",
    "\n",
    "Vejamos um exemplo básico para entender o funcionamento dos parâmetros/argumentos."
   ],
   "cell_type": "markdown",
   "metadata": {}
  },
  {
   "cell_type": "code",
   "execution_count": null,
   "metadata": {},
   "outputs": [],
   "source": [
    "\" BOM DIA \"\n",
    "\n",
    "# Criamos a função\n",
    "# Ela recebe um parâmetro obrigatório chamado 'nome'\n",
    "# Dessa forma, a partir dessa variável, podemos utilizá-la ao longo da função (sabendo que ela será um str)\n",
    "def bom_dia(nome):\n",
    "    \"Dado um nome, retorna uma mensagem de bom dia para esse nome.\"\n",
    "    return f'Bom dia, {nome}!'\n",
    "\n",
    "# Passamos o argumento \"Fulano\" para a função (parâmetro posicional)\n",
    "print(bom_dia('Fulano'))\n",
    "\n",
    "# Podemos também definir que \"nome\" deve ser igual a \"Ciclano\"\n",
    "print(bom_dia(nome='Ciclano'))"
   ]
  },
  {
   "source": [
    "### args\n",
    "\n",
    "Parâmetros obrigatórios, mas podem ter valores padrão."
   ],
   "cell_type": "markdown",
   "metadata": {}
  },
  {
   "cell_type": "code",
   "execution_count": null,
   "metadata": {},
   "outputs": [],
   "source": [
    "\" CALCULADORA BÁSICA \"\n",
    "\n",
    "# Definimos que a função 'calculadora' possui dois parâmetros, 'x' e 'y'\n",
    "def calculadora(x = 1, y = 1):\n",
    "\n",
    "    # Retornamos um dicionário com as operações básicas\n",
    "    return {\n",
    "        'soma' : x + y,\n",
    "        'subtração' : x - y,\n",
    "        'divisão' : x / y,\n",
    "        'multiplicação' : x * y,\n",
    "        'potência' : x ** y\n",
    "    }\n",
    "\n",
    "a = 3\n",
    "b = 5\n",
    "\n",
    "# 'resultado' recebe o 'return' da função 'calculadora'\n",
    "resultado = calculadora(a, b)\n",
    "# resultado = calculadora(x = a, y = b)\n",
    "\n",
    "print(resultado)\n",
    "\n",
    "\n",
    "# Caso nenhum argumento seja passado, x = 1 e y = 1\n",
    "print(calculadora())"
   ]
  },
  {
   "source": [
    "### *argv\n",
    "\n",
    "Lista de valores com tamanho indeterminado. `*argv` é apenas um nome comum para esse tipo de parâmetro, o necessário é utilizar o '*'."
   ],
   "cell_type": "markdown",
   "metadata": {}
  },
  {
   "cell_type": "code",
   "execution_count": null,
   "metadata": {},
   "outputs": [],
   "source": [
    "\" MENSAGEM PARA TODOS \"\n",
    "\n",
    "# 'mensagem' é um argumento posicional\n",
    "# Tudo que vier depois vai se tornar uma lista salva em 'nomes'\n",
    "def mensagem(mensagem, *nomes):\n",
    "    for i in nomes:\n",
    "        print(f'{mensagem}, {i}.')\n",
    "\n",
    "mensagem('Oi', 'Carol', 'Beatriz', 'Pedro', 'Carlos')"
   ]
  },
  {
   "source": [
    "### **kwargs\n",
    "\n",
    "Dicionário de parâmetros opcionais e devem ser chamados no formato `<parâmetro> = <argumento>`. `**kwargs` é apenas um nome comum para esse tipo de parâmetro, o necessário é utilizar o '**'."
   ],
   "cell_type": "markdown",
   "metadata": {}
  },
  {
   "cell_type": "code",
   "execution_count": null,
   "metadata": {},
   "outputs": [],
   "source": [
    "\" PREÇO DE PRODUTO \"\n",
    "\n",
    "# 'preço' é o parâmetro posicional\n",
    "# '**kwargs' vai receber os demais parâmetros em formato de dicionário\n",
    "def preço_final(preço, **kwargs):\n",
    "\n",
    "    # Docstring\n",
    "\n",
    "    \"\"\"\n",
    "    Preço final\n",
    "    -----------\n",
    "\n",
    "    Calcula o valor final de um produto.\n",
    "\n",
    "    args\n",
    "    ----\n",
    "\n",
    "        preço : float\n",
    "        Preço inicial do produto\n",
    "\n",
    "    **kwargs\n",
    "    --------\n",
    "\n",
    "        imposto : float\n",
    "        Imposto sobre o preço (%)\n",
    "\n",
    "        desconto : float\n",
    "        Desconto sobre o preço (%)\n",
    "\n",
    "    return\n",
    "    ------\n",
    "\n",
    "        float\n",
    "        Valor final do valor do produto\n",
    "    \"\"\"\n",
    "\n",
    "    # Resgata os valores do dicionário 'kwargs'\n",
    "    imposto = kwargs.get('imposto')\n",
    "    desconto = kwargs.get('desconto')\n",
    "\n",
    "    # Se 'imposto' não for vazio (existir)\n",
    "    if imposto:\n",
    "        preço += preço * (imposto/100)\n",
    "\n",
    "    # Se 'desconto' não for vazio (existir)\n",
    "    if desconto:\n",
    "        preço -= preço * (desconto/100)\n",
    "    \n",
    "    # Retorna o preço calculado\n",
    "    return preço\n",
    "\n",
    "valor_inicial = 100\n",
    "imposto = 12.5\n",
    "# desconto = 5\n",
    "\n",
    "# Mesmo não passando todas os possíveis parâmetros para **kwargs, a função ainda funciona\n",
    "print(preço_final(valor_inicial, imposto = imposto))\n",
    "\n",
    "# Teste mudando os valores ou comentando os parâmetros opcionais"
   ]
  },
  {
   "source": [
    "A combinação de todos esses tipos de parâmetros também é possível, seguindo a ordem: `(args, *argv, **kwargs)`"
   ],
   "cell_type": "markdown",
   "metadata": {}
  },
  {
   "source": [
    "## Variáveis globais e locais\n",
    "-----------------------------\n",
    "\n",
    "Uma variável global é uma variável definida que vale para todo o código.\n",
    "\n",
    "Uma variável local é uma variável definida no escopo de uma função e só possui esse valor durante a execução desse método."
   ],
   "cell_type": "markdown",
   "metadata": {}
  },
  {
   "cell_type": "code",
   "execution_count": null,
   "metadata": {},
   "outputs": [],
   "source": [
    "# Variável global\n",
    "x = 50\n",
    "\n",
    "def f():\n",
    "    # Variável local\n",
    "    x = 20\n",
    "    print(x)\n",
    "\n",
    "print(x)\n",
    "f()\n",
    "print(x)"
   ]
  },
  {
   "source": [
    "## Funções anônimas (`lambda`)\n",
    "------------------------------\n",
    "\n",
    "Caso precisamos fazer uma operação simples, podemos construir uma função anônima: podem ter qualquer número de argumentos, mas só podem ter uma expressão.\n",
    "\n",
    "`lambda <argumentos> : <expressão>`"
   ],
   "cell_type": "markdown",
   "metadata": {}
  },
  {
   "cell_type": "code",
   "execution_count": null,
   "metadata": {},
   "outputs": [],
   "source": [
    "\" MULTIPLICAÇÃO \"\n",
    "\n",
    "# A variável 'vezes' vai \"segurar\" a função anônima\n",
    "vezes = lambda a, b : a * b\n",
    "\n",
    "# Utiliza a função\n",
    "print(vezes(3, 17))"
   ]
  },
  {
   "source": [
    "\" POTÊNCIA \"\n",
    "\n",
    "# Vamos misturar as funções \"normais\" e anônimas\n",
    "\n",
    "# Função potência\n",
    "def potência(n):\n",
    "    # Retorna uma função anônima que vai ser a potência de 'n'\n",
    "    return lambda a : a ** n\n",
    "\n",
    "# Função x^2\n",
    "ao_quadrado = potência(2)\n",
    "\n",
    "# Função x^3\n",
    "ao_cubo     = potência(3)\n",
    "\n",
    "# Testa as funções\n",
    "print(ao_quadrado(5))\n",
    "print(ao_cubo(5))"
   ],
   "cell_type": "code",
   "metadata": {},
   "execution_count": null,
   "outputs": []
  },
  {
   "source": [
    "# Classes\n",
    "---------\n",
    "\n",
    "**PLOT-TWIST**: Estamos usando as classes desde o início desse material 🤯\n",
    "\n",
    "Se você lembrar da saída do comando `type` que utilizamos na seção de _tipos de dados_, ela era no estilo `<class ...>`. Então, cada tipo de dado na verdade é uma classe, conhecido também como \"objeto\". Um objeto é uma estrutura de informação capaz de possuir dados, chamados de parâmetros, e código, conhecido como métodos (semelhantes as funções que já estudamos, mas funcionam apenas para os objetos criados a partir dessa classe).\n",
    "\n",
    "Ao criar uma nova classe, podemos criar um objeto com uma estrutura de dados única e com métodos bem definidos que, em programas mais complexos, se torna muito útil.\n",
    "\n",
    "Formato padrão:\n",
    "\n",
    "```\n",
    "class <Nome>(<herança>):\n",
    "\n",
    "    \"\"\"\n",
    "    <docstring>\n",
    "    \"\"\"\n",
    "\n",
    "    def <função1>(self, <parâmetros>):\n",
    "        ...\n",
    "        ...\n",
    "    \n",
    "    ...\n",
    "    ...\n",
    "```\n",
    "\n",
    "**`class`**: Define a estrutura de uma classe;  \n",
    "**`<Nome>`**: Este será o nome da classe e como ela será chamada ao longo do código (não pode conter espações em branco);  \n",
    "**`<herança>`**: (Opcional) Herda os métodos e parâmetros da classe <herança>;  \n",
    "**`<docstring>`**: (Opcional) Todo texto comentado por parênteses no topo da classe se torna a documentação dessa classe, essa é uma prática altamente recomendada;\n",
    "**`<função1>`**: (Opcional) Função/método da classe;  \n",
    "**`self`**: Atributo que chama os demais atributos do objeto e os métodos da classe;  \n",
    "**`<parâmetros>`**: (Opcional) Responsável pela entrada de informação utilizada dentro da função;"
   ],
   "cell_type": "markdown",
   "metadata": {}
  },
  {
   "source": [
    "## \\_\\_<método>\\_\\_\n",
    "-------------------\n",
    "\n",
    "Existem alguns métodos especiais com nomes pré-definidos que possuem propriedades únicas. Por exemplo, a concatenação de duas `str` a partir do sinal `+` é definida no método `__add__`. Você pode encontrar uma lista completa desses métodos pelo nome _magic methods_.\n",
    "\n",
    "Um método comum em classes é o `__init__` que é iniciado na criação do objeto."
   ],
   "cell_type": "markdown",
   "metadata": {}
  },
  {
   "cell_type": "code",
   "execution_count": null,
   "metadata": {},
   "outputs": [],
   "source": [
    "\" MOVIMENTO BROWNIANO \"\n",
    "\n",
    "# Biblioteca\n",
    "from random import randint\n",
    "\n",
    "# Constrói uma classe chamada 'Particle'\n",
    "class Particle():\n",
    "\n",
    "    # Método que é executado na criação do objeto\n",
    "    # Podemos definir a posição inicial da partícula\n",
    "    def __init__(self, x = 0, y = 0 , z = 0):\n",
    "        self.x = x\n",
    "        self.y = y\n",
    "        self.z = z\n",
    "        self.pos = (x, y, z)\n",
    "    \n",
    "    # Método que movimenta a partícula aleatóriamente\n",
    "    def move(self):\n",
    "        # Resultado pode ser ser -1 ou 1\n",
    "        self.x += ((-1) ** randint(0, 1))\n",
    "        self.y += ((-1) ** randint(0, 1))\n",
    "        self.z += ((-1) ** randint(0, 1))\n",
    "        self.pos = (self.x, self.y, self.z)\n",
    "        \n",
    "        # Retorna uma tupla com os valores da posição da partícula\n",
    "        return self.pos\n",
    "\n",
    "# Cria o objeto 'Particle' e salva em 'a'\n",
    "a = Particle()\n",
    "\n",
    "# Mostra os valores iniciais definidos\n",
    "# Note que estamos mostrando os valores do atributo x, y e z \n",
    "# que foram definidos na função como self.x, self.y e self.z\n",
    "print(a.pos)\n",
    "\n",
    "# Chama o método 'move' 10 vezes\n",
    "for _ in range(10):\n",
    "    print(a.move())"
   ]
  },
  {
   "cell_type": "code",
   "execution_count": null,
   "metadata": {},
   "outputs": [],
   "source": [
    "# E se a gente desejasse trabalhar com diversas partículas ao mesmo tempo?\n",
    "\n",
    "# Lista de partículas\n",
    "particles = []\n",
    "\n",
    "# Popula a lista com 10 objetos\n",
    "# As partículas vão ter posição inicial randômica entre -10 e 10 em todos os eixos\n",
    "for _ in range(10):\n",
    "    particles.append(\n",
    "        Particle(\n",
    "            randint(-10, 10),\n",
    "            randint(-10, 10),\n",
    "            randint(-10, 10)\n",
    "            )\n",
    "        )\n",
    "\n",
    "# Vai atualizar a posição das partículas 10 vezes\n",
    "for _ in range(10):\n",
    "    # O resultado geral é fazer o método 'move' ser aplicado por todas as partículas em 'particles'\n",
    "    print(list(map(lambda x: x.move(), particles)))"
   ]
  }
 ]
}