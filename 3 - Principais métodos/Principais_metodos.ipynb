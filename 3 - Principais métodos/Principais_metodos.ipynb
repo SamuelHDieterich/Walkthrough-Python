{
 "cells": [
  {
   "cell_type": "markdown",
   "metadata": {},
   "source": [
    "# PRINCIPAIS MÉTODOS\n",
    "--------------------\n",
    "\n",
    "Métodos são funções que podem receber algum tipo de dado e argumentos a fim de retornar algum novo valor ou dado.\n",
    "Nesta seção, vamos conferir os métodos mais comuns utilizados no dia-a-dia da programação.\n",
    "\n",
    "Os métodos costumam aparecer de duas formas principais: `método(argumentos)` ou `dado.método(argumentos)`. Isso ficará mais claro com o passar do tempo."
   ]
  },
  {
   "cell_type": "markdown",
   "metadata": {},
   "source": [
    "## Print\n",
    "--------\n",
    "\n",
    "Sim, você já viu esse método antes. Como você deve saber, ele retorna o valor passado para o terminal.\n",
    "\n",
    "Além disso, vamos ver outras opções interessantes para o `print`."
   ]
  },
  {
   "cell_type": "markdown",
   "metadata": {},
   "source": [
    "### f-strings\n",
    "\n",
    "Essa na verdade não é uma propriedade do método `print`, mas da própria `str`. Basicamente, podemos mesclar um texto com valores de outras variáveis, de forma que um mesmo texto pode ter valores diferentes conforme os valores de entrada.\n",
    "\n",
    "Para isso, iniciamos uma `str` com um `f` na frente e o espaço que vai receber a variável deve possuir um `{}`."
   ]
  },
  {
   "cell_type": "code",
   "execution_count": null,
   "metadata": {},
   "outputs": [],
   "source": [
    "nome = 'João'\n",
    "idade = 27\n",
    "\n",
    "print(f'Olá, meu nome é {nome} e tenho {idade} anos.') # Olá, meu nome é João e tenho 27 anos.\n",
    "\n",
    "# Alternativamente...\n",
    "print('Olá, meu nome é {} e tenho {} anos.'.format(nome, idade)) # Olá, meu nome é João e tenho 27 anos."
   ]
  },
  {
   "cell_type": "markdown",
   "metadata": {},
   "source": [
    "## Input\n",
    "--------\n",
    "\n",
    "Muitas vezes queremos que o usuário nos forneça algum tipo de informação ou dado. Para isso, podemos usar o método `input` que registrar o que for digitado no terminal.\n",
    "\n",
    "Cuidado: esse método registra por padrão uma `str`, então se você está esperando um número, por exemplo, acrescente o `int()`, `float()` e assim por diante."
   ]
  },
  {
   "cell_type": "code",
   "execution_count": null,
   "metadata": {},
   "outputs": [],
   "source": [
    "# Registra o que o usuário digitar na variável 'mensagem'\n",
    "mensagem = input('Digite alguma coisa (depois dê enter): ')\n",
    "\n",
    "# Printa o que foi registrado\n",
    "print(f'Você digitou a seguinte mensagem: {mensagem}')"
   ]
  },
  {
   "cell_type": "markdown",
   "metadata": {},
   "source": [
    "## Split\n",
    "--------\n",
    "\n",
    "Também é utilizado para `str`, caso se deseja separar um conjunto de palavras em uma lista de palavras."
   ]
  },
  {
   "cell_type": "code",
   "execution_count": null,
   "metadata": {},
   "outputs": [],
   "source": [
    "frase = \"Rosas são vermelhas. Violetas são azuis.\"\n",
    "separado = frase.split() # Veja que estamos passando o método tendo primeiro definido a variável\n",
    "\n",
    "print(separado)  # ['Rosas', 'são', 'vermelhas.', 'Violetas', 'são', 'azuis.']"
   ]
  },
  {
   "cell_type": "markdown",
   "metadata": {},
   "source": [
    "O método `split` pode receber também um parâmetro para indicar qual será o separador da `str`. Um exemplo prático é usar o ponto final para separar frases de um parágrafo."
   ]
  },
  {
   "cell_type": "code",
   "execution_count": null,
   "metadata": {},
   "outputs": [],
   "source": [
    "poema_autopsicografia = \"\"\"\n",
    "O poeta é um fingidor.\n",
    "Finge tão completamente\n",
    "Que chega a fingir que é dor\n",
    "A dor que deveras sente.\n",
    "\n",
    "E os que lêem o que escreve,\n",
    "Na dor lida sentem bem,\n",
    "Não as duas que ele teve,\n",
    "Mas só a que eles não têm.\n",
    "\n",
    "E assim nas calhas da roda\n",
    "Gira, a entreter a razão,\n",
    "Esse comboio de corda\n",
    "Que se chama o coração.\"\"\"\n",
    "\n",
    "print(poema_autopsicografia.split('.'))\n",
    "# ['\\nO poeta é um fingidor', '\\nFinge tão completamente\\nQue chega a fingir que é dor\\nA dor que deveras sente', '\\n\\nE os que lêem o que escreve,\\nNa dor lida sentem bem,\\nNão as duas que ele teve,\\nMas só a que eles não têm', '\\n\\nE assim nas calhas da roda\\nGira, a entreter a razão,\\nEsse comboio de corda\\nQue se chama o coração', '']"
   ]
  },
  {
   "cell_type": "markdown",
   "metadata": {},
   "source": [
    "Note que a saída produziu vários `\\n` que, nas `str`, são interpretados como nova linha (parágrafo). "
   ]
  },
  {
   "cell_type": "markdown",
   "metadata": {},
   "source": [
    "## Len\n",
    "------\n",
    "\n",
    "Utilizado em qualquer tipo de estrutura de dados (`list`, `tuple`, `set`, `str`) para retornar o seu tamanho."
   ]
  },
  {
   "cell_type": "code",
   "execution_count": null,
   "metadata": {},
   "outputs": [],
   "source": [
    "pontos = [1, 4, 7, 3, 10]\n",
    "\n",
    "print(len(pontos))  # 5"
   ]
  },
  {
   "cell_type": "markdown",
   "metadata": {},
   "source": [
    "## Append\n",
    "---------\n",
    "\n",
    "Adiciona um valor ao final de uma lista."
   ]
  },
  {
   "cell_type": "code",
   "execution_count": null,
   "metadata": {},
   "outputs": [],
   "source": [
    "pontos = [1, 4, 7, 3, 10]\n",
    "\n",
    "pontos.append(55)\n",
    "print(pontos)\n",
    "# [1, 4, 7, 3, 10, 55]"
   ]
  },
  {
   "cell_type": "markdown",
   "metadata": {},
   "source": [
    "Lembra que as tuplas são imutáveis?"
   ]
  },
  {
   "cell_type": "code",
   "execution_count": null,
   "metadata": {},
   "outputs": [],
   "source": [
    "países = ('Brasil', 'EUA', 'Alemanha', 'Canadá', 'Itália')\n",
    "\n",
    "países.append('Japão') \n",
    "# AttributeError: 'tuple' object has no attribute 'append'"
   ]
  },
  {
   "cell_type": "markdown",
   "metadata": {},
   "source": [
    "## Remove\n",
    "---------\n",
    "\n",
    "Remove um item de uma lista dado o seu valor."
   ]
  },
  {
   "cell_type": "code",
   "execution_count": null,
   "metadata": {},
   "outputs": [],
   "source": [
    "pontos = [1, 4, 7, 3, 10, 55]\n",
    "\n",
    "pontos.remove(7)\n",
    "print(pontos)\n",
    "# [1, 4, 3, 10, 55]"
   ]
  },
  {
   "cell_type": "markdown",
   "metadata": {},
   "source": [
    "Lembra que as tuplas são imutáveis?"
   ]
  },
  {
   "cell_type": "code",
   "execution_count": null,
   "metadata": {},
   "outputs": [],
   "source": [
    "países = ('Brasil', 'EUA', 'Alemanha', 'Canadá', 'Itália')\n",
    "\n",
    "países.remove('EUA') \n",
    "# AttributeError: 'tuple' object has no attribute 'remove'"
   ]
  },
  {
   "cell_type": "markdown",
   "metadata": {},
   "source": [
    "## Sum\n",
    "------\n",
    "\n",
    "Soma o valor de todos os itens em um conjunto numérico."
   ]
  },
  {
   "cell_type": "code",
   "execution_count": null,
   "metadata": {},
   "outputs": [],
   "source": [
    "pontos = [1, 4, 3, 10, 55]\n",
    "\n",
    "soma = sum(pontos)\n",
    "print(soma) # 73"
   ]
  },
  {
   "cell_type": "markdown",
   "metadata": {},
   "source": [
    "## Operações básicas\n",
    "--------------------\n",
    "\n",
    "Esse não se trata de um método, mas acredito que seja importante mostrar as principais operações numéricas."
   ]
  },
  {
   "cell_type": "code",
   "execution_count": null,
   "metadata": {},
   "outputs": [],
   "source": [
    "x = 6\n",
    "y = 2\n",
    "\n",
    "# Soma\n",
    "print(f'{x}+{y} = {x + y}')\n",
    "# 6+2 = 8\n",
    "\n",
    "# Subtração\n",
    "print(f'{x}-{y} = {x - y}')\n",
    "# 6-2 = 4\n",
    "\n",
    "# Multiplicação\n",
    "print(f'{x}x{y} = {x * y}')\n",
    "# 6x2 = 12\n",
    "\n",
    "# Divisão\n",
    "print(f'{x}/{y} = {x / y}') \n",
    "# 6/2 = 3.0\n",
    "# Note que o resuldo será um float, mesmo o resultando sendo inteiro.\n",
    "\n",
    "# Potência\n",
    "print(f'{x}^{y} = {x ** y}') # Alternativamente: pow(x,y)\n",
    "# 6^2 = 36\n",
    "\n",
    "# Divisão inteira\n",
    "print(f'Parte inteira de {x}/{y} é {x // y}')\n",
    "# Parte inteira de 6/2 é 3\n",
    "\n",
    "# Resto da divisão\n",
    "print(f'Resto de {x}/{y} é {x % y}')\n",
    "# Resto de 6/2 é 0"
   ]
  },
  {
   "cell_type": "markdown",
   "metadata": {},
   "source": [
    "## Map\n",
    "------\n",
    "\n",
    "Permite processar e transformar todos os itens de um iterável sem a necessidade de um *loop*."
   ]
  },
  {
   "cell_type": "code",
   "execution_count": null,
   "metadata": {},
   "outputs": [],
   "source": [
    "# map(função, iterável)\n",
    "quadrados = tuple(map(lambda x: x**2, range(10)))\n",
    "\n",
    "print(quadrados)\n",
    "# (0, 1, 4, 9, 16, 25, 36, 49, 64, 81)"
   ]
  },
  {
   "cell_type": "markdown",
   "metadata": {},
   "source": [
    "---\n",
    "Existem diversos métodos para cada um dos tipos de dados já apresentados e muito disso você pode facilmente encontrar pela internet, conforme a sua necessidade."
   ]
  }
 ],
 "metadata": {
  "kernelspec": {
   "display_name": "Python 3",
   "language": "python",
   "name": "python3"
  },
  "language_info": {
   "codemirror_mode": {
    "name": "ipython",
    "version": 3
   },
   "file_extension": ".py",
   "mimetype": "text/x-python",
   "name": "python",
   "nbconvert_exporter": "python",
   "pygments_lexer": "ipython3",
   "version": "3.8.8"
  }
 },
 "nbformat": 4,
 "nbformat_minor": 4
}
