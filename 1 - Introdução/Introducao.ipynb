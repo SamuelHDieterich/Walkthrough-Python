{
 "cells": [
  {
   "cell_type": "markdown",
   "metadata": {},
   "source": [
    "# INTRODUÇÃO\n",
    "------------\n",
    "\n",
    "O Python é uma linguagem de programação conhecida como **OOP (_Object Oriented Programming_)**, de **alto nível** e **interpretada**."
   ]
  },
  {
   "cell_type": "markdown",
   "metadata": {},
   "source": [
    "## COMPILADA x INTERPRETADA\n",
    "------------------------------\n",
    "\n",
    "Em qualquer linguagem de programação estamos escrevendo um código que será convertido para linguagem de máquina, sendo possível então a utilização desse programa pelo computador ou outros dispositivos eletrônicos.\n",
    "\n",
    "<br>\n",
    "\n",
    "### COMPILADA\n",
    "\n",
    "Em uma linguagem compilada, após concluir um programa, precisamos passar por um programa chamado \"compilador\" que irá ler o programa, verificar algum erro estrutural e criar um arquivo executável para a plataforma desejada. Dessa forma, com esse novo arquivo, não conseguimos mais editar o código (partindo apenas desse material) e não precisamos de mais nenhum outro programa para rodar o script.\n",
    "\n",
    "**Vantagem:** Depois de compilado, o programa pode rodar em outros dispositivos (sem a interface de desenvolvedor).  \n",
    "**Desvantagem:** Não é possível verificar ou editá-lo possuindo apenas o arquivo compilado.  \n",
    "**Exemplos:** C, C++, Fortran, Visual Basic\n",
    "\n",
    "<br>\n",
    "\n",
    "### INTERPRETADA\n",
    "\n",
    "Em uma linguagem interpretada, o código não precisa passar por esse compilador, mas para o programa funcionar é necessário executar o programa utilizando um \"interpretador\" que irá ler o programa enquanto está rodando o código.\n",
    "\n",
    "**Vantagem:** O programa pode ser executado linha a linha, sendo para o processo de *debugging* ou ainda utilizar os *notebooks*.  \n",
    "**Desvantagem:** O programa só poderá rodar possuindo um interpretador compatível com a versão utilizada e costuma ser bem mais lento (em ordens de magnitude).  \n",
    "**Exemplos:** Python, R, JavaScript"
   ]
  },
  {
   "cell_type": "markdown",
   "metadata": {},
   "source": [
    "## BAIXO NÍVEL x ALTO NÍVEL\n",
    "---------------------------\n",
    "\n",
    "No tópico anterior foi comentado que qualquer código deve passar por um procedimento para a máquina conseguir ler o programa (deixar em linguagem de máquina). Da mesma forma, podemos programar, conforme a linguagem, de uma maneira mais \"próxima\" dessa conversão ou mais parecido com uma linguagem humana, criando assim um espectro conhecido como \"nível\" da linguagem dentro da programação.\n",
    "\n",
    "<br>\n",
    "\n",
    "### BAIXO NÍVEL\n",
    "\n",
    "Uma linguagem de baixo nível significa que está muito próxima do comportamento tomado pela máquina. Dessa forma, a linguagem costuma apresentar uma interpretação mais diícil, mas permite mais controle do sistema. Além disso, funções mais complexas podem ser difícil de implementar sem cair em várias de linhas de código.\n",
    "\n",
    "**Vantagem:** Os programadores costumam ter mais controle do funcionamento da máquina e o código de execução, o que também compromete a performance durante a execução do *script*.  \n",
    "**Desvantagem:** Possui uma sintaxe mais complicada e pouco ágil para os programadores.  \n",
    "**Exemplos:** Assembly e binário\n",
    "\n",
    "<br>\n",
    "\n",
    "### ALTO NÍVEL\n",
    "\n",
    "Uma linguagem de alto nível significar que está mais próxima da fala/escrita humana. Assim, essas linguagens são mais fáceis de aprender e trabalhar. Fora isso, possuem uma sintaxe mais variada e abertura para diversas outras funcionalidades.\n",
    "\n",
    "**Vantagem:** Costumam-se ser mais fáceis de aprender e ágeis de programar, pela simplicidade da sintaxe.  \n",
    "**Desvantagem:** Precisam passar pelo procedimento de compilação ou interpretação, se tornando programas mais lentos.  \n",
    "**Exemplos:** Python e Java"
   ]
  },
  {
   "cell_type": "markdown",
   "metadata": {},
   "source": [
    "## PROGRAMAÇÃO ORIENTADA A OBJETOS\n",
    "----------------------------------\n",
    "\n",
    "Esse já é um tópico mais avançado, mas certamente é uma das funcionalidades mais fascinantes e poderosas em algumas linguagens. Basicamente, um programa pode ser escrito em torno de objetos, que representam o mundo real, que podem carregar atributos (informações) e métodos (funções). Embora isso provavelmente não esteja claro, você verá que em programas mais complexos, esse mecanismo se torna mais comum pelas suas capacidades e diversidades de uso.\n",
    "\n",
    "Mais informações no vídeo: https://youtu.be/QY0Kdg83orY"
   ]
  },
  {
   "cell_type": "markdown",
   "metadata": {},
   "source": [
    "## OBSERVAÇÕES\n",
    "--------------\n",
    "\n",
    "O que acha de já comentarmos de tópicos comuns na linguagem Python?   \n",
    "Vamos para a lista:"
   ]
  },
  {
   "cell_type": "markdown",
   "metadata": {},
   "source": [
    "### 1. VERSÕES\n",
    "\n",
    "O Python possui duas versões principais: Python 2 e Python 3. Contudo, o Python 2 não possui mais suporte e deve ser evitado sempre que possível (até porque o \"3\" possui mais funcionalidades). Além disso, dentro do Python 3.x, por exemplo, ainda temos outras \"sub-versões\" do interpretador. Dessa forma, preste atenção ao utilizar a versão recomendada ou exigida, principalmente quando estiver utilizando bibliotecas externas (veremos isso em breve)."
   ]
  },
  {
   "cell_type": "markdown",
   "metadata": {},
   "source": [
    "### 2. EXPERIENTES\n",
    "\n",
    "Aos que já mexeram em outras linguagens de programação, podem acabar percebendo duas principais diferenças na sintaxe em relação ao Python. A primeira e mais óbvia é a exclusão da utilização do famoso `;`. A segunda, relacionada com a primeira, é a importância da indentação na nova linguagem que você está aprendendo. Isto pois, em outras linguagens, é muito comum a utilização de parênteses e chaves para agrupar um \"bloco\" de conteúdo, não sendo (sempre) exigida alguma formatação específica. Já no Python, esses \"blocos\" são inexistentes, de forma que precisamos respeitar uma tabulação do conteúdo para o interpretador compreender corretamente o programa."
   ]
  },
  {
   "cell_type": "markdown",
   "metadata": {},
   "source": [
    "### 3. COMENTÁRIOS\n",
    "\n",
    "Os comentários durante o código possuem duas funcionalidades principais: acrescentar explicações ao longo do programa ou colocar uma parte do programa para ser \"pulada\" (ao invés de deletar e perder uma parte do código). As duas opções são boas práticas de programação em qualquer linguagem e podem ser feitas de várias formas no Python."
   ]
  },
  {
   "cell_type": "code",
   "execution_count": null,
   "metadata": {},
   "outputs": [],
   "source": [
    "# Podemos usar o símbolo de \"#\" antes do texto e tudo que vier em seguida será desconsiderada pelo interpretador\n",
    "\n",
    "'Podemos também usar aspas simples'\n",
    "\"Aspas duplas também podem ser utilizadas\"\n",
    "\n",
    "'''\n",
    "Para comentários com\n",
    "mais de uma linha, devemos\n",
    "repetir o par de aspas 3 vezes.\n",
    "'''\n",
    "\n",
    "\"\"\"\n",
    "O mesmo vale para\n",
    "aspas duplas.\n",
    "\"\"\""
   ]
  },
  {
   "cell_type": "markdown",
   "metadata": {},
   "source": [
    "### 4. FORMATAÇÃO\n",
    "\n",
    "Como boa prática de programação é recomendado seguir uma formação para o código, de forma a deixá-lo \"legível\" para todos os usuários. Existe uma \"norma\" chamada **PEP 8** que traz um guia de dicas úteis para esse procedimento, mas isso se pega com a experiência também."
   ]
  },
  {
   "cell_type": "markdown",
   "metadata": {},
   "source": [
    "### 5. DÚVIDAS\n",
    "\n",
    "O Python é uma linguagem em alta no momento e possui muita documentação por aí: fóruns, wikis, canais no YouTube, cursos, etc. Então, se tiver alguma dúvida ou problema, generealize-o (ou seja, não deixe ele específico para o seu projeto) e procure na internet. Você provavelmente vai encontrar algum material a respeito.\n",
    "Você provavelmente conhecerá o StackOverFlow muito em breve 😂"
   ]
  },
  {
   "cell_type": "markdown",
   "metadata": {},
   "source": [
    "## TRADIÇÃO\n",
    "-----------\n",
    "\n",
    "Existe uma tradição ao aprender uma nova linguagem de programação em fazer um programa simples: mostrar ao usuário a frase \"Hello, World!\" (\"Olá, Mundo!\"). Rés a lenda que dá azar não fazer esse procedimento, então, vamos lá né 😅"
   ]
  },
  {
   "cell_type": "code",
   "execution_count": null,
   "metadata": {},
   "outputs": [],
   "source": [
    "# O \"print\" é um método que retorna no terminal o valor dentro dos \"parênteses\".\n",
    "# Para retornar um texto, precisamos adioná-lo entre aspas simples ou duplas.\n",
    "\n",
    "print('Hello, World!') \n",
    "print(\"Olá, Mundo!\")"
   ]
  }
 ],
 "metadata": {
  "kernelspec": {
   "display_name": "Python 3",
   "language": "python",
   "name": "python3"
  },
  "language_info": {
   "codemirror_mode": {
    "name": "ipython",
    "version": 3
   },
   "file_extension": ".py",
   "mimetype": "text/x-python",
   "name": "python",
   "nbconvert_exporter": "python",
   "pygments_lexer": "ipython3",
   "version": "3.8.8"
  }
 },
 "nbformat": 4,
 "nbformat_minor": 4
}
