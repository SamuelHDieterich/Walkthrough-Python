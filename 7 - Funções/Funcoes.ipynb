{
 "metadata": {
  "language_info": {
   "codemirror_mode": {
    "name": "ipython",
    "version": 3
   },
   "file_extension": ".py",
   "mimetype": "text/x-python",
   "name": "python",
   "nbconvert_exporter": "python",
   "pygments_lexer": "ipython3",
   "version": "3.8.8"
  },
  "orig_nbformat": 2,
  "kernelspec": {
   "name": "python388jvsc74a57bd0b3ba2566441a7c06988d0923437866b63cedc61552a5af99d1f4fb67d367b25f",
   "display_name": "Python 3.8.8 64-bit ('base': conda)"
  }
 },
 "nbformat": 4,
 "nbformat_minor": 2,
 "cells": [
  {
   "source": [
    "# FUNÇÕES\n",
    "---------\n",
    "\n",
    "Seguindo essa *playlist* de Python, você já utilizou diversas funções *build-in* (ou seja, da própria ferramenta) e externas usando as bibliotecas. Contudo, não acha que seria muito útil você criar as suas próprias funções? Existem alguns motivos principais para criar uma função personalizada:\n",
    "\n",
    "- Executar algum procedimento muito específico para o seu projeto;\n",
    "- Possuir alguma etapa ou processo repetitivo;\n",
    "- Conseguir chamar essa função para outros projetos (criar um biblioteca própria);\n",
    "\n",
    "Além disso, vale reforçar que as funções são muito poderosas pela forma que podemos trabalhar com os dados de entrada e saída.\n",
    "\n",
    "A estrutura básica de uma função é dada pelo exemplo abaixo:\n",
    "\n",
    "```\n",
    "def <função>(<parâmetros>):\n",
    "\n",
    "    \"\"\"\n",
    "    <docstring>\n",
    "    \"\"\"\n",
    "\n",
    "    ...\n",
    "    ...\n",
    "\n",
    "    return <valor>\n",
    "```\n",
    "\n",
    "**`def`**: Define a estrutura de uma função;\n",
    "\n",
    "**`<função>`**: Este será o nome da função e como ela será chamada ao longo do código (não pode conter espaços em branco);\n",
    "\n",
    "**`<parâmetros>`**: (Opcional) Responsável pela entrada de informação utilizada dentro da função, como veremos em breve;\n",
    "\n",
    "**`<docstring>`**: (Opcional) Todo texto comentado por parênteses no topo da função se torna a documentação dessa função, essa é uma prática altamente recomendada (comente o que a função faz, brevemente, o que ela recebe e o que retorna);\n",
    "\n",
    "**`return`**: (Opcional) Toda função retorna algum valor (saída), caso nada seja declarado ela retornará `None`;\n",
    "\n",
    "**`<valor>`** O que será retornado."
   ],
   "cell_type": "markdown",
   "metadata": {}
  },
  {
   "source": [
    "**Função mínima**  \n",
    "Definimos que a função chama `olá_mundo` e recebe nenhum argumento."
   ],
   "cell_type": "markdown",
   "metadata": {}
  },
  {
   "cell_type": "code",
   "execution_count": null,
   "metadata": {},
   "outputs": [],
   "source": [
    "def olá_mundo():\n",
    "    print('Olá, Mundo!')\n",
    "    # Como não existe o return, vai retornar None\n",
    "\n",
    "print(olá_mundo())\n",
    "# Olá, Mundo!\n",
    "# None"
   ]
  },
  {
   "source": [
    "É um péssimo hábito \"retornar\" um print!"
   ],
   "cell_type": "markdown",
   "metadata": {}
  },
  {
   "source": [
    "**Função mínima 2**  \n",
    "Definimos que a função chama `olá_mundo` e recebe nenhum parâmetro."
   ],
   "cell_type": "markdown",
   "metadata": {}
  },
  {
   "cell_type": "code",
   "execution_count": null,
   "metadata": {},
   "outputs": [],
   "source": [
    "def olá_mundo():\n",
    "    return 'Olá, Mundo!'\n",
    "\n",
    "print(olá_mundo())\n",
    "# Olá, Mundo!"
   ]
  },
  {
   "source": [
    "## Parâmetros\n",
    "-------------\n",
    "\n",
    "Primeiro, vamos desmistificar uma confusão comum quando estamos trabalhando com funções: a diferença entre **argumentos** e **parâmetros**. Quando estamos construindo uma função, as variáveis que definimos para serem as entradas são definidas como \"parâmetros\". Contudo, quando chamamos esse método estamos passando \"argumentos\" para rodar essa função. Ou seja, parâmetro é a variável declarada na função e o argumento e o valor de fato da variável que será utilizado na função.\n",
    "\n",
    "Vejamos um exemplo básico para entender o funcionamento dos parâmetros/argumentos."
   ],
   "cell_type": "markdown",
   "metadata": {}
  },
  {
   "source": [
    "**Bom dia**"
   ],
   "cell_type": "markdown",
   "metadata": {}
  },
  {
   "cell_type": "code",
   "execution_count": null,
   "metadata": {},
   "outputs": [],
   "source": [
    "# Criamos a função\n",
    "# Ela recebe um parâmetro obrigatório chamado 'nome'\n",
    "# Dessa forma, a partir dessa variável, podemos utilizá-la ao longo da função (sabendo que ela será um str)\n",
    "def bom_dia(nome):\n",
    "    \"Dado um nome, retorna uma mensagem de bom dia para esse nome.\"\n",
    "    return f'Bom dia, {nome}!'\n",
    "\n",
    "# Passamos o argumento \"Fulano\" para a função (parâmetro posicional)\n",
    "print(bom_dia('Fulano'))\n",
    "\n",
    "# Podemos também definir que \"nome\" deve ser igual a \"Ciclano\"\n",
    "print(bom_dia(nome='Ciclano'))"
   ]
  },
  {
   "source": [
    "### `args`\n",
    "\n",
    "Parâmetros obrigatórios, mas podem ter valores padrão."
   ],
   "cell_type": "markdown",
   "metadata": {}
  },
  {
   "source": [
    "**Calculadora básica**"
   ],
   "cell_type": "markdown",
   "metadata": {}
  },
  {
   "cell_type": "code",
   "execution_count": null,
   "metadata": {},
   "outputs": [],
   "source": [
    "# Definimos que a função 'calculadora' possui dois parâmetros, 'x' e 'y'\n",
    "# Por padrão, x = 1 e y = 1, dessa forma, se nenhum argumento for passado, estes srão os seus valores\n",
    "def calculadora(x = 1, y = 1):\n",
    "\t\t# Docstring\n",
    "    \"\"\"\n",
    "    Calculadora\n",
    "    -----------\n",
    "\n",
    "    Cria um dicionário com as principais operações matemáticas, dado dois números.\n",
    "\n",
    "    args\n",
    "    ----\n",
    "\n",
    "        x : int ou float\n",
    "        Primeiro número de entrada\n",
    "\n",
    "        y : int ou float\n",
    "        Segundo número de entrada\n",
    "    \n",
    "    return\n",
    "    ------\n",
    "    \n",
    "        dict\n",
    "        {'operação' : valor}\n",
    "    \"\"\"\n",
    "\n",
    "    # Retornamos um dicionário com as operações básicas\n",
    "    return {\n",
    "        'soma' : x + y,\n",
    "        'subtração' : x - y,\n",
    "        'divisão' : x / y,\n",
    "        'multiplicação' : x * y,\n",
    "        'potência' : x ** y\n",
    "    }\n",
    "\n",
    "a = 3\n",
    "b = 5\n",
    "\n",
    "# 'resultado' recebe o 'return' da função 'calculadora'\n",
    "resultado = calculadora(a, b)\n",
    "# resultado = calculadora(x = a, y = b)\n",
    "\n",
    "print(resultado)\n",
    "# {'soma': 8, 'subtração': -2, 'divisão': 0.6, 'multiplicação': 15, 'potência': 243}\n",
    "\n",
    "\n",
    "# Caso nenhum argumento seja passado, x = 1 e y = 1\n",
    "print(calculadora())\n",
    "# {'soma': 2, 'subtração': 0, 'divisão': 1.0, 'multiplicação': 1, 'potência': 1}"
   ]
  },
  {
   "source": [
    "### `*argv`\n",
    "\n",
    "Lista de valores com tamanho indeterminado. `*argv` é apenas um nome comum para esse tipo de parâmetro, o necessário é utilizar o `*`."
   ],
   "cell_type": "markdown",
   "metadata": {}
  },
  {
   "source": [
    "**Mensagem para todos**"
   ],
   "cell_type": "markdown",
   "metadata": {}
  },
  {
   "cell_type": "code",
   "execution_count": null,
   "metadata": {},
   "outputs": [],
   "source": [
    "# 'mensagem' é um argumento posicional\n",
    "# Tudo que vier depois vai se tornar uma lista salva em 'nomes'\n",
    "def mensagem(mensagem, *nomes):\n",
    "    \"Manda uma 'mensagem' para a lista de 'nomes'\"\n",
    "    for i in nomes:\n",
    "        print(f'{mensagem}, {i}.')\n",
    "\n",
    "mensagem('Oi', 'Carol', 'Beatriz', 'Pedro', 'Carlos')"
   ]
  },
  {
   "source": [
    "### `**kwargs`\n",
    "\n",
    "Dicionário de parâmetros opcionais e devem ser chamados no formato `<parâmetro> = <argumento>`. `**kwargs` é apenas um nome comum para esse tipo de parâmetro, o necessário é utilizar o `**`."
   ],
   "cell_type": "markdown",
   "metadata": {}
  },
  {
   "source": [
    "**Preço de produto**"
   ],
   "cell_type": "markdown",
   "metadata": {}
  },
  {
   "cell_type": "code",
   "execution_count": null,
   "metadata": {},
   "outputs": [],
   "source": [
    "# 'preço' é o parâmetro posicional\n",
    "# '**kwargs' vai receber os demais parâmetros em formato de dicionário\n",
    "def preço_final(preço, **kwargs):\n",
    "\n",
    "    \"\"\"\n",
    "    Preço final\n",
    "    -----------\n",
    "\n",
    "    Calcula o valor final de um produto.\n",
    "\n",
    "    args\n",
    "    ----\n",
    "\n",
    "        preço : float\n",
    "        Preço inicial do produto\n",
    "\n",
    "    **kwargs\n",
    "    --------\n",
    "\n",
    "        imposto : float\n",
    "        Imposto sobre o preço (%)\n",
    "\n",
    "        desconto : float\n",
    "        Desconto sobre o preço (%)\n",
    "\n",
    "    return\n",
    "    ------\n",
    "\n",
    "        float\n",
    "        Valor final do valor do produto\n",
    "    \"\"\"\n",
    "\n",
    "    # Resgata os valores do dicionário 'kwargs'\n",
    "    imposto = kwargs.get('imposto')\n",
    "    desconto = kwargs.get('desconto')\n",
    "\n",
    "    # Se 'imposto' não for vazio (existir)\n",
    "    if imposto:\n",
    "        preço += preço * (imposto/100)\n",
    "\n",
    "    # Se 'desconto' não for vazio (existir)\n",
    "    if desconto:\n",
    "        preço -= preço * (desconto/100)\n",
    "    \n",
    "    # Retorna o preço calculado\n",
    "    return preço\n",
    "\n",
    "valor_inicial = 80\n",
    "imposto = 12.5\n",
    "desconto = 5\n",
    "\n",
    "# Mesmo não passando todas os possíveis parâmetros para **kwargs, a função ainda funciona\n",
    "print(preço_final(valor_inicial, imposto = imposto, desconto = desconto))\n",
    "# 85.5\n",
    "\n",
    "# Teste mudando os valores ou comentando os parâmetros opcionais"
   ]
  },
  {
   "source": [
    "A combinação de todos esses tipos de parâmetros também é possível, seguindo a ordem: `(args, *argv, **kwargs)`."
   ],
   "cell_type": "markdown",
   "metadata": {}
  },
  {
   "source": [
    "## Variáveis globais e locais\n",
    "-----------------------------\n",
    "\n",
    "Uma variável global é uma variável definida que vale para todo o código.\n",
    "\n",
    "Uma variável local é uma variável definida no escopo de uma função e só possui esse valor durante a execução desse método."
   ],
   "cell_type": "markdown",
   "metadata": {}
  },
  {
   "cell_type": "code",
   "execution_count": null,
   "metadata": {},
   "outputs": [],
   "source": [
    "# Variável global\n",
    "x = 50\n",
    "\n",
    "def f():\n",
    "    # Variável local\n",
    "    x = 20\n",
    "    print(x)\n",
    "\n",
    "print(x)  # 50\n",
    "f()       # 20\n",
    "print(x)  # 50"
   ]
  },
  {
   "source": [
    "## Funções anônimas (`lambda`)\n",
    "------------------------------\n",
    "\n",
    "Caso precisamos fazer uma operação simples, podemos construir uma função anônima: podem ter qualquer número de argumentos, mas só podem ter uma expressão.\n",
    "\n",
    "`lambda <argumentos> : <expressão>`"
   ],
   "cell_type": "markdown",
   "metadata": {}
  },
  {
   "source": [
    "**Multiplicação**"
   ],
   "cell_type": "markdown",
   "metadata": {}
  },
  {
   "cell_type": "code",
   "execution_count": null,
   "metadata": {},
   "outputs": [],
   "source": [
    "# A variável 'vezes' vai \"segurar\" a função anônima\r\n",
    "vezes = lambda a, b : a * b\r\n",
    "\r\n",
    "# Utiliza a função\r\n",
    "print(vezes(3, 17)) # 51"
   ]
  },
  {
   "source": [
    "**Potência**  \n",
    "Vamos misturar as funções \"normais\" e anônimas."
   ],
   "cell_type": "markdown",
   "metadata": {}
  },
  {
   "cell_type": "code",
   "execution_count": null,
   "metadata": {},
   "outputs": [],
   "source": [
    "# Função potência\n",
    "def potência(n):\n",
    "    \"Retorna uma função anônima que vai ser a potência de 'n'\"\n",
    "    return lambda a : a ** n\n",
    "\n",
    "# Função x^2\n",
    "ao_quadrado = potência(2)\n",
    "\n",
    "# Função x^3\n",
    "ao_cubo     = potência(3)\n",
    "\n",
    "# Testa as funções\n",
    "print(ao_quadrado(5))  # 25\n",
    "print(ao_cubo(5))      # 125"
   ]
  }
 ]
}