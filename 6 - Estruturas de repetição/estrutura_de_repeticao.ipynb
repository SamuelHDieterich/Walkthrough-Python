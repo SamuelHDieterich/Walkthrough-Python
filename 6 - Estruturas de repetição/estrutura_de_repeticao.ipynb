{
 "metadata": {
  "language_info": {
   "codemirror_mode": {
    "name": "ipython",
    "version": 3
   },
   "file_extension": ".py",
   "mimetype": "text/x-python",
   "name": "python",
   "nbconvert_exporter": "python",
   "pygments_lexer": "ipython3",
   "version": "3.8.8"
  },
  "orig_nbformat": 2,
  "kernelspec": {
   "name": "python388jvsc74a57bd0b3ba2566441a7c06988d0923437866b63cedc61552a5af99d1f4fb67d367b25f",
   "display_name": "Python 3.8.8 64-bit ('base': conda)"
  }
 },
 "nbformat": 4,
 "nbformat_minor": 2,
 "cells": [
  {
   "source": [
    "# ESTRUTURA DE REPETIÇÃO\n",
    "------------------------\n",
    "\n",
    "As estruturas de repetição são expressões capazes de repetir por um número determinado ou indeterminado de vezes uma parte do código. Dessa forma, somos capazes de evitar repetições desnecessárias na escrita do código ou até mesmo apenas prosseguir um procedimento a partir de uma condição, como veremos a seguir."
   ],
   "cell_type": "markdown",
   "metadata": {}
  },
  {
   "source": [
    "## while\n",
    "--------\n",
    "\n",
    "A *keyword* `while` é equivalente a uma expressão de \"ENQUANTO\". Ou seja, enquanto um condição for satisfeita (verdadeira), o *loop* será mantido.\n",
    "\n",
    "```\n",
    "while <condição>:\n",
    "    ...\n",
    "    ...\n",
    "```\n",
    "\n",
    "⚠️ ATENÇÃO:  Cuidado para não criar um loop infinito!"
   ],
   "cell_type": "markdown",
   "metadata": {}
  },
  {
   "source": [
    "**Decolagem**"
   ],
   "cell_type": "markdown",
   "metadata": {}
  },
  {
   "cell_type": "code",
   "execution_count": null,
   "metadata": {},
   "outputs": [],
   "source": [
    "# Biblioteca\n",
    "import time\n",
    "\n",
    "# Varíavel\n",
    "i = 10\n",
    "\n",
    "# Mensagem inicial\n",
    "print('Decolagem em:')\n",
    "\n",
    "# Enquanto 'i' for maior que 0...\n",
    "while i > 0:\n",
    "\n",
    "    # Espera 1 segundo\n",
    "    time.sleep(1)\n",
    "\n",
    "    print(f'{i}...')\n",
    "\n",
    "    # A cada passagem no loop, i perde uma unidade\n",
    "    i -= 1 # i = i - 1\n",
    "\n",
    "# Só será acionado depois que o loop acabar\n",
    "print('DECOLAR!!! 🚀')"
   ]
  },
  {
   "source": [
    "**Descubra o número**"
   ],
   "cell_type": "markdown",
   "metadata": {}
  },
  {
   "cell_type": "code",
   "execution_count": null,
   "metadata": {},
   "outputs": [],
   "source": [
    "# Biblioteca\n",
    "from random import randint\n",
    "\n",
    "# Número escolhido\n",
    "num = randint(1, 10) # Número aleatório entre 1 e 10\n",
    "# Escolha do usuário\n",
    "chute = 0\n",
    "\n",
    "# Enquanto a escolha for diferente do número escolhido...\n",
    "while chute != num:\n",
    "    # Recebe uma nova tentativa do usuário\n",
    "    chute = int(input('Tente adivinhar o número (entre 1 e 10):'))\n",
    "    print(f'Você apostou no número {chute}')\n",
    "\n",
    "# Parabeniza o jogador\n",
    "print('Parabéns, você acertou!')"
   ]
  },
  {
   "source": [
    "## for\n",
    "------\n",
    "\n",
    "A *keyword* `for` é equivalente a expressão \"PARA\". Ou seja, para \"alguma coisa\" em determinada sequência, faça algo.\n",
    "\n",
    "```\n",
    "for <variável> in <sequência>:\n",
    "    ...\n",
    "    ...\n",
    "```"
   ],
   "cell_type": "markdown",
   "metadata": {}
  },
  {
   "source": [
    "### Operadores comuns\n",
    "\n",
    "`in range()` - Sequência usando o `range` visto em *tipos de dados*`in len()` - Sequência utilizando o tamanho do conteúdo dentro de `lenin enumerate()` - Retorna tanto o índice quanto o valor da sequência, respectivamente"
   ],
   "cell_type": "markdown",
   "metadata": {}
  },
  {
   "source": [
    "**Decolagem - versão `for` _loop_**"
   ],
   "cell_type": "markdown",
   "metadata": {}
  },
  {
   "cell_type": "code",
   "execution_count": null,
   "metadata": {},
   "outputs": [],
   "source": [
    "# Biblioteca\n",
    "import time\n",
    "\n",
    "# Mensagem inicial\n",
    "print('Decolagem em:')\n",
    "\n",
    "# Para 'i' entre 10 até 1...\n",
    "for i in range(10, 0, -1):\n",
    "\n",
    "    # Espera 1 segundo\n",
    "    time.sleep(1)\n",
    "\n",
    "    print(f'{i}...')\n",
    "\n",
    "# Só será acionado depois que o loop acabar\n",
    "print('DECOLAR!!! 🚀')"
   ]
  },
  {
   "source": [
    "**Lista de chamada**"
   ],
   "cell_type": "markdown",
   "metadata": {}
  },
  {
   "cell_type": "code",
   "execution_count": null,
   "metadata": {},
   "outputs": [],
   "source": [
    "# Lista de nomes\n",
    "chamada = (\n",
    "    'Ana', 'Bianca', 'Gabriel', 'Helen', 'Kevin'\n",
    ")\n",
    "\n",
    "# Enumarate retorna, respectivamente, o índice e o valor da lista 'chamada'\n",
    "for índice, valor in enumerate(chamada):\n",
    "    print(f'{índice + 1} - {valor}')"
   ]
  },
  {
   "source": [
    "### *List comprehensions*\n",
    "\n",
    "\"Compreensões de lista\" proporciona a criação de listas a partir de uma operação dentro de uma própria lista. Esse método não adiciona de fato algo novo, mas pode deixar o código mais *clean* e enxuto."
   ],
   "cell_type": "markdown",
   "metadata": {}
  },
  {
   "source": [
    "**Quadrados**  \n",
    "Vamos usar o mesmo exemplo dos quadrados, $x^2$."
   ],
   "cell_type": "markdown",
   "metadata": {}
  },
  {
   "source": [
    "**Usando `for loop`**"
   ],
   "cell_type": "markdown",
   "metadata": {}
  },
  {
   "cell_type": "code",
   "execution_count": null,
   "metadata": {},
   "outputs": [],
   "source": [
    "# Cria uma lista vazia\n",
    "quadrados = []\n",
    "\n",
    "# Loop de 0 até 9\n",
    "for x in range(10):\n",
    "\tquadrados.append(x**2)\n",
    "\t# Adiciona o quadrado desse número para a lista\n",
    "\n",
    "print(quadrados)\n",
    "# [0, 1, 4, 9, 16, 25, 36, 49, 64, 81]"
   ]
  },
  {
   "source": [
    "**Usando `map`**"
   ],
   "cell_type": "markdown",
   "metadata": {}
  },
  {
   "cell_type": "code",
   "execution_count": null,
   "metadata": {},
   "outputs": [],
   "source": [
    "quadrados = list(map(lambda x: x**2, range(10)))\n",
    "\n",
    "print(quadrados)\n",
    "# [0, 1, 4, 9, 16, 25, 36, 49, 64, 81]"
   ]
  },
  {
   "source": [
    "**Usando _list comprehension_**"
   ],
   "cell_type": "markdown",
   "metadata": {}
  },
  {
   "cell_type": "code",
   "execution_count": null,
   "metadata": {},
   "outputs": [],
   "source": [
    "quadrados = [i**2 for i in range(10)]\n",
    "\n",
    "print(quadrados)\n",
    "# [0, 1, 4, 9, 16, 25, 36, 49, 64, 81]"
   ]
  },
  {
   "source": [
    "## Alterar o *loop*\n",
    "-------------------\n",
    "\n",
    "Dependendo da necessidade do nosso código, um fator externo pode influenciar o funcionamento do programa. Para isso, podemos adicionar algumas expressões que realizam diferentes ações dentro de estruturas de repetição.\n",
    "\n",
    "**QUEBRAR:** `break`\n",
    "Ao adicionar essa expressão, toda vez que uma condição acionar essa ação, todo a estrutura de repetição é interrompida.\n",
    "\n",
    "**CONTINUAR:** `continue`\n",
    "Utilizando essa ação, o pedaço posterior do código será interrompido, mas o *loop* ainda será preservado.\n",
    "\n",
    "**IGNORAR:** `pass`\n",
    "Essa expressão permite que o programa continue a rodar, mesmo que uma condição foi atendida."
   ],
   "cell_type": "markdown",
   "metadata": {}
  },
  {
   "source": [
    "### `break`"
   ],
   "cell_type": "markdown",
   "metadata": {}
  },
  {
   "cell_type": "code",
   "execution_count": null,
   "metadata": {},
   "outputs": [],
   "source": [
    "# Para 'i' de 0 até 9\n",
    "for i in range(10):\n",
    "\n",
    "    # Se i for igual a 5...\n",
    "    if i == 5:\n",
    "        break # Quebra o loop\n",
    "\n",
    "    print('Número é ' + str(i))\n",
    "\n",
    "print('Fim do loop!')\n",
    "\n",
    "# Número é 0\n",
    "# Número é 1\n",
    "# Número é 2\n",
    "# Número é 3\n",
    "# Número é 4\n",
    "# Fim do loop!"
   ]
  },
  {
   "source": [
    "### `continue`"
   ],
   "cell_type": "markdown",
   "metadata": {}
  },
  {
   "cell_type": "code",
   "execution_count": null,
   "metadata": {},
   "outputs": [],
   "source": [
    "# Para 'i' de 0 até 9\n",
    "for i in range(10):\n",
    "\n",
    "    # Se i for igual a 5...\n",
    "    if i == 5:\n",
    "        continue # Pula apenas essa \"rodada\"\n",
    "\n",
    "    print('Número é ' + str(i))\n",
    "\n",
    "print('Fim do loop!')\n",
    "\n",
    "# Número é 0\n",
    "# Número é 1\n",
    "# Número é 2\n",
    "# Número é 3\n",
    "# Número é 4\n",
    "# Número é 6\n",
    "# Número é 7\n",
    "# Número é 8\n",
    "# Número é 9\n",
    "# Fim do loop!"
   ]
  },
  {
   "source": [
    "### `pass`"
   ],
   "cell_type": "markdown",
   "metadata": {}
  },
  {
   "cell_type": "code",
   "execution_count": null,
   "metadata": {},
   "outputs": [],
   "source": [
    "# Para 'i' de 0 até 9\n",
    "for i in range(10):\n",
    "\n",
    "    # Se i for igual a 5...\n",
    "    if i == 5:\n",
    "        pass # Só ignora\n",
    "\n",
    "    print('Número é ' + str(i))\n",
    "\n",
    "print('Fim do loop!')\n",
    "\n",
    "# Número é 0\n",
    "# Número é 1\n",
    "# Número é 2\n",
    "# Número é 3\n",
    "# Número é 4\n",
    "# Número é 5\n",
    "# Número é 6\n",
    "# Número é 7\n",
    "# Número é 8\n",
    "# Número é 9\n",
    "# Fim do loop!"
   ]
  }
 ]
}