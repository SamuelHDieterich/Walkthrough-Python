{
 "metadata": {
  "language_info": {
   "codemirror_mode": {
    "name": "ipython",
    "version": 3
   },
   "file_extension": ".py",
   "mimetype": "text/x-python",
   "name": "python",
   "nbconvert_exporter": "python",
   "pygments_lexer": "ipython3",
   "version": 3
  },
  "orig_nbformat": 2
 },
 "nbformat": 4,
 "nbformat_minor": 2,
 "cells": [
  {
   "source": [
    "# BIBLIOTECAS\n",
    "-------------\n",
    "\n",
    "As bibliotecas servem para poder adicionar funcionalidades diversas no programa, sendo utilizando códigos produzidos por você ou pela comunidade. Vejamos como podemos estar \"chamando\" essas bibliotecas e quais são as mais utilizadas.\n",
    "\n",
    "**Observações:** Sempre importe as bibliotecas que serão utilizadas na parte superior do código.\n",
    "\n",
    "Tendo a biblioteca instalada em seu ambiente de trabalho, podemos importar as bibliotecas ou funções de duas formas:\n",
    "\n",
    "1. Importar todas as funções disponíveis no pacote.\n",
    "\n",
    "`import <biblioteca>`\n",
    "\n",
    "Desse jeito, teremos que chamar uma função desta biblioteca pelo seguinte formato: `biblioteca.função()`.\n",
    "\n",
    "2. Importar apenas algumas funções específicas.\n",
    "\n",
    "`from <biblioteca> import <função>`\n",
    "\n",
    "Desta forma, basta chamar a função importada no formato: `função()`.\n",
    "\n",
    "Uma prática comum é renomear as bibliotecas ou funções, geralmente para deixar em uma forma mais enxuta. Assim, ao invés de chamarmos uma função por `biblioteca.função()`, por exemplo, chamamos por `<novo nome>.função()`. Para isso, usamos a expressão as `<novo nome>`:\n",
    "\n",
    "`import <biblioteca> as <novo nome>`  \n",
    "`from <biblioteca> import <função> as <novo nome>`"
   ],
   "cell_type": "markdown",
   "metadata": {}
  },
  {
   "source": [
    "## Bibliotecas comuns\n",
    "---------------------\n",
    "\n",
    "- **math**: Funções matemáticas complexas;\n",
    "- **random**: Números aleatórios;\n",
    "- **os**: Controle de arquivos do sistema;\n",
    "- **sys**: Controle de sistema do computador;\n",
    "- **time**: Medir o tempo, hora, etc;\n",
    "- **timeit**: Tempo de execução;\n",
    "- **tkinter**: Criação de GUI;\n",
    "- **pygame**: Craiçao de jogos;\n",
    "- **numpy**: Manipulação de *arrays*, vetores e matrizes;\n",
    "- **pandas**: Manipulação e visualização de tabelas de dados;\n",
    "- **scipy**: Operações da área científica;\n",
    "- **matplotlib**: Criação e visualização de gráficos;\n",
    "- **seaborn**: Criação e visualização de gráficos;\n",
    "- **scikit-learn**: Modelos para *data science*;\n",
    "- **tensorflow**: *Framework* para *deep learning*;"
   ],
   "cell_type": "markdown",
   "metadata": {}
  },
  {
   "source": [
    "## Instalação de bibliotecas\n",
    "----------------------------\n",
    "\n",
    "Existem dois métodos principais para a instalação de bibliotecas a partir de comandos no terminal. Não se preocupem, pois não é nada demais."
   ],
   "cell_type": "markdown",
   "metadata": {}
  },
  {
   "source": [
    "### pip\n",
    "\n",
    "O mais comum é utilizando o **PyPI** que é um repositório de diversas bibliotecas para Python. Se você fez uma instalação comum do Python em seu computador, você deve ter instalado junto o `pip`. A partir desse comando, iremos instalar uma biblioteca, basta digitar (o '$' quer dizer que é um comando para terminal, ignore-o na digitação):\n",
    "\n",
    "`$ pip install <biblioteca>`\n",
    "\n",
    "Caso você esteja utilizando um sistema Linux, o comando é alterado para:\n",
    "\n",
    "`$ pip3 install <biblioteca>`\n",
    "\n",
    "O motivo do acréscimo desse \"3\" é pelo fato de o Linux já vir com o Python2 que é chamado de `python` e `pip` por padrão. Você pode modificar isso utilizando um `alias`.\n",
    "\n",
    "Caso esse procedimento não funcione, tente as seguintes opções:\n",
    "\n",
    "`$ python -m pip install <biblioteca>`  \n",
    "`$ python3 -m pip install <biblioteca>`"
   ],
   "cell_type": "markdown",
   "metadata": {}
  },
  {
   "source": [
    "### conda\n",
    "\n",
    "Caso você esteja utilizando o software **Anaconda**, que contem diversos recursos para *data science* no geral (Python e R), você pode utilizar o próprio repositório deles para fazer a instalação de bibliotecas. Existem duas opções nesse caso: utilizar a interface gráfica do Anaconda para instalar novas bibliotecas em *packages* ou digitar o comando no terminal:\n",
    "\n",
    "```bash\n",
    "$ conda activate <ambiente>\n",
    "$ conda install <biblioteca>\n",
    "```\n",
    "\n",
    "O primeiro comando é para certificar que o ambiente esteja ativo, caso você esteja utilizando o padrão, basta substituir por *base*. O segundo faz a instalação da biblioteca no ambiente ativo. Lembrando que o Anaconda já instala por padrão diversas bibliotecas comuns no *base*, dessa forma, raramente será necessário instalar um novo pacote.\n",
    "\n",
    "Caso encontre dificuldade nesses processos, existem diversos tutoriais na internet dedicados a explicar esses procedimentos."
   ],
   "cell_type": "markdown",
   "metadata": {}
  },
  {
   "source": [
    "**Gráfico da função seno**"
   ],
   "cell_type": "markdown",
   "metadata": {}
  },
  {
   "cell_type": "code",
   "execution_count": null,
   "metadata": {},
   "outputs": [],
   "source": [
    "# Bibliotecas\n",
    "import numpy as np\n",
    "import matplotlib.pyplot as plt\n",
    "\n",
    "# Valores de x e y para o gráfico\n",
    "x = np.linspace(-5, 5, 100) # Array com 100 valores indo de -5 até 5\n",
    "y = np.sin(x)               # Array com os valores da função seno em 'x'\n",
    "\n",
    "plt.plot(x, y)  # Gera o gráfico de linha\n",
    "plt.show()      # Mostra o gráfico produzido"
   ]
  }
 ]
}