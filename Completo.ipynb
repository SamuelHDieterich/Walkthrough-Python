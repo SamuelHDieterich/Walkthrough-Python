{
 "cells": [
  {
   "cell_type": "markdown",
   "source": [
    "# INTRODUÇÃO\n",
    "------------\n",
    "\n",
    "O Python é uma linguagem de programação conhecida como **OOP (_Object Oriented Programming_)**, de **alto nível** e **interpretada**."
   ],
   "metadata": {}
  },
  {
   "cell_type": "markdown",
   "source": [
    "## COMPILADA x INTERPRETADA\n",
    "------------------------------\n",
    "\n",
    "Em qualquer linguagem de programação estamos escrevendo um código que será convertido para linguagem de máquina, sendo possível então a utilização desse programa pelo computador ou outros dispositivos eletrônicos.\n",
    "\n",
    "<br>\n",
    "\n",
    "### COMPILADA\n",
    "\n",
    "Em uma linguagem compilada, após concluir um programa, precisamos passar por um programa chamado \"compilador\" que irá ler o programa, verificar algum erro estrutural e criar um arquivo executável para a plataforma desejada. Dessa forma, com esse novo arquivo, não conseguimos mais editar o código (partindo apenas desse material) e não precisamos de mais nenhum outro programa para rodar o script.\n",
    "\n",
    "**Vantagem:** Depois de compilado, o programa pode rodar em outros dispositivos (sem a interface de desenvolvedor).  \n",
    "**Desvantagem:** Não é possível verificar ou editá-lo possuindo apenas o arquivo compilado.  \n",
    "**Exemplos:** C, C++, Fortran, Visual Basic\n",
    "\n",
    "<br>\n",
    "\n",
    "### INTERPRETADA\n",
    "\n",
    "Em uma linguagem interpretada, o código não precisa passar por esse compilador, mas para o programa funcionar é necessário executar o programa utilizando um \"interpretador\" que irá ler o programa enquanto está rodando o código.\n",
    "\n",
    "**Vantagem:** O programa pode ser executado linha a linha, sendo para o processo de *debugging* ou ainda utilizar os *notebooks*.  \n",
    "**Desvantagem:** O programa só poderá rodar possuindo um interpretador compatível com a versão utilizada e costuma ser bem mais lento (em ordens de magnitude).  \n",
    "**Exemplos:** Python, R, JavaScript"
   ],
   "metadata": {}
  },
  {
   "cell_type": "markdown",
   "source": [
    "## BAIXO NÍVEL x ALTO NÍVEL\n",
    "---------------------------\n",
    "\n",
    "No tópico anterior foi comentado que qualquer código deve passar por um procedimento para a máquina conseguir ler o programa (deixar em linguagem de máquina). Da mesma forma, podemos programar, conforme a linguagem, de uma maneira mais \"próxima\" dessa conversão ou mais parecido com uma linguagem humana, criando assim um espectro conhecido como \"nível\" da linguagem dentro da programação.\n",
    "\n",
    "<br>\n",
    "\n",
    "### BAIXO NÍVEL\n",
    "\n",
    "Uma linguagem de baixo nível significa que está muito próxima do comportamento tomado pela máquina. Dessa forma, a linguagem costuma apresentar uma interpretação mais diícil, mas permite mais controle do sistema. Além disso, funções mais complexas podem ser difícil de implementar sem cair em várias de linhas de código.\n",
    "\n",
    "**Vantagem:** Os programadores costumam ter mais controle do funcionamento da máquina e o código de execução, o que também compromete a performance durante a execução do *script*.  \n",
    "**Desvantagem:** Possui uma sintaxe mais complicada e pouco ágil para os programadores.  \n",
    "**Exemplos:** Assembly e binário\n",
    "\n",
    "<br>\n",
    "\n",
    "### ALTO NÍVEL\n",
    "\n",
    "Uma linguagem de alto nível significar que está mais próxima da fala/escrita humana. Assim, essas linguagens são mais fáceis de aprender e trabalhar. Fora isso, possuem uma sintaxe mais variada e abertura para diversas outras funcionalidades.\n",
    "\n",
    "**Vantagem:** Costumam-se ser mais fáceis de aprender e ágeis de programar, pela simplicidade da sintaxe.  \n",
    "**Desvantagem:** Precisam passar pelo procedimento de compilação ou interpretação, se tornando programas mais lentos.  \n",
    "**Exemplos:** Python e Java"
   ],
   "metadata": {}
  },
  {
   "cell_type": "markdown",
   "source": [
    "## PROGRAMAÇÃO ORIENTADA A OBJETOS\n",
    "----------------------------------\n",
    "\n",
    "Esse já é um tópico mais avançado, mas certamente é uma das funcionalidades mais fascinantes e poderosas em algumas linguagens. Basicamente, um programa pode ser escrito em torno de objetos, que representam o mundo real, que podem carregar atributos (informações) e métodos (funções). Embora isso provavelmente não esteja claro, você verá que em programas mais complexos, esse mecanismo se torna mais comum pelas suas capacidades e diversidades de uso.\n",
    "\n",
    "Mais informações no vídeo: https://youtu.be/QY0Kdg83orY"
   ],
   "metadata": {}
  },
  {
   "cell_type": "markdown",
   "source": [
    "## OBSERVAÇÕES\n",
    "--------------\n",
    "\n",
    "O que acha de já comentarmos de tópicos comuns na linguagem Python?   \n",
    "Vamos para a lista:"
   ],
   "metadata": {}
  },
  {
   "cell_type": "markdown",
   "source": [
    "### 1. VERSÕES\n",
    "\n",
    "O Python possui duas versões principais: Python 2 e Python 3. Contudo, o Python 2 não possui mais suporte e deve ser evitado sempre que possível (até porque o \"3\" possui mais funcionalidades). Além disso, dentro do Python 3.x, por exemplo, ainda temos outras \"sub-versões\" do interpretador. Dessa forma, preste atenção ao utilizar a versão recomendada ou exigida, principalmente quando estiver utilizando bibliotecas externas (veremos isso em breve)."
   ],
   "metadata": {}
  },
  {
   "cell_type": "markdown",
   "source": [
    "### 2. EXPERIENTES\n",
    "\n",
    "Aos que já mexeram em outras linguagens de programação, podem acabar percebendo duas principais diferenças na sintaxe em relação ao Python. A primeira e mais óbvia é a exclusão da utilização do famoso `;`. A segunda, relacionada com a primeira, é a importância da indentação na nova linguagem que você está aprendendo. Isto pois, em outras linguagens, é muito comum a utilização de parênteses e chaves para agrupar um \"bloco\" de conteúdo, não sendo (sempre) exigida alguma formatação específica. Já no Python, esses \"blocos\" são inexistentes, de forma que precisamos respeitar uma tabulação do conteúdo para o interpretador compreender corretamente o programa."
   ],
   "metadata": {}
  },
  {
   "cell_type": "markdown",
   "source": [
    "### 3. COMENTÁRIOS\n",
    "\n",
    "Os comentários durante o código possuem duas funcionalidades principais: acrescentar explicações ao longo do programa ou colocar uma parte do programa para ser \"pulada\" (ao invés de deletar e perder uma parte do código). As duas opções são boas práticas de programação em qualquer linguagem e podem ser feitas de várias formas no Python."
   ],
   "metadata": {}
  },
  {
   "cell_type": "code",
   "execution_count": null,
   "source": [
    "# Podemos usar o símbolo de \"#\" antes do texto e tudo que vier em seguida será desconsiderada pelo interpretador\n",
    "\n",
    "'Podemos também usar aspas simples'\n",
    "\"Aspas duplas também podem ser utilizadas\"\n",
    "\n",
    "'''\n",
    "Para comentários com\n",
    "mais de uma linha, devemos\n",
    "repetir o par de aspas 3 vezes.\n",
    "'''\n",
    "\n",
    "\"\"\"\n",
    "O mesmo vale para\n",
    "aspas duplas.\n",
    "\"\"\""
   ],
   "outputs": [],
   "metadata": {}
  },
  {
   "cell_type": "markdown",
   "source": [
    "### 4. FORMATAÇÃO\n",
    "\n",
    "Como boa prática de programação é recomendado seguir uma formação para o código, de forma a deixá-lo \"legível\" para todos os usuários. Existe uma \"norma\" chamada **PEP 8** que traz um guia de dicas úteis para esse procedimento, mas isso se pega com a experiência também."
   ],
   "metadata": {}
  },
  {
   "cell_type": "markdown",
   "source": [
    "### 5. DÚVIDAS\n",
    "\n",
    "O Python é uma linguagem em alta no momento e possui muita documentação por aí: fóruns, wikis, canais no YouTube, cursos, etc. Então, se tiver alguma dúvida ou problema, generealize-o (ou seja, não deixe ele específico para o seu projeto) e procure na internet. Você provavelmente vai encontrar algum material a respeito.\n",
    "Você provavelmente conhecerá o StackOverFlow muito em breve 😂"
   ],
   "metadata": {}
  },
  {
   "cell_type": "markdown",
   "source": [
    "## TRADIÇÃO\n",
    "-----------\n",
    "\n",
    "Existe uma tradição ao aprender uma nova linguagem de programação em fazer um programa simples: mostrar ao usuário a frase \"Hello, World!\" (\"Olá, Mundo!\"). Rés a lenda que dá azar não fazer esse procedimento, então, vamos lá né 😅"
   ],
   "metadata": {}
  },
  {
   "cell_type": "code",
   "execution_count": null,
   "source": [
    "# O \"print\" é um método que retorna no terminal o valor dentro dos \"parênteses\".\n",
    "# Para retornar um texto, precisamos adioná-lo entre aspas simples ou duplas.\n",
    "\n",
    "print('Hello, World!') \n",
    "print(\"Olá, Mundo!\")"
   ],
   "outputs": [],
   "metadata": {}
  },
  {
   "cell_type": "markdown",
   "source": [
    "# TIPOS DE DADOS\n",
    "----------------\n",
    "\n",
    "Dados servem para guardar informações, mas nem toda informação pertence a uma mesma categoria. Um exemplo simples são os números e palavras, quando eu digo \"quatro\" e \"4\", mesmo você lendo isso da mesma forma, você possivelmente interpretaria isso de maneira diferente dependendo do contexto. E sobre isso que veremos nesta seção: principais tipos de dados, sua estrutura e suas principais utilizações.\n",
    "\n",
    "**Observação:** para verificar a tipagem de uma variável, você pode usar o comando abaixo:\n",
    "\n",
    "`print(type(<variável>))`\n",
    "\n",
    "onde:   \n",
    "`<variável>` deve ser a variável em questão;  \n",
    "`type` retorna o tipo da `<variável>`;  \n",
    "`print` retorna no terminal o valor encontrado."
   ],
   "metadata": {}
  },
  {
   "cell_type": "markdown",
   "source": [
    "## TEXTO\n",
    "--------\n",
    "\n",
    "Qualquer tipo de texto: caracteres, palavras, frases, etc."
   ],
   "metadata": {}
  },
  {
   "cell_type": "markdown",
   "source": [
    "### str\n",
    "\n",
    "Qualquer tipo de texto: caracteres, palavras, frases, etc.\n",
    "\n",
    "**Representação**  \n",
    "Sempre por aspas, sejam simples ou duplas (mesma lógica dos comentários que utilizam esse símbolo)."
   ],
   "metadata": {}
  },
  {
   "cell_type": "code",
   "execution_count": null,
   "source": [
    "# A variável 'texto' receberá o valor \"Olá, mundo!\"\n",
    "texto = \"Olá, Mundo!\" \n",
    "# texto = str(\"Olá, Mundo!\")\n",
    "\n",
    "# Retorna o valor da variável\n",
    "print(texto)  # Olá, Mundo!\n",
    "\n",
    "# Retorna o tipo\n",
    "print(type(texto))  # <class 'str'>"
   ],
   "outputs": [],
   "metadata": {}
  },
  {
   "cell_type": "markdown",
   "source": [
    "## NUMÉRICO\n",
    "-----------\n",
    "\n",
    "Registram diferentes tipos de números, conforme a necessidade: apenas inteiros, reais ou complexos."
   ],
   "metadata": {}
  },
  {
   "cell_type": "markdown",
   "source": [
    "### int\n",
    "\n",
    "Número inteiro.\n",
    "\n",
    "**Representação**  \n",
    "Valor inteiro, sem pontuação, relacionado com a variável (depois do `=`)."
   ],
   "metadata": {}
  },
  {
   "cell_type": "code",
   "execution_count": null,
   "source": [
    "# A variável 'x' recebe o valor 10\n",
    "x = 10 \n",
    "# x = int(10) \n",
    "\n",
    "# Retorna o valor da variável\n",
    "print(x)  # 10\n",
    "\n",
    "# Retorna o tipo\n",
    "print(type(x))  # <class 'int'>"
   ],
   "outputs": [],
   "metadata": {}
  },
  {
   "cell_type": "markdown",
   "source": [
    "### float\n",
    "\n",
    "Ponto flutuante, números reais que aceitam a parte decimal.\n",
    "\n",
    "**Representação**  \n",
    "Valor numérico com a parte decimal, indicado pelo sistema americano como `.` (separador decimal)."
   ],
   "metadata": {}
  },
  {
   "cell_type": "code",
   "execution_count": null,
   "source": [
    "# A variável 'y' recebe o valor 7.0 (note que não é necessário adionar o 0 depois do ponto)\n",
    "y = 7. # y = float(7) \n",
    "\n",
    "# Retorna o valor da variável\n",
    "print(y)  # 7.0\n",
    "\n",
    "# Retorna o tipo\n",
    "print(type(y))  # <class 'float'>"
   ],
   "outputs": [],
   "metadata": {}
  },
  {
   "cell_type": "markdown",
   "source": [
    "### complex\n",
    "\n",
    "Números complexos: parte real e parte imaginária (utilizando o `j` ou `J`). O motivo para ser `j` é não `i` vem da engenharia elétrica que utiliza a primeira letra para representar o número imaginário. Além disso, é muito comum a letra `i` ser usada nos *loops*. Por último, dependendo da fonte, a letra maiúscula, `I`, com o `l`.\n",
    "\n",
    "**Representação**  \n",
    "Valor numérico com a parte real e a parte imaginária, esta última com a letra J (minúsculo ou maiúscula)."
   ],
   "metadata": {}
  },
  {
   "cell_type": "code",
   "execution_count": null,
   "source": [
    "# A variável 'z' recebe o valor 2 + 3i\n",
    "z = 2 + 3j # z = complex(2, 3)\n",
    "\n",
    "# Retorna o valor da variável\n",
    "print(z)  # (2+3j)\n",
    "\n",
    "# Retorna o tipo\n",
    "print(type(z))  # <class 'complex'>"
   ],
   "outputs": [],
   "metadata": {}
  },
  {
   "cell_type": "markdown",
   "source": [
    "## SEQUENCIAL\n",
    "-------------\n",
    "\n",
    "Possuem várias dados que podem ser acessados através de uma sequência."
   ],
   "metadata": {}
  },
  {
   "cell_type": "markdown",
   "source": [
    "### list\n",
    "\n",
    "Listas são conjuntos de dados indexados, iniciando pelo índice 0. Além disso, as listas são modeláveis, podendo ser editadas após a sua criação (acrescentando ou removendo itens, por exemplo).\n",
    "\n",
    "**Representação**  \n",
    "Itens separados por vírgula dentro de `[]`."
   ],
   "metadata": {}
  },
  {
   "cell_type": "code",
   "execution_count": null,
   "source": [
    "# A variável 'primos' recebe os valores 2, 3, 5, 7, 11\n",
    "primos = [2, 3, 5, 7, 11] # primos = list((2, 3, 5, 7, 11))\n",
    "\n",
    "# Retorna o valor da variável\n",
    "print(primos)  # [2, 3, 5, 7, 11]\n",
    "\n",
    "# Podemos retornar um(alguns) valor(es) da lista a partir dos seus índices\n",
    "print(primos[2])    # Apenas o valor de índice 2 --> 5\n",
    "print(primos[0:3])  # Valores entre o índice 0 até 2  --> [2, 3, 5]\n",
    "\n",
    "# Retorna o tipo\n",
    "print(type(primos))  # <class 'list'>"
   ],
   "outputs": [],
   "metadata": {}
  },
  {
   "cell_type": "markdown",
   "source": [
    "As sequências também podem conter diferentes tipos de valores."
   ],
   "metadata": {}
  },
  {
   "cell_type": "code",
   "execution_count": null,
   "source": [
    "ficha = ['Fulano', 22, 'Masculino'] # Poderia ser: [nome, ano, sexo]\n",
    "print(ficha)  # ['Fulano', 22, 'Masculino']"
   ],
   "outputs": [],
   "metadata": {}
  },
  {
   "cell_type": "markdown",
   "source": [
    "Também é possível ter listas dentro de listas. Essa prática é conhecida como _nested lists_ ou _nD-lists_ (_n_ sendo o valor da dimensão da lista)."
   ],
   "metadata": {}
  },
  {
   "cell_type": "code",
   "execution_count": null,
   "source": [
    "# Matriz identidade 3x3\n",
    "matriz_I = [\n",
    "    [1, 0, 0],\n",
    "    [0, 1, 0],\n",
    "    [0, 0, 1]\n",
    "]\n",
    "\n",
    "print(matriz_I)  # [[1, 0, 0], [0, 1, 0], [0, 0, 1]]\n",
    "\n",
    "# Podemos retornar uma célula específica especiicando a linha e depois a coluna\n",
    "print(matriz_I[1][1])  # 1"
   ],
   "outputs": [],
   "metadata": {}
  },
  {
   "cell_type": "markdown",
   "source": [
    "### tuple\n",
    "\n",
    "Tuplas são muito semelhantes as `list`, porém imutáveis, isto é, não podem ser modificadas após a sua criação.\n",
    "\n",
    "**Representação**  \n",
    "Itens separados por vírgula dentro de `()`."
   ],
   "metadata": {}
  },
  {
   "cell_type": "code",
   "execution_count": null,
   "source": [
    "# Tuplas devem ser uma sequência de itens separados por vírgula e dentro de ().\n",
    "\n",
    "# A variável 'CONSTANTES' recebe os valores 3.1415, 9.81, 1.6\n",
    "CONSTANTES = (3.1415, 9.81, 1.6) # CONSTANTES = tuple((3.1415, 9.81, 1.6))\n",
    "\n",
    "'Quando escrevemos uma variável em toda em maiúscula, ela é considerada uma constante.'\n",
    "\n",
    "# Retorna o valor da variável\n",
    "print(CONSTANTES)  # (3.1415, 9.81, 1.6)\n",
    "\n",
    "# Todas as aplicações apresentadas anteriormente para listas se aplicam nas tuplas.\n",
    "\n",
    "# Retorna o tipo\n",
    "print(type(CONSTANTES))  # <class 'tuple'>"
   ],
   "outputs": [],
   "metadata": {}
  },
  {
   "cell_type": "markdown",
   "source": [
    "### range\n",
    "\n",
    "Arranjo de valores, podendo configurar o valor de início, final ($*n-1*$) e o passo. Em outras palavras, é possível fazer uma progressão aritmética, muito útil para *loops*.\n",
    "\n",
    "**Representação**  \n",
    "Método `range()` com até 3 parâmetros:\n",
    "- 1 parâmetro -  `range(n)` - valor final, $n-1$.\n",
    "- 2 parâmetros - `range(start, end)` - valor inicial (`start`) e final (`end`), $n-1$.\n",
    "- 3 parâmetros - `range(start, end, step)` - valor inicial (`start`) e final (`end`), $n-1$, e o passo (`step`)."
   ],
   "metadata": {}
  },
  {
   "cell_type": "code",
   "execution_count": null,
   "source": [
    "# range pode receber até 3 parâmetros\n",
    "\n",
    "# Apenas 1 parâmetro diz que a variável vai de 0 até o valor estipulado (-1)\n",
    "arr1 = range(5) # 0, 1, 2, 3, 4\n",
    "\n",
    "# Se utilizar dois argumentos, o primeiro será o início e o segundo o fim do arranjo\n",
    "arr2 = range(2, 6) # 2, 3, 4, 5\n",
    "\n",
    "# O terceiro argumento é o espaçamento do arranjo\n",
    "arr3 = range(1, 8, 2)   # 1, 3, 5, 7\n",
    "arr4 = range(5, 0, -1)  # 5, 4, 3, 2, 1 \n",
    "\n",
    "# Retorna o valor da variável\n",
    "print(arr1, arr2, arr3, arr4)  # range(0, 5) range(2, 6) range(1, 8, 2) range(5, 0, -1)\n",
    "\n",
    "# Retorna o tipo\n",
    "print(type(arr1))  # <class 'range'>"
   ],
   "outputs": [],
   "metadata": {}
  },
  {
   "cell_type": "markdown",
   "source": [
    "## MAPEÁVEL\n",
    "-----------\n",
    "\n",
    "Possuem vários dados que podem ser acessados através de um \"endereço\" (chave)."
   ],
   "metadata": {}
  },
  {
   "cell_type": "markdown",
   "source": [
    "### dict\n",
    "\n",
    "Dicionários são estruturas de dados que possuem uma lista pareada de chaves e valores. Da mesma forma que podemos chamar um valor de uma lista pelo seu índice, nos dicionários podemos retornar um valor baseado em sua chave associada.\n",
    "\n",
    "**Representação**  \n",
    "Valores pareados, chave e valor, com a dupla separada por `:` e novos itens separados por `,` dentro de `{}`."
   ],
   "metadata": {}
  },
  {
   "cell_type": "code",
   "execution_count": null,
   "source": [
    "# A variável 'telefones' guarda uma lista de nomes com os seus valores de número de telefone\n",
    "telefones = {\n",
    "    'Fulano'   : '(XX) XXXX-XXXX',\n",
    "    'Ciclano'  : '(YY) YYYY-YYYY',\n",
    "    'Beltrano' : '(ZZ) ZZZZ-ZZZZ' \n",
    "    }\n",
    "# telefones = dict(Fulano = '(XX) XXXX-XXXX', Ciclano = '(YY) YYYY-YYYY', Beltrano = '(ZZ) ZZZZ-ZZZZ')\n",
    "\n",
    "# Retorna o valor da variável\n",
    "print(telefones)  # {'Fulano': '(XX) XXXX-XXXX', 'Ciclano': '(YY) YYYY-YYYY', 'Beltrano': '(ZZ) ZZZZ-ZZZZ'}\n",
    "\n",
    "# Podemos retornar um valor do dicionário a partir dos seus índices\n",
    "print(telefones['Beltrano'])  # (ZZ) ZZZZ-ZZZZ\n",
    "\n",
    "# Retorna o tipo\n",
    "print(type(telefones))  # <class 'dict'>"
   ],
   "outputs": [],
   "metadata": {}
  },
  {
   "cell_type": "markdown",
   "source": [
    "## CONJUNTO\n",
    "-----------\n",
    "\n",
    "Conjunto de valores que não possuem sequência definida."
   ],
   "metadata": {}
  },
  {
   "cell_type": "markdown",
   "source": [
    "### set\n",
    "\n",
    "Esse conjunto também é capaz de armazenar diversos valores em uma única variável (como as listas), mas não é ordenável, nem indexado. Isso quer dizer que os valores não podem ser \"chamados\" utilizando algum índice e toda vez estes são mostrados podem estar \"misturados\". Além disso, esse tipo de dado não pode remover algum item e não aceita valores duplicados.\n",
    "\n",
    "**Representação**  \n",
    "Os valores são separados por `,` dentro de `{}`. Contudo, não deve ser vazio, por esse método, caso contrário, vai criar um dicionário)."
   ],
   "metadata": {}
  },
  {
   "cell_type": "code",
   "execution_count": null,
   "source": [
    "# A variável 'frutas' recebe os valores 'maçã', 'melancia', 'pêra', 'uva'\n",
    "frutas = {'maçã', 'melancia', 'pêra', 'uva'} \n",
    "# frutas = set(('maçã', 'melancia', 'pêra', 'uva'))\n",
    "\n",
    "# Retorna o valor da variável\n",
    "print(frutas) # Possível retorno --> {'pêra', 'uva', 'maçã', 'melancia'}\n",
    "\n",
    "# Retorna o tipo\n",
    "print(type(frutas))  # <class 'set'>"
   ],
   "outputs": [],
   "metadata": {}
  },
  {
   "cell_type": "markdown",
   "source": [
    "### frozenset\n",
    "\n",
    "Muito parecido com o `set`, mas não pode ser modificado (acrescentar itens).\n",
    "\n",
    "**Representação**  \n",
    "Método `frozenset()` com uma lista de valores dentro dos `()`."
   ],
   "metadata": {}
  },
  {
   "cell_type": "code",
   "execution_count": null,
   "source": [
    "# A variável 'materias' recebe os valores 'matemática', 'física', 'química', 'biologia'\n",
    "matérias = frozenset({'matemática', 'física', 'química', 'biologia'})\n",
    "\n",
    "# Retorna o valor da variável\n",
    "print(matérias)  # Possível retorno -->  frozenset({'química', 'biologia', 'física', 'matemática'})\n",
    "\n",
    "# Retorna o tipo\n",
    "print(type(matérias))  # <class 'frozenset'>"
   ],
   "outputs": [],
   "metadata": {}
  },
  {
   "cell_type": "markdown",
   "source": [
    "## BOOLEANO\n",
    "-----------\n",
    "\n",
    "Valores booleanos: verdadeiro/falso, 0/1, sim/não, etc."
   ],
   "metadata": {}
  },
  {
   "cell_type": "markdown",
   "source": [
    "### bool\n",
    "\n",
    "Valores booleanos ( `True` | `False` ).\n",
    "\n",
    "**Representação**  \n",
    "Valor `True` (verdadeiro) e `False` (falso)."
   ],
   "metadata": {}
  },
  {
   "cell_type": "code",
   "execution_count": null,
   "source": [
    "# A variável 'passei' recebe True (verdadeiro)\n",
    "passei = True \n",
    "# passei = bool(1) # Qualquer coisa diferente de 0\n",
    "# não_passei = False \n",
    "# não_passei = bool(0)\n",
    "\n",
    "# Retorna o valor da variável\n",
    "print(passei)  # True\n",
    "\n",
    "# Retorna o tipo\n",
    "print(type(passei))  # <class 'bool'>"
   ],
   "outputs": [],
   "metadata": {}
  },
  {
   "cell_type": "markdown",
   "source": [
    "## BINÁRIO\n",
    "----------\n",
    "\n",
    "Valores ligados a memória do dispositivo."
   ],
   "metadata": {}
  },
  {
   "cell_type": "markdown",
   "source": [
    "### bytes\n",
    "\n",
    "Retorna um objeto feito de bytes imutável com um dado tamanho e informação.\n",
    "\n",
    "**Representação**  \n",
    "Valor antecedido por um `b` e entre aspas."
   ],
   "metadata": {}
  },
  {
   "cell_type": "code",
   "execution_count": null,
   "source": [
    "# A variável \"oi\" recebe o valor \"Hi\" em bytes\n",
    "oi = b'Hi'\n",
    "\n",
    "# Retorna o valor da variável\n",
    "print(oi)  # b'Hi'\n",
    "\n",
    "# Retorna o tipo\n",
    "print(type(oi))  # <class 'bytes'>"
   ],
   "outputs": [],
   "metadata": {}
  },
  {
   "cell_type": "markdown",
   "source": [
    "### bytearray\n",
    "\n",
    "Semelhante ao `bytes`, mas é um array mutável.\n",
    "\n",
    "**Representação**  \n",
    "Método `bytearray()` com o tamanho do array dentro dos `()`."
   ],
   "metadata": {}
  },
  {
   "cell_type": "code",
   "execution_count": null,
   "source": [
    "# A variável array recebe um array de bytes de tamanho 5\n",
    "array = bytearray(5)\n",
    "\n",
    "# Retorna o valor da variável\n",
    "print(array)  # bytearray(b'\\x00\\x00\\x00\\x00\\x00')\n",
    "\n",
    "# Retorna o tipo\n",
    "print(type(array))  # <class 'bytearray'>"
   ],
   "outputs": [],
   "metadata": {}
  },
  {
   "cell_type": "markdown",
   "source": [
    "### memoryview\n",
    "\n",
    "Retorna o local de memória de um objeto.\n",
    "\n",
    "**Representação**  \n",
    "Objeto do tipo `byte` dentro do método `memoryview()`."
   ],
   "metadata": {}
  },
  {
   "cell_type": "code",
   "execution_count": null,
   "source": [
    "# A variável \"vis\" recebe a posição na memória do bytes(5)\n",
    "vis = memoryview(bytes(5))\n",
    "\n",
    "# Retorna o valor da variável\n",
    "print(vis)  # Possível retorno --> <memory at 0x0000024B2DBA4D00>\n",
    "\n",
    "# Retorna o tipo\n",
    "print(type(vis))  # <class 'memoryview'>"
   ],
   "outputs": [],
   "metadata": {}
  },
  {
   "cell_type": "markdown",
   "source": [
    "# PRINCIPAIS MÉTODOS\n",
    "--------------------\n",
    "\n",
    "Métodos são funções que podem receber algum tipo de dado e argumentos a fim de retornar algum novo valor ou dado.\n",
    "Nesta seção, vamos conferir os métodos mais comuns utilizados no dia-a-dia da programação.\n",
    "\n",
    "Os métodos costumam aparecer de duas formas principais: `método(argumentos)` ou `dado.método(argumentos)`. Isso ficará mais claro com o passar do tempo."
   ],
   "metadata": {}
  },
  {
   "cell_type": "markdown",
   "source": [
    "## Print\n",
    "--------\n",
    "\n",
    "Sim, você já viu esse método antes. Como você deve saber, ele retorna o valor passado para o terminal.\n",
    "\n",
    "Além disso, vamos ver outras opções interessantes para o `print`."
   ],
   "metadata": {}
  },
  {
   "cell_type": "markdown",
   "source": [
    "### f-strings\n",
    "\n",
    "Essa na verdade não é uma propriedade do método `print`, mas da própria `str`. Basicamente, podemos mesclar um texto com valores de outras variáveis, de forma que um mesmo texto pode ter valores diferentes conforme os valores de entrada.\n",
    "\n",
    "Para isso, iniciamos uma `str` com um `f` na frente e o espaço que vai receber a variável deve possuir um `{}`."
   ],
   "metadata": {}
  },
  {
   "cell_type": "code",
   "execution_count": null,
   "source": [
    "nome = 'João'\n",
    "idade = 27\n",
    "\n",
    "print(f'Olá, meu nome é {nome} e tenho {idade} anos.') # Olá, meu nome é João e tenho 27 anos.\n",
    "\n",
    "# Alternativamente...\n",
    "print('Olá, meu nome é {} e tenho {} anos.'.format(nome, idade)) # Olá, meu nome é João e tenho 27 anos."
   ],
   "outputs": [],
   "metadata": {}
  },
  {
   "cell_type": "markdown",
   "source": [
    "## Input\n",
    "--------\n",
    "\n",
    "Muitas vezes queremos que o usuário nos forneça algum tipo de informação ou dado. Para isso, podemos usar o método `input` que registrar o que for digitado no terminal.\n",
    "\n",
    "Cuidado: esse método registra por padrão uma `str`, então se você está esperando um número, por exemplo, acrescente o `int()`, `float()` e assim por diante."
   ],
   "metadata": {}
  },
  {
   "cell_type": "code",
   "execution_count": null,
   "source": [
    "# Registra o que o usuário digitar na variável 'mensagem'\n",
    "mensagem = input('Digite alguma coisa (depois dê enter): ')\n",
    "\n",
    "# Printa o que foi registrado\n",
    "print(f'Você digitou a seguinte mensagem: {mensagem}')"
   ],
   "outputs": [],
   "metadata": {}
  },
  {
   "cell_type": "markdown",
   "source": [
    "## Split\n",
    "--------\n",
    "\n",
    "Também é utilizado para `str`, caso se deseja separar um conjunto de palavras em uma lista de palavras."
   ],
   "metadata": {}
  },
  {
   "cell_type": "code",
   "execution_count": null,
   "source": [
    "frase = \"Rosas são vermelhas. Violetas são azuis.\"\n",
    "separado = frase.split() # Veja que estamos passando o método tendo primeiro definido a variável\n",
    "\n",
    "print(separado)  # ['Rosas', 'são', 'vermelhas.', 'Violetas', 'são', 'azuis.']"
   ],
   "outputs": [],
   "metadata": {}
  },
  {
   "cell_type": "markdown",
   "source": [
    "O método `split` pode receber também um parâmetro para indicar qual será o separador da `str`. Um exemplo prático é usar o ponto final para separar frases de um parágrafo."
   ],
   "metadata": {}
  },
  {
   "cell_type": "code",
   "execution_count": null,
   "source": [
    "poema_autopsicografia = \"\"\"\n",
    "O poeta é um fingidor.\n",
    "Finge tão completamente\n",
    "Que chega a fingir que é dor\n",
    "A dor que deveras sente.\n",
    "\n",
    "E os que lêem o que escreve,\n",
    "Na dor lida sentem bem,\n",
    "Não as duas que ele teve,\n",
    "Mas só a que eles não têm.\n",
    "\n",
    "E assim nas calhas da roda\n",
    "Gira, a entreter a razão,\n",
    "Esse comboio de corda\n",
    "Que se chama o coração.\"\"\"\n",
    "\n",
    "print(poema_autopsicografia.split('.'))\n",
    "# ['\\nO poeta é um fingidor', '\\nFinge tão completamente\\nQue chega a fingir que é dor\\nA dor que deveras sente', '\\n\\nE os que lêem o que escreve,\\nNa dor lida sentem bem,\\nNão as duas que ele teve,\\nMas só a que eles não têm', '\\n\\nE assim nas calhas da roda\\nGira, a entreter a razão,\\nEsse comboio de corda\\nQue se chama o coração', '']"
   ],
   "outputs": [],
   "metadata": {}
  },
  {
   "cell_type": "markdown",
   "source": [
    "Note que a saída produziu vários `\\n` que, nas `str`, são interpretados como nova linha (parágrafo). "
   ],
   "metadata": {}
  },
  {
   "cell_type": "markdown",
   "source": [
    "## Len\n",
    "------\n",
    "\n",
    "Utilizado em qualquer tipo de estrutura de dados (`list`, `tuple`, `set`, `str`) para retornar o seu tamanho."
   ],
   "metadata": {}
  },
  {
   "cell_type": "code",
   "execution_count": null,
   "source": [
    "pontos = [1, 4, 7, 3, 10]\n",
    "\n",
    "print(len(pontos))  # 5"
   ],
   "outputs": [],
   "metadata": {}
  },
  {
   "cell_type": "markdown",
   "source": [
    "## Append\n",
    "---------\n",
    "\n",
    "Adiciona um valor ao final de uma lista."
   ],
   "metadata": {}
  },
  {
   "cell_type": "code",
   "execution_count": null,
   "source": [
    "pontos = [1, 4, 7, 3, 10]\n",
    "\n",
    "pontos.append(55)\n",
    "print(pontos)\n",
    "# [1, 4, 7, 3, 10, 55]"
   ],
   "outputs": [],
   "metadata": {}
  },
  {
   "cell_type": "markdown",
   "source": [
    "Lembra que as tuplas são imutáveis?"
   ],
   "metadata": {}
  },
  {
   "cell_type": "code",
   "execution_count": null,
   "source": [
    "países = ('Brasil', 'EUA', 'Alemanha', 'Canadá', 'Itália')\n",
    "\n",
    "países.append('Japão') \n",
    "# AttributeError: 'tuple' object has no attribute 'append'"
   ],
   "outputs": [],
   "metadata": {}
  },
  {
   "cell_type": "markdown",
   "source": [
    "## Remove\n",
    "---------\n",
    "\n",
    "Remove um item de uma lista dado o seu valor."
   ],
   "metadata": {}
  },
  {
   "cell_type": "code",
   "execution_count": null,
   "source": [
    "pontos = [1, 4, 7, 3, 10, 55]\n",
    "\n",
    "pontos.remove(7)\n",
    "print(pontos)\n",
    "# [1, 4, 3, 10, 55]"
   ],
   "outputs": [],
   "metadata": {}
  },
  {
   "cell_type": "markdown",
   "source": [
    "Lembra que as tuplas são imutáveis?"
   ],
   "metadata": {}
  },
  {
   "cell_type": "code",
   "execution_count": null,
   "source": [
    "países = ('Brasil', 'EUA', 'Alemanha', 'Canadá', 'Itália')\n",
    "\n",
    "países.remove('EUA') \n",
    "# AttributeError: 'tuple' object has no attribute 'remove'"
   ],
   "outputs": [],
   "metadata": {}
  },
  {
   "cell_type": "markdown",
   "source": [
    "## Sum\n",
    "------\n",
    "\n",
    "Soma o valor de todos os itens em um conjunto numérico."
   ],
   "metadata": {}
  },
  {
   "cell_type": "code",
   "execution_count": null,
   "source": [
    "pontos = [1, 4, 3, 10, 55]\n",
    "\n",
    "soma = sum(pontos)\n",
    "print(soma) # 73"
   ],
   "outputs": [],
   "metadata": {}
  },
  {
   "cell_type": "markdown",
   "source": [
    "## Operações básicas\n",
    "--------------------\n",
    "\n",
    "Esse não se trata de um método, mas acredito que seja importante mostrar as principais operações numéricas."
   ],
   "metadata": {}
  },
  {
   "cell_type": "code",
   "execution_count": null,
   "source": [
    "x = 6\n",
    "y = 2\n",
    "\n",
    "# Soma\n",
    "print(f'{x}+{y} = {x + y}')\n",
    "# 6+2 = 8\n",
    "\n",
    "# Subtração\n",
    "print(f'{x}-{y} = {x - y}')\n",
    "# 6-2 = 4\n",
    "\n",
    "# Multiplicação\n",
    "print(f'{x}x{y} = {x * y}')\n",
    "# 6x2 = 12\n",
    "\n",
    "# Divisão\n",
    "print(f'{x}/{y} = {x / y}') \n",
    "# 6/2 = 3.0\n",
    "# Note que o resuldo será um float, mesmo o resultando sendo inteiro.\n",
    "\n",
    "# Potência\n",
    "print(f'{x}^{y} = {x ** y}') # Alternativamente: pow(x,y)\n",
    "# 6^2 = 36\n",
    "\n",
    "# Divisão inteira\n",
    "print(f'Parte inteira de {x}/{y} é {x // y}')\n",
    "# Parte inteira de 6/2 é 3\n",
    "\n",
    "# Resto da divisão\n",
    "print(f'Resto de {x}/{y} é {x % y}')\n",
    "# Resto de 6/2 é 0"
   ],
   "outputs": [],
   "metadata": {}
  },
  {
   "cell_type": "markdown",
   "source": [
    "## Map\n",
    "------\n",
    "\n",
    "Permite processar e transformar todos os itens de um iterável sem a necessidade de um *loop*."
   ],
   "metadata": {}
  },
  {
   "cell_type": "code",
   "execution_count": null,
   "source": [
    "# map(função, iterável)\n",
    "quadrados = tuple(map(lambda x: x**2, range(10)))\n",
    "\n",
    "print(quadrados)\n",
    "# (0, 1, 4, 9, 16, 25, 36, 49, 64, 81)"
   ],
   "outputs": [],
   "metadata": {}
  },
  {
   "cell_type": "markdown",
   "source": [
    "---\n",
    "Existem diversos métodos para cada um dos tipos de dados já apresentados e muito disso você pode facilmente encontrar pela internet, conforme a sua necessidade."
   ],
   "metadata": {}
  },
  {
   "cell_type": "markdown",
   "source": [
    "# BIBLIOTECAS\n",
    "-------------\n",
    "\n",
    "As bibliotecas servem para poder adicionar funcionalidades diversas no programa, sendo utilizando códigos produzidos por você ou pela comunidade. Vejamos como podemos estar \"chamando\" essas bibliotecas e quais são as mais utilizadas.\n",
    "\n",
    "**Observações:** Sempre importe as bibliotecas que serão utilizadas na parte superior do código.\n",
    "\n",
    "Tendo a biblioteca instalada em seu ambiente de trabalho, podemos importar as bibliotecas ou funções de duas formas:\n",
    "\n",
    "1. Importar todas as funções disponíveis no pacote.\n",
    "\n",
    "`import <biblioteca>`\n",
    "\n",
    "Desse jeito, teremos que chamar uma função desta biblioteca pelo seguinte formato: `biblioteca.função()`.\n",
    "\n",
    "2. Importar apenas algumas funções específicas.\n",
    "\n",
    "`from <biblioteca> import <função>`\n",
    "\n",
    "Desta forma, basta chamar a função importada no formato: `função()`.\n",
    "\n",
    "Uma prática comum é renomear as bibliotecas ou funções, geralmente para deixar em uma forma mais enxuta. Assim, ao invés de chamarmos uma função por `biblioteca.função()`, por exemplo, chamamos por `<novo nome>.função()`. Para isso, usamos a expressão as `<novo nome>`:\n",
    "\n",
    "`import <biblioteca> as <novo nome>`  \n",
    "`from <biblioteca> import <função> as <novo nome>`"
   ],
   "metadata": {}
  },
  {
   "cell_type": "markdown",
   "source": [
    "## Bibliotecas comuns\n",
    "---------------------\n",
    "\n",
    "- **math**: Funções matemáticas complexas;\n",
    "- **random**: Números aleatórios;\n",
    "- **os**: Controle de arquivos do sistema;\n",
    "- **sys**: Controle de sistema do computador;\n",
    "- **time**: Medir o tempo, hora, etc;\n",
    "- **timeit**: Tempo de execução;\n",
    "- **tkinter**: Criação de GUI;\n",
    "- **pygame**: Craiçao de jogos;\n",
    "- **numpy**: Manipulação de *arrays*, vetores e matrizes;\n",
    "- **pandas**: Manipulação e visualização de tabelas de dados;\n",
    "- **scipy**: Operações da área científica;\n",
    "- **matplotlib**: Criação e visualização de gráficos;\n",
    "- **seaborn**: Criação e visualização de gráficos;\n",
    "- **scikit-learn**: Modelos para *data science*;\n",
    "- **tensorflow**: *Framework* para *deep learning*;"
   ],
   "metadata": {}
  },
  {
   "cell_type": "markdown",
   "source": [
    "## Instalação de bibliotecas\n",
    "----------------------------\n",
    "\n",
    "Existem dois métodos principais para a instalação de bibliotecas a partir de comandos no terminal. Não se preocupem, pois não é nada demais."
   ],
   "metadata": {}
  },
  {
   "cell_type": "markdown",
   "source": [
    "### pip\n",
    "\n",
    "O mais comum é utilizando o **PyPI** que é um repositório de diversas bibliotecas para Python. Se você fez uma instalação comum do Python em seu computador, você deve ter instalado junto o `pip`. A partir desse comando, iremos instalar uma biblioteca, basta digitar (o '$' quer dizer que é um comando para terminal, ignore-o na digitação):\n",
    "\n",
    "`$ pip install <biblioteca>`\n",
    "\n",
    "Caso você esteja utilizando um sistema Linux, o comando é alterado para:\n",
    "\n",
    "`$ pip3 install <biblioteca>`\n",
    "\n",
    "O motivo do acréscimo desse \"3\" é pelo fato de o Linux já vir com o Python2 que é chamado de `python` e `pip` por padrão. Você pode modificar isso utilizando um `alias`.\n",
    "\n",
    "Caso esse procedimento não funcione, tente as seguintes opções:\n",
    "\n",
    "`$ python -m pip install <biblioteca>`  \n",
    "`$ python3 -m pip install <biblioteca>`"
   ],
   "metadata": {}
  },
  {
   "cell_type": "markdown",
   "source": [
    "### conda\n",
    "\n",
    "Caso você esteja utilizando o software **Anaconda**, que contem diversos recursos para *data science* no geral (Python e R), você pode utilizar o próprio repositório deles para fazer a instalação de bibliotecas. Existem duas opções nesse caso: utilizar a interface gráfica do Anaconda para instalar novas bibliotecas em *packages* ou digitar o comando no terminal:\n",
    "\n",
    "```bash\n",
    "$ conda activate <ambiente>\n",
    "$ conda install <biblioteca>\n",
    "```\n",
    "\n",
    "O primeiro comando é para certificar que o ambiente esteja ativo, caso você esteja utilizando o padrão, basta substituir por *base*. O segundo faz a instalação da biblioteca no ambiente ativo. Lembrando que o Anaconda já instala por padrão diversas bibliotecas comuns no *base*, dessa forma, raramente será necessário instalar um novo pacote.\n",
    "\n",
    "Caso encontre dificuldade nesses processos, existem diversos tutoriais na internet dedicados a explicar esses procedimentos."
   ],
   "metadata": {}
  },
  {
   "cell_type": "markdown",
   "source": [
    "**Gráfico da função seno**"
   ],
   "metadata": {}
  },
  {
   "cell_type": "code",
   "execution_count": null,
   "source": [
    "# Bibliotecas\n",
    "import numpy as np\n",
    "import matplotlib.pyplot as plt\n",
    "\n",
    "# Valores de x e y para o gráfico\n",
    "x = np.linspace(-5, 5, 100) # Array com 100 valores indo de -5 até 5\n",
    "y = np.sin(x)               # Array com os valores da função seno em 'x'\n",
    "\n",
    "plt.plot(x, y)  # Gera o gráfico de linha\n",
    "plt.show()      # Mostra o gráfico produzido"
   ],
   "outputs": [],
   "metadata": {}
  },
  {
   "cell_type": "markdown",
   "source": [
    "# CONDIÇÕES\n",
    "-----------\n",
    "\n",
    "As condições são verificações lógicas, dessa forma, baseado na resposta de uma pergunta no estilo \"sim ou não\" (verdadeiro ou falso), executamos determinadas partes do código.\n",
    "No Python, utilizamos o `if` (\"se\") para criar uma estrutura condicional e os operadores condicionais para fazer a verificação lógica, como veremos a seguir. Caso o retorno seja verdadeiro, aquilo que estiver abaixo e deslocado à direita (indentação) será executado. Em caso contrário, essa parte do código será desconsiderada. Contudo, podemos fazer condições mais complexas com mais de uma verificação."
   ],
   "metadata": {}
  },
  {
   "cell_type": "markdown",
   "source": [
    "## Operadores lógicos\n",
    "---------------------\n",
    "\n",
    "**SE:** `if`  \n",
    "**SE-SENÃO:** `elif`  \n",
    "**SENÃO:** `else`  \n",
    "\n",
    "**Igual a:** `a == b`  \n",
    "**Diferente de:** `a != b`  \n",
    "**Menor que:** `a < b`  \n",
    "**Menor ou igual a:** `a <= b`  \n",
    "**Maior que:** `a > b`  \n",
    "**Maior ou igual a:** `a >= b`  \n",
    "\n",
    "**E:** `and`  \n",
    "**OU:** `or`  \n",
    "**NÂO:** `not`  \n",
    "**EM:** `in`  \n",
    "**MESMO:** `is`  "
   ],
   "metadata": {}
  },
  {
   "cell_type": "markdown",
   "source": [
    "**Qual número é maior?**"
   ],
   "metadata": {}
  },
  {
   "cell_type": "code",
   "execution_count": null,
   "source": [
    "# Entrada do usuário\n",
    "a = float(input('Digite o primeiro número: '))\n",
    "b = float(input('Digite o segundo número: '))\n",
    "\n",
    "# if <arg> <operador> <arg>: \n",
    "if a > b:\n",
    "    print(f'{a} é maior que {b}')\n",
    "\n",
    "# Só será testado se a condição anterior for falsa\n",
    "# elif <arg> <operador> <arg>: \n",
    "elif a == b:\n",
    "    print(f'{a} é igual a {b}')\n",
    "\n",
    "# 'else' não leva nenhum argumento e só será executado \n",
    "# se nenhuma condição for atendida\n",
    "else:\n",
    "    print(f'{a} é menor que {b}')"
   ],
   "outputs": [],
   "metadata": {}
  },
  {
   "cell_type": "markdown",
   "source": [
    "**Estados brasileiros**"
   ],
   "metadata": {}
  },
  {
   "cell_type": "code",
   "execution_count": null,
   "source": [
    "# Siglas dos estados brasileiros em um 'frozenset'\n",
    "estados = frozenset({\n",
    "    'AC', 'AL', 'AP', 'AM', 'BA', 'CE', \n",
    "    'DF', 'ES', 'GO', 'MA', 'MT', 'MS', \n",
    "    'MG', 'PA', 'PB', 'PR', 'PE', 'PI', \n",
    "    'RJ', 'RN', 'RS', 'RO', 'RR', 'SC', \n",
    "    'SP', 'SE', 'TO'\n",
    "    })\n",
    "\n",
    "# Entrada do usuário\n",
    "resposta = str(input('Digite a sigla de um estado brasileiro: '))\n",
    "resposta = resposta.upper()            # Coloca o texto em maísculo\n",
    "resposta = resposta.replace(\" \",\"\")    # Tira os espaços em branco\n",
    "\n",
    "# Verifica se a entrada do usuário está no conjunto\n",
    "if resposta in estados:\n",
    "    print('Muito bem! 😃')\n",
    "\n",
    "else:\n",
    "    print(f\"'{resposta}' não é um estado brasileiro válido.\")"
   ],
   "outputs": [],
   "metadata": {}
  },
  {
   "cell_type": "markdown",
   "source": [
    "## Tentativa e erro\n",
    "-------------------\n",
    "\n",
    "Dependendo do procedimento do código, receber uma variável errada, algum erro de utilização do usuário, pode quebrar o programa. Para evitar (ou minimizar) isso e deixar o programa mais \"inteligente\", podemos preparar o código para tais situações a partir dos comandos `try` e `except`.\n",
    "\n",
    "**TENTE:** `try`  \n",
    "**EXCEÇÃO:** `except <erro>`"
   ],
   "metadata": {}
  },
  {
   "cell_type": "markdown",
   "source": [
    "**Digite um número inteiro**"
   ],
   "metadata": {}
  },
  {
   "cell_type": "code",
   "execution_count": null,
   "source": [
    "# Tenta executar as seguintes linhas\n",
    "try:\n",
    "    # Entrada do usuário\n",
    "    num = int(input('Digite um número inteiro: '))\n",
    "    print(f'O número digitado foi: {num}')\n",
    "\n",
    "# Se a qualquer momento dentro de 'try' der um erro do tipo explícito, \n",
    "# as seguintes linhas são executadas\n",
    "except ValueError:\n",
    "    print('Erro de entrada')"
   ],
   "outputs": [],
   "metadata": {}
  },
  {
   "cell_type": "markdown",
   "source": [
    "### Múltiplos erros\n",
    "\n",
    "A estrutura `try` e `except` aceita um retorno dierente para cada tipo de erro e também uma mesma exceção para diferentes tipos de erros, como veremos no exemplo."
   ],
   "metadata": {}
  },
  {
   "cell_type": "markdown",
   "source": [
    "**Dividir números**"
   ],
   "metadata": {}
  },
  {
   "cell_type": "code",
   "execution_count": null,
   "source": [
    "try:\n",
    "    # Entrada do usuário\n",
    "    num1 = float(input('Digite o numerador: '))\n",
    "    num2 = float(input('Digite o denominador: '))\n",
    "    print(f'O resultado da divisão é: {num1 / num2}')\n",
    "\n",
    "# Caso dê um erro de valor ou de interrupção via teclado\n",
    "# except (<erro1>, <erro2>, ...) as <alguma coisa>:\n",
    "# Assim, ele salva essa tupla de erros em uma variável\n",
    "except (ValueError, KeyboardInterrupt) as erro:\n",
    "    print('Erro de entrada')\n",
    "\n",
    "# Caso o denominador seja igual a zero\n",
    "except ZeroDivisionError:\n",
    "    print('Não é possível dividir por zero')"
   ],
   "outputs": [],
   "metadata": {}
  },
  {
   "cell_type": "markdown",
   "source": [
    "# ESTRUTURA DE REPETIÇÃO\n",
    "------------------------\n",
    "\n",
    "As estruturas de repetição são expressões capazes de repetir por um número determinado ou indeterminado de vezes uma parte do código. Dessa forma, somos capazes de evitar repetições desnecessárias na escrita do código ou até mesmo apenas prosseguir um procedimento a partir de uma condição, como veremos a seguir."
   ],
   "metadata": {}
  },
  {
   "cell_type": "markdown",
   "source": [
    "## while\n",
    "--------\n",
    "\n",
    "A *keyword* `while` é equivalente a uma expressão de \"ENQUANTO\". Ou seja, enquanto um condição for satisfeita (verdadeira), o *loop* será mantido.\n",
    "\n",
    "```\n",
    "while <condição>:\n",
    "    ...\n",
    "    ...\n",
    "```\n",
    "\n",
    "⚠️ ATENÇÃO:  Cuidado para não criar um loop infinito!"
   ],
   "metadata": {}
  },
  {
   "cell_type": "markdown",
   "source": [
    "**Decolagem**"
   ],
   "metadata": {}
  },
  {
   "cell_type": "code",
   "execution_count": null,
   "source": [
    "# Biblioteca\n",
    "import time\n",
    "\n",
    "# Varíavel\n",
    "i = 10\n",
    "\n",
    "# Mensagem inicial\n",
    "print('Decolagem em:')\n",
    "\n",
    "# Enquanto 'i' for maior que 0...\n",
    "while i > 0:\n",
    "\n",
    "    # Espera 1 segundo\n",
    "    time.sleep(1)\n",
    "\n",
    "    print(f'{i}...')\n",
    "\n",
    "    # A cada passagem no loop, i perde uma unidade\n",
    "    i -= 1 # i = i - 1\n",
    "\n",
    "# Só será acionado depois que o loop acabar\n",
    "print('DECOLAR!!! 🚀')"
   ],
   "outputs": [],
   "metadata": {}
  },
  {
   "cell_type": "markdown",
   "source": [
    "**Descubra o número**"
   ],
   "metadata": {}
  },
  {
   "cell_type": "code",
   "execution_count": null,
   "source": [
    "# Biblioteca\n",
    "from random import randint\n",
    "\n",
    "# Número escolhido\n",
    "num = randint(1, 10) # Número aleatório entre 1 e 10\n",
    "# Escolha do usuário\n",
    "chute = 0\n",
    "\n",
    "# Enquanto a escolha for diferente do número escolhido...\n",
    "while chute != num:\n",
    "    # Recebe uma nova tentativa do usuário\n",
    "    chute = int(input('Tente adivinhar o número (entre 1 e 10):'))\n",
    "    print(f'Você apostou no número {chute}')\n",
    "\n",
    "# Parabeniza o jogador\n",
    "print('Parabéns, você acertou!')"
   ],
   "outputs": [],
   "metadata": {}
  },
  {
   "cell_type": "markdown",
   "source": [
    "## for\n",
    "------\n",
    "\n",
    "A *keyword* `for` é equivalente a expressão \"PARA\". Ou seja, para \"alguma coisa\" em determinada sequência, faça algo.\n",
    "\n",
    "```\n",
    "for <variável> in <sequência>:\n",
    "    ...\n",
    "    ...\n",
    "```"
   ],
   "metadata": {}
  },
  {
   "cell_type": "markdown",
   "source": [
    "### Operadores comuns\n",
    "\n",
    "`in range()` - Sequência usando o `range` visto em *tipos de dados*`in len()` - Sequência utilizando o tamanho do conteúdo dentro de `lenin enumerate()` - Retorna tanto o índice quanto o valor da sequência, respectivamente"
   ],
   "metadata": {}
  },
  {
   "cell_type": "markdown",
   "source": [
    "**Decolagem - versão `for` _loop_**"
   ],
   "metadata": {}
  },
  {
   "cell_type": "code",
   "execution_count": null,
   "source": [
    "# Biblioteca\n",
    "import time\n",
    "\n",
    "# Mensagem inicial\n",
    "print('Decolagem em:')\n",
    "\n",
    "# Para 'i' entre 10 até 1...\n",
    "for i in range(10, 0, -1):\n",
    "\n",
    "    # Espera 1 segundo\n",
    "    time.sleep(1)\n",
    "\n",
    "    print(f'{i}...')\n",
    "\n",
    "# Só será acionado depois que o loop acabar\n",
    "print('DECOLAR!!! 🚀')"
   ],
   "outputs": [],
   "metadata": {}
  },
  {
   "cell_type": "markdown",
   "source": [
    "**Lista de chamada**"
   ],
   "metadata": {}
  },
  {
   "cell_type": "code",
   "execution_count": null,
   "source": [
    "# Lista de nomes\n",
    "chamada = (\n",
    "    'Ana', 'Bianca', 'Gabriel', 'Helen', 'Kevin'\n",
    ")\n",
    "\n",
    "# Enumarate retorna, respectivamente, o índice e o valor da lista 'chamada'\n",
    "for índice, valor in enumerate(chamada):\n",
    "    print(f'{índice + 1} - {valor}')"
   ],
   "outputs": [],
   "metadata": {}
  },
  {
   "cell_type": "markdown",
   "source": [
    "### *List comprehensions*\n",
    "\n",
    "\"Compreensões de lista\" proporciona a criação de listas a partir de uma operação dentro de uma própria lista. Esse método não adiciona de fato algo novo, mas pode deixar o código mais *clean* e enxuto."
   ],
   "metadata": {}
  },
  {
   "cell_type": "markdown",
   "source": [
    "**Quadrados**  \n",
    "Vamos usar o mesmo exemplo dos quadrados, $x^2$."
   ],
   "metadata": {}
  },
  {
   "cell_type": "markdown",
   "source": [
    "**Usando `for loop`**"
   ],
   "metadata": {}
  },
  {
   "cell_type": "code",
   "execution_count": null,
   "source": [
    "# Cria uma lista vazia\n",
    "quadrados = []\n",
    "\n",
    "# Loop de 0 até 9\n",
    "for x in range(10):\n",
    "\tquadrados.append(x**2)\n",
    "\t# Adiciona o quadrado desse número para a lista\n",
    "\n",
    "print(quadrados)\n",
    "# [0, 1, 4, 9, 16, 25, 36, 49, 64, 81]"
   ],
   "outputs": [],
   "metadata": {}
  },
  {
   "cell_type": "markdown",
   "source": [
    "**Usando `map`**"
   ],
   "metadata": {}
  },
  {
   "cell_type": "code",
   "execution_count": null,
   "source": [
    "quadrados = list(map(lambda x: x**2, range(10)))\n",
    "\n",
    "print(quadrados)\n",
    "# [0, 1, 4, 9, 16, 25, 36, 49, 64, 81]"
   ],
   "outputs": [],
   "metadata": {}
  },
  {
   "cell_type": "markdown",
   "source": [
    "**Usando _list comprehension_**"
   ],
   "metadata": {}
  },
  {
   "cell_type": "code",
   "execution_count": null,
   "source": [
    "quadrados = [i**2 for i in range(10)]\n",
    "\n",
    "print(quadrados)\n",
    "# [0, 1, 4, 9, 16, 25, 36, 49, 64, 81]"
   ],
   "outputs": [],
   "metadata": {}
  },
  {
   "cell_type": "markdown",
   "source": [
    "## Alterar o *loop*\n",
    "-------------------\n",
    "\n",
    "Dependendo da necessidade do nosso código, um fator externo pode influenciar o funcionamento do programa. Para isso, podemos adicionar algumas expressões que realizam diferentes ações dentro de estruturas de repetição.\n",
    "\n",
    "**QUEBRAR:** `break`\n",
    "Ao adicionar essa expressão, toda vez que uma condição acionar essa ação, todo a estrutura de repetição é interrompida.\n",
    "\n",
    "**CONTINUAR:** `continue`\n",
    "Utilizando essa ação, o pedaço posterior do código será interrompido, mas o *loop* ainda será preservado.\n",
    "\n",
    "**IGNORAR:** `pass`\n",
    "Essa expressão permite que o programa continue a rodar, mesmo que uma condição foi atendida."
   ],
   "metadata": {}
  },
  {
   "cell_type": "markdown",
   "source": [
    "### `break`"
   ],
   "metadata": {}
  },
  {
   "cell_type": "code",
   "execution_count": null,
   "source": [
    "# Para 'i' de 0 até 9\n",
    "for i in range(10):\n",
    "\n",
    "    # Se i for igual a 5...\n",
    "    if i == 5:\n",
    "        break # Quebra o loop\n",
    "\n",
    "    print('Número é ' + str(i))\n",
    "\n",
    "print('Fim do loop!')\n",
    "\n",
    "# Número é 0\n",
    "# Número é 1\n",
    "# Número é 2\n",
    "# Número é 3\n",
    "# Número é 4\n",
    "# Fim do loop!"
   ],
   "outputs": [],
   "metadata": {}
  },
  {
   "cell_type": "markdown",
   "source": [
    "### `continue`"
   ],
   "metadata": {}
  },
  {
   "cell_type": "code",
   "execution_count": null,
   "source": [
    "# Para 'i' de 0 até 9\n",
    "for i in range(10):\n",
    "\n",
    "    # Se i for igual a 5...\n",
    "    if i == 5:\n",
    "        continue # Pula apenas essa \"rodada\"\n",
    "\n",
    "    print('Número é ' + str(i))\n",
    "\n",
    "print('Fim do loop!')\n",
    "\n",
    "# Número é 0\n",
    "# Número é 1\n",
    "# Número é 2\n",
    "# Número é 3\n",
    "# Número é 4\n",
    "# Número é 6\n",
    "# Número é 7\n",
    "# Número é 8\n",
    "# Número é 9\n",
    "# Fim do loop!"
   ],
   "outputs": [],
   "metadata": {}
  },
  {
   "cell_type": "markdown",
   "source": [
    "### `pass`"
   ],
   "metadata": {}
  },
  {
   "cell_type": "code",
   "execution_count": null,
   "source": [
    "# Para 'i' de 0 até 9\n",
    "for i in range(10):\n",
    "\n",
    "    # Se i for igual a 5...\n",
    "    if i == 5:\n",
    "        pass # Só ignora\n",
    "\n",
    "    print('Número é ' + str(i))\n",
    "\n",
    "print('Fim do loop!')\n",
    "\n",
    "# Número é 0\n",
    "# Número é 1\n",
    "# Número é 2\n",
    "# Número é 3\n",
    "# Número é 4\n",
    "# Número é 5\n",
    "# Número é 6\n",
    "# Número é 7\n",
    "# Número é 8\n",
    "# Número é 9\n",
    "# Fim do loop!"
   ],
   "outputs": [],
   "metadata": {}
  },
  {
   "cell_type": "markdown",
   "source": [
    "# FUNÇÕES\n",
    "---------\n",
    "\n",
    "Seguindo essa *playlist* de Python, você já utilizou diversas funções *build-in* (ou seja, da própria ferramenta) e externas usando as bibliotecas. Contudo, não acha que seria muito útil você criar as suas próprias funções? Existem alguns motivos principais para criar uma função personalizada:\n",
    "\n",
    "- Executar algum procedimento muito específico para o seu projeto;\n",
    "- Possuir alguma etapa ou processo repetitivo;\n",
    "- Conseguir chamar essa função para outros projetos (criar um biblioteca própria);\n",
    "\n",
    "Além disso, vale reforçar que as funções são muito poderosas pela forma que podemos trabalhar com os dados de entrada e saída.\n",
    "\n",
    "A estrutura básica de uma função é dada pelo exemplo abaixo:\n",
    "\n",
    "```\n",
    "def <função>(<parâmetros>):\n",
    "\n",
    "    \"\"\"\n",
    "    <docstring>\n",
    "    \"\"\"\n",
    "\n",
    "    ...\n",
    "    ...\n",
    "\n",
    "    return <valor>\n",
    "```\n",
    "\n",
    "**`def`**: Define a estrutura de uma função;\n",
    "\n",
    "**`<função>`**: Este será o nome da função e como ela será chamada ao longo do código (não pode conter espaços em branco);\n",
    "\n",
    "**`<parâmetros>`**: (Opcional) Responsável pela entrada de informação utilizada dentro da função, como veremos em breve;\n",
    "\n",
    "**`<docstring>`**: (Opcional) Todo texto comentado por parênteses no topo da função se torna a documentação dessa função, essa é uma prática altamente recomendada (comente o que a função faz, brevemente, o que ela recebe e o que retorna);\n",
    "\n",
    "**`return`**: (Opcional) Toda função retorna algum valor (saída), caso nada seja declarado ela retornará `None`;\n",
    "\n",
    "**`<valor>`** O que será retornado."
   ],
   "metadata": {}
  },
  {
   "cell_type": "markdown",
   "source": [
    "**Função mínima**  \n",
    "Definimos que a função chama `olá_mundo` e recebe nenhum argumento."
   ],
   "metadata": {}
  },
  {
   "cell_type": "code",
   "execution_count": null,
   "source": [
    "def olá_mundo():\n",
    "    print('Olá, Mundo!')\n",
    "    # Como não existe o return, vai retornar None\n",
    "\n",
    "print(olá_mundo())\n",
    "# Olá, Mundo!\n",
    "# None"
   ],
   "outputs": [],
   "metadata": {}
  },
  {
   "cell_type": "markdown",
   "source": [
    "É um péssimo hábito \"retornar\" um print!"
   ],
   "metadata": {}
  },
  {
   "cell_type": "markdown",
   "source": [
    "**Função mínima 2**  \n",
    "Definimos que a função chama `olá_mundo` e recebe nenhum parâmetro."
   ],
   "metadata": {}
  },
  {
   "cell_type": "code",
   "execution_count": null,
   "source": [
    "def olá_mundo():\n",
    "    return 'Olá, Mundo!'\n",
    "\n",
    "print(olá_mundo())\n",
    "# Olá, Mundo!"
   ],
   "outputs": [],
   "metadata": {}
  },
  {
   "cell_type": "markdown",
   "source": [
    "## Parâmetros\n",
    "-------------\n",
    "\n",
    "Primeiro, vamos desmistificar uma confusão comum quando estamos trabalhando com funções: a diferença entre **argumentos** e **parâmetros**. Quando estamos construindo uma função, as variáveis que definimos para serem as entradas são definidas como \"parâmetros\". Contudo, quando chamamos esse método estamos passando \"argumentos\" para rodar essa função. Ou seja, parâmetro é a variável declarada na função e o argumento e o valor de fato da variável que será utilizado na função.\n",
    "\n",
    "Vejamos um exemplo básico para entender o funcionamento dos parâmetros/argumentos."
   ],
   "metadata": {}
  },
  {
   "cell_type": "markdown",
   "source": [
    "**Bom dia**"
   ],
   "metadata": {}
  },
  {
   "cell_type": "code",
   "execution_count": null,
   "source": [
    "# Criamos a função\n",
    "# Ela recebe um parâmetro obrigatório chamado 'nome'\n",
    "# Dessa forma, a partir dessa variável, podemos utilizá-la ao longo da função (sabendo que ela será um str)\n",
    "def bom_dia(nome):\n",
    "    \"Dado um nome, retorna uma mensagem de bom dia para esse nome.\"\n",
    "    return f'Bom dia, {nome}!'\n",
    "\n",
    "# Passamos o argumento \"Fulano\" para a função (parâmetro posicional)\n",
    "print(bom_dia('Fulano'))\n",
    "\n",
    "# Podemos também definir que \"nome\" deve ser igual a \"Ciclano\"\n",
    "print(bom_dia(nome='Ciclano'))"
   ],
   "outputs": [],
   "metadata": {}
  },
  {
   "cell_type": "markdown",
   "source": [
    "### `args`\n",
    "\n",
    "Parâmetros obrigatórios, mas podem ter valores padrão."
   ],
   "metadata": {}
  },
  {
   "cell_type": "markdown",
   "source": [
    "**Calculadora básica**"
   ],
   "metadata": {}
  },
  {
   "cell_type": "code",
   "execution_count": null,
   "source": [
    "# Definimos que a função 'calculadora' possui dois parâmetros, 'x' e 'y'\n",
    "# Por padrão, x = 1 e y = 1, dessa forma, se nenhum argumento for passado, estes srão os seus valores\n",
    "def calculadora(x = 1, y = 1):\n",
    "\t\t# Docstring\n",
    "    \"\"\"\n",
    "    Calculadora\n",
    "    -----------\n",
    "\n",
    "    Cria um dicionário com as principais operações matemáticas, dado dois números.\n",
    "\n",
    "    args\n",
    "    ----\n",
    "\n",
    "        x : int ou float\n",
    "        Primeiro número de entrada\n",
    "\n",
    "        y : int ou float\n",
    "        Segundo número de entrada\n",
    "    \n",
    "    return\n",
    "    ------\n",
    "    \n",
    "        dict\n",
    "        {'operação' : valor}\n",
    "    \"\"\"\n",
    "\n",
    "    # Retornamos um dicionário com as operações básicas\n",
    "    return {\n",
    "        'soma' : x + y,\n",
    "        'subtração' : x - y,\n",
    "        'divisão' : x / y,\n",
    "        'multiplicação' : x * y,\n",
    "        'potência' : x ** y\n",
    "    }\n",
    "\n",
    "a = 3\n",
    "b = 5\n",
    "\n",
    "# 'resultado' recebe o 'return' da função 'calculadora'\n",
    "resultado = calculadora(a, b)\n",
    "# resultado = calculadora(x = a, y = b)\n",
    "\n",
    "print(resultado)\n",
    "# {'soma': 8, 'subtração': -2, 'divisão': 0.6, 'multiplicação': 15, 'potência': 243}\n",
    "\n",
    "\n",
    "# Caso nenhum argumento seja passado, x = 1 e y = 1\n",
    "print(calculadora())\n",
    "# {'soma': 2, 'subtração': 0, 'divisão': 1.0, 'multiplicação': 1, 'potência': 1}"
   ],
   "outputs": [],
   "metadata": {}
  },
  {
   "cell_type": "markdown",
   "source": [
    "### `*argv`\n",
    "\n",
    "Lista de valores com tamanho indeterminado. `*argv` é apenas um nome comum para esse tipo de parâmetro, o necessário é utilizar o `*`."
   ],
   "metadata": {}
  },
  {
   "cell_type": "markdown",
   "source": [
    "**Mensagem para todos**"
   ],
   "metadata": {}
  },
  {
   "cell_type": "code",
   "execution_count": null,
   "source": [
    "# 'mensagem' é um argumento posicional\n",
    "# Tudo que vier depois vai se tornar uma lista salva em 'nomes'\n",
    "def mensagem(mensagem, *nomes):\n",
    "    \"Manda uma 'mensagem' para a lista de 'nomes'\"\n",
    "    for i in nomes:\n",
    "        print(f'{mensagem}, {i}.')\n",
    "\n",
    "mensagem('Oi', 'Carol', 'Beatriz', 'Pedro', 'Carlos')"
   ],
   "outputs": [],
   "metadata": {}
  },
  {
   "cell_type": "markdown",
   "source": [
    "### `**kwargs`\n",
    "\n",
    "Dicionário de parâmetros opcionais e devem ser chamados no formato `<parâmetro> = <argumento>`. `**kwargs` é apenas um nome comum para esse tipo de parâmetro, o necessário é utilizar o `**`."
   ],
   "metadata": {}
  },
  {
   "cell_type": "markdown",
   "source": [
    "**Preço de produto**"
   ],
   "metadata": {}
  },
  {
   "cell_type": "code",
   "execution_count": null,
   "source": [
    "# 'preço' é o parâmetro posicional\n",
    "# '**kwargs' vai receber os demais parâmetros em formato de dicionário\n",
    "def preço_final(preço, **kwargs):\n",
    "\n",
    "    \"\"\"\n",
    "    Preço final\n",
    "    -----------\n",
    "\n",
    "    Calcula o valor final de um produto.\n",
    "\n",
    "    args\n",
    "    ----\n",
    "\n",
    "        preço : float\n",
    "        Preço inicial do produto\n",
    "\n",
    "    **kwargs\n",
    "    --------\n",
    "\n",
    "        imposto : float\n",
    "        Imposto sobre o preço (%)\n",
    "\n",
    "        desconto : float\n",
    "        Desconto sobre o preço (%)\n",
    "\n",
    "    return\n",
    "    ------\n",
    "\n",
    "        float\n",
    "        Valor final do valor do produto\n",
    "    \"\"\"\n",
    "\n",
    "    # Resgata os valores do dicionário 'kwargs'\n",
    "    imposto = kwargs.get('imposto')\n",
    "    desconto = kwargs.get('desconto')\n",
    "\n",
    "    # Se 'imposto' não for vazio (existir)\n",
    "    if imposto:\n",
    "        preço += preço * (imposto/100)\n",
    "\n",
    "    # Se 'desconto' não for vazio (existir)\n",
    "    if desconto:\n",
    "        preço -= preço * (desconto/100)\n",
    "    \n",
    "    # Retorna o preço calculado\n",
    "    return preço\n",
    "\n",
    "valor_inicial = 80\n",
    "imposto = 12.5\n",
    "desconto = 5\n",
    "\n",
    "# Mesmo não passando todas os possíveis parâmetros para **kwargs, a função ainda funciona\n",
    "print(preço_final(valor_inicial, imposto = imposto, desconto = desconto))\n",
    "# 85.5\n",
    "\n",
    "# Teste mudando os valores ou comentando os parâmetros opcionais"
   ],
   "outputs": [],
   "metadata": {}
  },
  {
   "cell_type": "markdown",
   "source": [
    "A combinação de todos esses tipos de parâmetros também é possível, seguindo a ordem: `(args, *argv, **kwargs)`."
   ],
   "metadata": {}
  },
  {
   "cell_type": "markdown",
   "source": [
    "## Variáveis globais e locais\n",
    "-----------------------------\n",
    "\n",
    "Uma variável global é uma variável definida que vale para todo o código.\n",
    "\n",
    "Uma variável local é uma variável definida no escopo de uma função e só possui esse valor durante a execução desse método."
   ],
   "metadata": {}
  },
  {
   "cell_type": "code",
   "execution_count": null,
   "source": [
    "# Variável global\n",
    "x = 50\n",
    "\n",
    "def f():\n",
    "    # Variável local\n",
    "    x = 20\n",
    "    print(x)\n",
    "\n",
    "print(x)  # 50\n",
    "f()       # 20\n",
    "print(x)  # 50"
   ],
   "outputs": [],
   "metadata": {}
  },
  {
   "cell_type": "markdown",
   "source": [
    "## Funções anônimas (`lambda`)\n",
    "------------------------------\n",
    "\n",
    "Caso precisamos fazer uma operação simples, podemos construir uma função anônima: podem ter qualquer número de argumentos, mas só podem ter uma expressão.\n",
    "\n",
    "`lambda <argumentos> : <expressão>`"
   ],
   "metadata": {}
  },
  {
   "cell_type": "markdown",
   "source": [
    "**Multiplicação**"
   ],
   "metadata": {}
  },
  {
   "cell_type": "code",
   "execution_count": null,
   "source": [
    "# A variável 'vezes' vai \"segurar\" a função anônima\r\n",
    "vezes = lambda a, b : a * b\r\n",
    "\r\n",
    "# Utiliza a função\r\n",
    "print(vezes(3, 17)) # 51"
   ],
   "outputs": [],
   "metadata": {}
  },
  {
   "cell_type": "markdown",
   "source": [
    "**Potência**  \n",
    "Vamos misturar as funções \"normais\" e anônimas."
   ],
   "metadata": {}
  },
  {
   "cell_type": "code",
   "execution_count": null,
   "source": [
    "# Função potência\n",
    "def potência(n):\n",
    "    \"Retorna uma função anônima que vai ser a potência de 'n'\"\n",
    "    return lambda a : a ** n\n",
    "\n",
    "# Função x^2\n",
    "ao_quadrado = potência(2)\n",
    "\n",
    "# Função x^3\n",
    "ao_cubo     = potência(3)\n",
    "\n",
    "# Testa as funções\n",
    "print(ao_quadrado(5))  # 25\n",
    "print(ao_cubo(5))      # 125"
   ],
   "outputs": [],
   "metadata": {}
  },
  {
   "cell_type": "markdown",
   "source": [
    "# CLASSES\n",
    "---------\n",
    "\n",
    "**PLOT-TWIST**: Estamos usando as classes desde o início desse material 🤯\n",
    "\n",
    "Se você lembrar da saída do comando `type` que utilizamos na seção de *tipos de dados*, ela era no estilo `<class ...>`. Então, cada tipo de dado na verdade é uma classe, conhecido também como \"objeto\". Um objeto é uma estrutura de informação capaz de possuir dados, chamados de atributos, e código, conhecido como métodos (semelhantes as funções que já estudamos, mas funcionam apenas para os objetos criados a partir dessa classe).\n",
    "\n",
    "Ao criar uma nova classe, podemos criar um objeto com uma estrutura de dados única e com métodos bem definidos que, em programas mais complexos, se torna muito útil.\n",
    "\n",
    "Formato padrão:\n",
    "\n",
    "```\n",
    "class <Nome>(<herança>):\n",
    "\n",
    "    \"\"\"\n",
    "    <docstring>\n",
    "    \"\"\"\n",
    "\n",
    "    def <função1>(self, <parâmetros>):\n",
    "        ...\n",
    "        ...\n",
    "\n",
    "    ...\n",
    "    ...\n",
    "```\n",
    "\n",
    "**`class`**: Define a estrutura de uma classe;\n",
    "\n",
    "**`<Nome>`**: Este será o nome da classe e como ela será chamada ao longo do código (não pode conter espações em branco);\n",
    "\n",
    "**`<herança>`**: (Opcional) Herda os métodos e parâmetros da classe <herança>;\n",
    "\n",
    "**`<docstring>`**: (Opcional) Todo texto comentado por parênteses no topo da classe se torna a documentação dessa classe, essa é uma prática altamente recomendada;\n",
    "\n",
    "**`<função1>`**: (Opcional) Função/método da classe;\n",
    "\n",
    "**`self`**: Atributo que chama os demais atributos do objeto e os métodos da classe;\n",
    "\n",
    "**`<parâmetros>`**: (Opcional) Responsável pela entrada de informação utilizada dentro da função;"
   ],
   "metadata": {}
  },
  {
   "cell_type": "markdown",
   "source": [
    "## _Magic methods_\n",
    "------------------\n",
    "\n",
    "Existem alguns métodos especiais com nomes pré-definidos que possuem propriedades únicas. Por exemplo, a concatenação de duas `str` a partir do sinal `+` é definida no método `__add__`. Você pode encontrar uma lista completa desses métodos pelo nome *magic methods*.\n",
    "\n",
    "Um método comum em classes é o `__init__` que é iniciado na criação do objeto."
   ],
   "metadata": {}
  },
  {
   "cell_type": "markdown",
   "source": [
    "## Dados protegidos\n",
    "-------------------\n",
    "\n",
    "Nas linguagens orientada a objetos é comum existir o conceito de campos públicos, privados e protegidos. Esses conceitos se referem se um dado atributo ou método é acessível fora do escopo da classe. No caso do Python, não existe nenhum método para evidentemente atribuir esses status aos dados da classe. Contudo, existe um consenso de adicionar um `_` na frente dos nomes dos atributos e métodos para identificá-los como privados, ou seja, acesso apenas para dentro da classe.\n",
    "\n",
    "Apenas para deixar um pouco mais claro, essa prática pode controlar quando o usuário tem permissão ou não para fazer uma atribuição. Por exemplo:\n",
    "\n",
    "`objeto.atributo = novo_valor`\n",
    "\n",
    "Por esse motivo, é muito comum ver que algumas classes possuem vários métodos com o único propósito de retornar um valor de um atributo, de forma que assim não é possível escrever, apenas ler o que está registrado.\n",
    "\n",
    "```\n",
    "def get_value(self):\n",
    "\treturn self._value  # Atributo \"privado\"\n",
    "```"
   ],
   "metadata": {}
  },
  {
   "cell_type": "markdown",
   "source": [
    "## Herança\n",
    "----------\n",
    "\n",
    "As classes apresentam uma \"hierarquia\", na qual uma *classe secundária* pode adquirir os atributos e métodos da *classe principal*."
   ],
   "metadata": {}
  },
  {
   "cell_type": "markdown",
   "source": [
    "**RPG Simples**"
   ],
   "metadata": {}
  },
  {
   "cell_type": "code",
   "execution_count": null,
   "source": [
    "# BIBLIOTECAS\n",
    "import os                   # Sistema operacional\n",
    "import sys                  # Sistema-interpretador\n",
    "from random import random   # Gerador de números aleatórios [0,1)\n",
    "from time import sleep      # Aguardar\n",
    "\n",
    "\n",
    "# CLASSES\n",
    "\n",
    "class Jogador():\n",
    "\n",
    "    \"\"\"\n",
    "    # JOGADOR\n",
    "    ---------\n",
    "\n",
    "    Classe primária para criar um objeto do tipo `jogador`.\n",
    "\n",
    "    ## ATRIBUTOS\n",
    "\n",
    "    - Vida\n",
    "    - Mana\n",
    "    - Ataque\n",
    "\n",
    "    ## MÉTODOS\n",
    "\n",
    "    - `atacar()`: Retorna um valor (inteiro) correspondente ao dano físico.\n",
    "    - `magia()`: Retorna um valor (inteiro) correspondente ao dano por magia.\n",
    "    - `descanso()`: Recupera uma fraçã de alguns status do personagem.\n",
    "    - `status()`: Retorna um texto com os atributos do personagem.\n",
    "    \"\"\"\n",
    "    \n",
    "    # Atributos básicos do personagem\n",
    "    # Aqui é possível configurar o balenceamento do jogo\n",
    "    ATRIBUTOS = {\n",
    "        \"Vida\"   : 500,\n",
    "        \"Mana\"   : 200,\n",
    "        \"Ataque\" : 100\n",
    "    }\n",
    "\n",
    "    # Valor que será aplicado nos atributos do personagem\n",
    "    # conforme a especialidade/classe de cada um\n",
    "    VANTAGENS = {\n",
    "        \"Fraqueza\"  : 0.8,\n",
    "        \"Normal\"    : 1.0,\n",
    "        \"Força\"     : 1.2\n",
    "    }\n",
    "\n",
    "    # Fração mínima e máxima de dano, respectivamente\n",
    "    DANO_AMPLITUDE = (0.5, 1.5)\n",
    "\n",
    "    # Custo no uso de magia para a mana\n",
    "    MAGIA_CUSTO = 50\n",
    "\n",
    "    # Fração de vida e mana recuperada ao final de uma batalha\n",
    "    RECUPERAÇÃO = 0.1\n",
    "\n",
    "\n",
    "    def __init__(self):\n",
    "\n",
    "        \"Configura os atributos básicos.\"\n",
    "        \n",
    "        self.max_vida   = self.ATRIBUTOS[\"Vida\"]\n",
    "        self.vida       = self.max_vida\n",
    "        self.max_mana   = self.ATRIBUTOS[\"Mana\"]\n",
    "        self.mana       = self.max_mana\n",
    "        self.ataque     = self.ATRIBUTOS[\"Ataque\"]\n",
    "\n",
    "    def atacar(self):\n",
    "\n",
    "        \"Calcula o valor de dano físico que o personagem vai infligir nesse turno.\"\n",
    "\n",
    "        return round(((self.DANO_AMPLITUDE[1]-self.DANO_AMPLITUDE[0])*random()+self.DANO_AMPLITUDE[0])*self.ataque)\n",
    "\n",
    "    def magia(self):\n",
    "\n",
    "        \"Calcula o valor de dano mágico que o personagem vai infligir nesse turno.\"\n",
    "\n",
    "        # Custo do uso da magia\n",
    "        self.mana -= self.MAGIA_CUSTO\n",
    "\n",
    "        return round(((self.DANO_AMPLITUDE[1]-self.DANO_AMPLITUDE[0])*random()+self.DANO_AMPLITUDE[0])*self.max_mana)\n",
    "    \n",
    "    def descanso(self):\n",
    "\n",
    "        \"Recupera uma parte das estatísticas do jogador: vida e mana.\"\n",
    "\n",
    "        # Recuperação da vida\n",
    "        self.vida += round(self.max_vida * self.RECUPERAÇÃO)\n",
    "        if self.vida > self.max_vida:\n",
    "            self.vida = self.max_vida\n",
    "        \n",
    "        # Recuperação da mana\n",
    "        self.mana += round(self.max_mana * self.RECUPERAÇÃO)\n",
    "        if self.mana > self.max_mana:\n",
    "            self.mana = self.max_mana\n",
    "\n",
    "    def status(self):\n",
    "\n",
    "        \"Retorna uma `str` com as estatísticas do personagem.\"\n",
    "\n",
    "        return f\"Vida: {self.vida}/{self.max_vida} | Mana: {self.mana}/{self.max_mana} | Ataque: {self.ataque}\"\n",
    "\n",
    "\n",
    "class Guerreiro(Jogador):\n",
    "\n",
    "    \"\"\"\n",
    "    # GUERREIRO\n",
    "    -----------\n",
    "\n",
    "    Classe forte e resistente, com muitos pontos de vida.\n",
    "\n",
    "    - Vida: +++\n",
    "    - Mana: +\n",
    "    - Ataque: ++\n",
    "    \"\"\"\n",
    "\n",
    "    def __init__(self):\n",
    "        \n",
    "        \"Atualiza os atributos básicos.\"\n",
    "        \n",
    "        # Resgata os atributos da classe pai.\n",
    "        # Nese caso, não é necessário, pois não possuiu parâmetros.\n",
    "        super().__init__()\n",
    "\n",
    "        self.max_vida   = round(self.max_vida * self.VANTAGENS[\"Força\"])\n",
    "        self.vida       = self.max_vida\n",
    "        self.max_mana   = round(self.max_mana * self.VANTAGENS[\"Fraqueza\"])\n",
    "        self.mana       = self.max_mana\n",
    "        self.ataque     = round(self.ataque * self.VANTAGENS[\"Normal\"])\n",
    "        \n",
    "\n",
    "class Ninja(Jogador):\n",
    "\n",
    "    \"\"\"\n",
    "    # NINJA\n",
    "    -------\n",
    "\n",
    "    Classe preparada para o dano físico, com muitos pontos de ataque.\n",
    "\n",
    "    - Vida: +\n",
    "    - Mana: ++\n",
    "    - Ataque: +++\n",
    "    \"\"\"\n",
    "\n",
    "    def __init__(self):\n",
    "\n",
    "        \"Atualiza os atributos básicos.\"\n",
    "        \n",
    "        # Resgata os atributos da classe pai.\n",
    "        # Nese caso, não é necessário, pois não possuiu parâmetros.\n",
    "        super().__init__()\n",
    "\n",
    "        self.max_vida   = round(self.max_vida * self.VANTAGENS[\"Fraqueza\"])\n",
    "        self.vida       = self.max_vida\n",
    "        self.max_mana   = round(self.max_mana * self.VANTAGENS[\"Normal\"])\n",
    "        self.mana       = self.max_mana\n",
    "        self.ataque     = round(self.ataque * self.VANTAGENS[\"Força\"])\n",
    "\n",
    "\n",
    "class Mago(Jogador):\n",
    "\n",
    "    \"\"\"\n",
    "    # MAGO\n",
    "    ------\n",
    "\n",
    "    Classe especializada em magia, com muitos pontos de mana.\n",
    "\n",
    "    - Vida: ++\n",
    "    - Mana: +++\n",
    "    - Ataque: +\n",
    "    \"\"\"\n",
    "\n",
    "    def __init__(self):\n",
    "\n",
    "        \"Atualiza os atributos básicos.\"\n",
    "        \n",
    "        # Resgata os atributos da classe pai.\n",
    "        # Nese caso, não é necessário, pois não possuiu parâmetros.\n",
    "        super().__init__()\n",
    "\n",
    "        self.max_vida   = round(self.max_vida * self.VANTAGENS[\"Normal\"])\n",
    "        self.vida       = self.max_vida\n",
    "        self.max_mana   = round(self.max_mana * self.VANTAGENS[\"Força\"])\n",
    "        self.mana       = self.max_mana\n",
    "        self.ataque     = round(self.ataque * self.VANTAGENS[\"Fraqueza\"])\n",
    "\n",
    "\n",
    "class Inimigo():\n",
    "\n",
    "    \"\"\"\n",
    "    # INIMIGO\n",
    "    ---------\n",
    "\n",
    "    Classe primária para criar um objeto do tipo `inimigo`.\n",
    "\n",
    "    ## ATRIBUTOS\n",
    "\n",
    "    - Vida\n",
    "    - Ataque\n",
    "\n",
    "    ## MÉTODOS\n",
    "\n",
    "    - `atacar()`: Retorna um valor (inteiro) correspondente ao dano físico.\n",
    "    - `status()`: Retorna um texto com os atributos do personagem.\n",
    "    \"\"\"\n",
    "\n",
    "    ATRIBUTOS = dict(zip(\n",
    "        Jogador().ATRIBUTOS.keys(), \n",
    "        list(map(lambda x: x*0.65, list(Jogador.ATRIBUTOS.values())))\n",
    "        ))\n",
    "    \n",
    "    DANO_AMPLITUDE = (0.5, 1.5)\n",
    "\n",
    "    def __init__(self):\n",
    "\n",
    "        \"Configura os atributos básicos.\"\n",
    "        \n",
    "        self.max_vida   = round(self.ATRIBUTOS[\"Vida\"] * (0.5 + random()))\n",
    "        self.vida       = self.max_vida\n",
    "        # self.max_mana   = self.ATRIBUTOS[\"Mana\"]\n",
    "        # self.mana       = self.max_mana\n",
    "        self.ataque     = round(self.ATRIBUTOS[\"Ataque\"] * (0.5 + random()))\n",
    "\n",
    "    def atacar(self):\n",
    "\n",
    "        \"Calcula o valor de dano físico que o inimgo vai infligir nesse turno.\"\n",
    "\n",
    "        return round(((self.DANO_AMPLITUDE[1]-self.DANO_AMPLITUDE[0])*random()+self.DANO_AMPLITUDE[0])*self.ataque)\n",
    "\n",
    "    def status(self):\n",
    "\n",
    "        \"Retorna uma `str` com as estatísticas do inimigo.\"\n",
    "\n",
    "        # return f\"Vida: {self.vida}/{self.max_vida} | Mana: {self.mana}/{self.max_mana} | Ataque: {self.ataque}\"\n",
    "        return f\"Vida: {self.vida}/{self.max_vida} | Ataque: {self.ataque}\"\n",
    "\n",
    "\n",
    "# FUNÇÕES\n",
    "\n",
    "def clear():\n",
    "\n",
    "    \"Limpa o terminal.\"\n",
    "\n",
    "    os.system('cls' if os.name=='nt' else 'clear')\n",
    "\n",
    "# MAIN\n",
    "# Roda apenas se este programa que está em execução e não caso tenha sido importado.\n",
    "if __name__ == '__main__':\n",
    "\n",
    "    # Opções de clases\n",
    "    CLASSES = {\n",
    "        \"Guerreiro\" : Guerreiro(),\n",
    "        \"Ninja\"     : Ninja(),\n",
    "        \"Mago\"      : Mago()\n",
    "    }\n",
    "\n",
    "    clear() # Limpa o terminal\n",
    "\n",
    "    print(\"Classes disponíveis:\")\n",
    "    # Mostra as classes disponíveis\n",
    "    for i in CLASSES:\n",
    "        print(f\"- {i}\")\n",
    "    \n",
    "    # Escolha de classe\n",
    "    while True:\n",
    "        # Já \"limpa\" a string de entrada\n",
    "        escolha = input(\"\\nEscolha a sua classe:\").capitalize().replace(\" \",\"\")\n",
    "        try:\n",
    "            player = CLASSES[escolha]\n",
    "            break\n",
    "        except:\n",
    "            print(\"\\nEscolha inválida!\")\n",
    "\n",
    "    # Pontuação do jogador\n",
    "    score = 0\n",
    "    \n",
    "    while True:\n",
    "\n",
    "        clear()  # Limpa o terminal\n",
    "\n",
    "        print(\"Um novo inimigo aparece!\\n\")\n",
    "        inimigo = Inimigo() # Gera um novo inimigo\n",
    "\n",
    "        while True:\n",
    "            \n",
    "            # Estatística dos objetos\n",
    "            print(f\"INIMIGO: {inimigo.status()}\")\n",
    "            print(f\"JOGADOR: {player.status()}\")\n",
    "\n",
    "            # Opções de ações\n",
    "            print(\"\\nATACAR | MAGIA | SAIR\")\n",
    "\n",
    "            while True:\n",
    "                \n",
    "                # Escolha de ação do usuário\n",
    "                evento = input(\"\\nO que fazer? \").lower().replace(\" \",\"\") \n",
    "\n",
    "                # ATACAR\n",
    "                if evento == \"atacar\":\n",
    "                    dano = player.atacar()  # Calcula o dano\n",
    "                    print(f\"\\nVocê ataca o inimigo e inflige {dano} de dano.\")\n",
    "                    inimigo.vida -= dano    # Aplica o dano\n",
    "                    break\n",
    "                \n",
    "                # MAGIA\n",
    "                elif evento == \"magia\":\n",
    "                    # Verifica se possui mana suficiente\n",
    "                    if player.mana >= player.MAGIA_CUSTO:\n",
    "                        dano = player.magia()   # Calcula o dano\n",
    "                        print(f\"\\nVocê usa uma magia no inimigo e inflige {dano} de dano.\")\n",
    "                        inimigo.vida -= dano    # Aplica o dano\n",
    "                        break\n",
    "                    else:\n",
    "                        print(\"Mana insuficiente!\")\n",
    "                \n",
    "                # SAIR\n",
    "                elif evento == \"sair\":\n",
    "                    print(f\"\\nFim de jogo!\\nPontuação: {score}\")\n",
    "                    sys.exit()  # Fecha o interpretador\n",
    "                    \n",
    "                else:\n",
    "                    print(\"\\nComando inválido!\")\n",
    "            \n",
    "            # Inimigo vivo, ataca\n",
    "            if inimigo.vida > 0:\n",
    "                sleep(1)    # Espera\n",
    "                dano = inimigo.atacar() # Calcula o dano\n",
    "                print(f\"O inimigo te ataca e inflige {dano} de dano.\\n\")\n",
    "                sleep(1)    # Espera\n",
    "                player.vida -= dano     # Aplica o dano\n",
    "\n",
    "            # Inimigo morto\n",
    "            else:\n",
    "                score += 1  # Aumenta pontuação\n",
    "                print(\"\\nVocê aniquilou o inimigo!\")\n",
    "                sleep(1)    # Espera\n",
    "                player.descanso()   # Restaura um pouco o player\n",
    "                print(\"\\nVocê consegue descansar um pouco.\")\n",
    "                sleep(2)    # Espera\n",
    "                break\n",
    "            \n",
    "            # Se jogador está sem vida\n",
    "            if player.vida <= 0:\n",
    "                print(f\"\\nFim de jogo!\\nPontuação: {score}\")\n",
    "                sys.quit()  # Fecha o interpretador"
   ],
   "outputs": [],
   "metadata": {}
  }
 ],
 "metadata": {
  "kernelspec": {
   "display_name": "Python 3",
   "language": "python",
   "name": "python3"
  },
  "language_info": {
   "codemirror_mode": {
    "name": "ipython",
    "version": 3
   },
   "file_extension": ".py",
   "mimetype": "text/x-python",
   "name": "python",
   "nbconvert_exporter": "python",
   "pygments_lexer": "ipython3",
   "version": "3.8.8"
  }
 },
 "nbformat": 4,
 "nbformat_minor": 5
}