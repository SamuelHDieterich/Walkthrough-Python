{
 "metadata": {
  "language_info": {
   "codemirror_mode": {
    "name": "ipython",
    "version": 3
   },
   "file_extension": ".py",
   "mimetype": "text/x-python",
   "name": "python",
   "nbconvert_exporter": "python",
   "pygments_lexer": "ipython3",
   "version": 3
  },
  "orig_nbformat": 2
 },
 "nbformat": 4,
 "nbformat_minor": 2,
 "cells": [
  {
   "cell_type": "markdown",
   "source": [
    "# CONDIÇÕES\n",
    "-----------\n",
    "\n",
    "As condições são verificações lógicas, dessa forma, baseado na resposta de uma pergunta no estilo \"sim ou não\" (verdadeiro ou falso), executamos determinadas partes do código.\n",
    "No Python, utilizamos o `if` (\"se\") para criar uma estrutura condicional e os operadores condicionais para fazer a verificação lógica, como veremos a seguir. Caso o retorno seja verdadeiro, aquilo que estiver abaixo e deslocado à direita (indentação) será executado. Em caso contrário, essa parte do código será desconsiderada. Contudo, podemos fazer condições mais complexas com mais de uma verificação."
   ],
   "metadata": {}
  },
  {
   "cell_type": "markdown",
   "source": [
    "## Operadores lógicos\n",
    "---------------------\n",
    "\n",
    "**SE:** `if`  \n",
    "**SE-SENÃO:** `elif`  \n",
    "**SENÃO:** `else`  \n",
    "\n",
    "**Igual a:** `a == b`  \n",
    "**Diferente de:** `a != b`  \n",
    "**Menor que:** `a < b`  \n",
    "**Menor ou igual a:** `a <= b`  \n",
    "**Maior que:** `a > b`  \n",
    "**Maior ou igual a:** `a >= b`  \n",
    "\n",
    "**E:** `and`  \n",
    "**OU:** `or`  \n",
    "**NÂO:** `not`  \n",
    "**EM:** `in`  \n",
    "**MESMO:** `is`  "
   ],
   "metadata": {}
  },
  {
   "cell_type": "markdown",
   "source": [
    "**Qual número é maior?**"
   ],
   "metadata": {}
  },
  {
   "cell_type": "code",
   "execution_count": null,
   "source": [
    "# Entrada do usuário\n",
    "a = float(input('Digite o primeiro número: '))\n",
    "b = float(input('Digite o segundo número: '))\n",
    "\n",
    "# if <arg> <operador> <arg>: \n",
    "if a > b:\n",
    "    print(f'{a} é maior que {b}')\n",
    "\n",
    "# Só será testado se a condição anterior for falsa\n",
    "# elif <arg> <operador> <arg>: \n",
    "elif a == b:\n",
    "    print(f'{a} é igual a {b}')\n",
    "\n",
    "# 'else' não leva nenhum argumento e só será executado \n",
    "# se nenhuma condição for atendida\n",
    "else:\n",
    "    print(f'{a} é menor que {b}')"
   ],
   "outputs": [],
   "metadata": {}
  },
  {
   "cell_type": "markdown",
   "source": [
    "**Estados brasileiros**"
   ],
   "metadata": {}
  },
  {
   "cell_type": "code",
   "execution_count": null,
   "source": [
    "# Siglas dos estados brasileiros em um 'frozenset'\n",
    "estados = frozenset({\n",
    "    'AC', 'AL', 'AP', 'AM', 'BA', 'CE', \n",
    "    'DF', 'ES', 'GO', 'MA', 'MT', 'MS', \n",
    "    'MG', 'PA', 'PB', 'PR', 'PE', 'PI', \n",
    "    'RJ', 'RN', 'RS', 'RO', 'RR', 'SC', \n",
    "    'SP', 'SE', 'TO'\n",
    "    })\n",
    "\n",
    "# Entrada do usuário\n",
    "resposta = str(input('Digite a sigla de um estado brasileiro: '))\n",
    "resposta = resposta.upper()            # Coloca o texto em maísculo\n",
    "resposta = resposta.replace(\" \",\"\")    # Tira os espaços em branco\n",
    "\n",
    "# Verifica se a entrada do usuário está no conjunto\n",
    "if resposta in estados:\n",
    "    print('Muito bem! 😃')\n",
    "\n",
    "else:\n",
    "    print(f\"'{resposta}' não é um estado brasileiro válido.\")"
   ],
   "outputs": [],
   "metadata": {}
  },
  {
   "cell_type": "markdown",
   "source": [
    "## Tentativa e erro\n",
    "-------------------\n",
    "\n",
    "Dependendo do procedimento do código, receber uma variável errada, algum erro de utilização do usuário, pode quebrar o programa. Para evitar (ou minimizar) isso e deixar o programa mais \"inteligente\", podemos preparar o código para tais situações a partir dos comandos `try` e `except`.\n",
    "\n",
    "**TENTE:** `try`  \n",
    "**EXCEÇÃO:** `except <erro>`"
   ],
   "metadata": {}
  },
  {
   "cell_type": "markdown",
   "source": [
    "**Digite um número inteiro**"
   ],
   "metadata": {}
  },
  {
   "cell_type": "code",
   "execution_count": null,
   "source": [
    "# Tenta executar as seguintes linhas\n",
    "try:\n",
    "    # Entrada do usuário\n",
    "    num = int(input('Digite um número inteiro: '))\n",
    "    print(f'O número digitado foi: {num}')\n",
    "\n",
    "# Se a qualquer momento dentro de 'try' der um erro do tipo explícito, \n",
    "# as seguintes linhas são executadas\n",
    "except ValueError:\n",
    "    print('Erro de entrada')"
   ],
   "outputs": [],
   "metadata": {}
  },
  {
   "cell_type": "markdown",
   "source": [
    "### Múltiplos erros\n",
    "\n",
    "A estrutura `try` e `except` aceita um retorno dierente para cada tipo de erro e também uma mesma exceção para diferentes tipos de erros, como veremos no exemplo."
   ],
   "metadata": {}
  },
  {
   "cell_type": "markdown",
   "source": [
    "**Dividir números**"
   ],
   "metadata": {}
  },
  {
   "cell_type": "code",
   "execution_count": null,
   "source": [
    "try:\n",
    "    # Entrada do usuário\n",
    "    num1 = float(input('Digite o numerador: '))\n",
    "    num2 = float(input('Digite o denominador: '))\n",
    "    print(f'O resultado da divisão é: {num1 / num2}')\n",
    "\n",
    "# Caso dê um erro de valor ou de interrupção via teclado\n",
    "# except (<erro1>, <erro2>, ...) as <alguma coisa>:\n",
    "# Assim, ele salva essa tupla de erros em uma variável\n",
    "except (ValueError, KeyboardInterrupt) as erro:\n",
    "    print('Erro de entrada')\n",
    "\n",
    "# Caso o denominador seja igual a zero\n",
    "except ZeroDivisionError:\n",
    "    print('Não é possível dividir por zero')"
   ],
   "outputs": [],
   "metadata": {}
  }
 ]
}